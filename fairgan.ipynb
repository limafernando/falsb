{
 "cells": [
  {
   "cell_type": "markdown",
   "metadata": {},
   "source": [
    "## Import libs"
   ]
  },
  {
   "cell_type": "code",
   "execution_count": 1,
   "metadata": {},
   "outputs": [],
   "source": [
    "from math import sqrt, isnan\n",
    "from pathlib import Path\n",
    "\n",
    "import tensorflow as tf\n",
    "from tensorflow.keras.optimizers import Adam, Adagrad\n",
    "from tensorflow.data import Dataset\n",
    "\n",
    "import numpy as np\n",
    "import pandas as pd\n",
    "import matplotlib.pyplot as plt\n",
    "import seaborn as sns\n",
    "\n",
    "from util import metrics\n",
    "from util.load_data import load_data\n",
    "from util.evaluation import *\n",
    "\n",
    "from fairgan.models import *\n",
    "from fairgan.learning import *"
   ]
  },
  {
   "cell_type": "markdown",
   "metadata": {},
   "source": [
    "## Preliminaries"
   ]
  },
  {
   "cell_type": "code",
   "execution_count": 2,
   "metadata": {},
   "outputs": [],
   "source": [
    "batch_size = 64\n",
    "epochs = 10\n",
    "learning_rate = 0.001\n",
    "ae_opt = Adam(learning_rate=learning_rate)"
   ]
  },
  {
   "cell_type": "code",
   "execution_count": 3,
   "metadata": {},
   "outputs": [],
   "source": [
    "learning_rate = 0.001\n",
    "gen_opt = Adam(learning_rate=learning_rate)\n",
    "disc_opt = Adam(learning_rate=learning_rate)\n",
    "d2_opt = Adam(learning_rate=learning_rate)"
   ]
  },
  {
   "cell_type": "markdown",
   "metadata": {},
   "source": [
    "## Load data"
   ]
  },
  {
   "cell_type": "code",
   "execution_count": 4,
   "metadata": {},
   "outputs": [],
   "source": [
    "x_train, y_train, a_train = load_data('adult', 'train')\n",
    "raw_data = (x_train, y_train, a_train)"
   ]
  },
  {
   "cell_type": "code",
   "execution_count": 5,
   "metadata": {},
   "outputs": [
    {
     "data": {
      "text/plain": [
       "array([0., 0., 0., ..., 1., 0., 0.])"
      ]
     },
     "execution_count": 5,
     "metadata": {},
     "output_type": "execute_result"
    }
   ],
   "source": [
    "x_train[:,-1]"
   ]
  },
  {
   "cell_type": "code",
   "execution_count": 6,
   "metadata": {},
   "outputs": [],
   "source": [
    "'''For the FairGAN model our vector X must not include the protected atribute'''\n",
    "x_train = x_train[:,:-1]"
   ]
  },
  {
   "cell_type": "code",
   "execution_count": 7,
   "metadata": {},
   "outputs": [],
   "source": [
    "#a_train.reshape(24128,)"
   ]
  },
  {
   "cell_type": "code",
   "execution_count": 8,
   "metadata": {},
   "outputs": [],
   "source": [
    "#any(x_train[:,-1] - a_train.reshape(24128,))"
   ]
  },
  {
   "cell_type": "code",
   "execution_count": 9,
   "metadata": {},
   "outputs": [],
   "source": [
    "xdim = x_train.shape[1]\n",
    "ydim = y_train.shape[1]\n",
    "adim = a_train.shape[1]\n",
    "noise_dim = xdim + ydim"
   ]
  },
  {
   "cell_type": "code",
   "execution_count": 10,
   "metadata": {},
   "outputs": [
    {
     "data": {
      "text/plain": [
       "111"
      ]
     },
     "execution_count": 10,
     "metadata": {},
     "output_type": "execute_result"
    }
   ],
   "source": [
    "xdim"
   ]
  },
  {
   "cell_type": "code",
   "execution_count": 11,
   "metadata": {},
   "outputs": [
    {
     "data": {
      "text/plain": [
       "array([0.        , 0.        , 0.        , 1.        , 0.        ,\n",
       "       0.        , 0.        , 0.        , 0.        , 0.        ,\n",
       "       0.        , 0.        , 0.        , 0.        , 0.        ,\n",
       "       0.        , 0.        , 0.        , 0.        , 0.        ,\n",
       "       0.        , 0.        , 1.        , 0.        , 0.        ,\n",
       "       0.        , 0.        , 0.        , 0.        , 0.        ,\n",
       "       0.        , 0.        , 0.        , 1.        , 0.        ,\n",
       "       0.        , 0.        , 1.        , 0.        , 0.        ,\n",
       "       0.        , 0.        , 0.        , 0.        , 1.        ,\n",
       "       0.        , 0.        , 0.        , 0.        , 0.        ,\n",
       "       0.        , 0.        , 0.        , 0.        , 0.        ,\n",
       "       0.        , 1.        , 0.        , 0.        , 0.        ,\n",
       "       0.        , 0.        , 0.        , 0.        , 0.        ,\n",
       "       0.        , 1.        , 0.        , 0.37901745, 0.39795918,\n",
       "       0.        , 0.        , 0.        , 0.        , 0.        ,\n",
       "       0.        , 0.        , 0.        , 0.        , 0.        ,\n",
       "       0.        , 0.        , 0.        , 0.        , 0.        ,\n",
       "       0.        , 0.        , 0.        , 0.        , 0.        ,\n",
       "       0.        , 0.        , 0.        , 0.        , 0.        ,\n",
       "       0.        , 0.        , 0.        , 0.        , 0.        ,\n",
       "       0.        , 0.        , 0.        , 0.        , 0.        ,\n",
       "       0.        , 0.        , 0.        , 1.        , 0.        ,\n",
       "       0.        ])"
      ]
     },
     "execution_count": 11,
     "metadata": {},
     "output_type": "execute_result"
    }
   ],
   "source": [
    "x_train[0]"
   ]
  },
  {
   "cell_type": "code",
   "execution_count": 12,
   "metadata": {},
   "outputs": [
    {
     "data": {
      "text/plain": [
       "array([0.])"
      ]
     },
     "execution_count": 12,
     "metadata": {},
     "output_type": "execute_result"
    }
   ],
   "source": [
    "y_train[0]"
   ]
  },
  {
   "cell_type": "code",
   "execution_count": 13,
   "metadata": {},
   "outputs": [
    {
     "data": {
      "text/plain": [
       "array([0.])"
      ]
     },
     "execution_count": 13,
     "metadata": {},
     "output_type": "execute_result"
    }
   ],
   "source": [
    "a_train[0]"
   ]
  },
  {
   "cell_type": "code",
   "execution_count": 14,
   "metadata": {},
   "outputs": [
    {
     "data": {
      "text/plain": [
       "<BatchDataset shapes: ((64, 111), (64, 1), (64, 1)), types: (tf.float64, tf.float64, tf.float64)>"
      ]
     },
     "execution_count": 14,
     "metadata": {},
     "output_type": "execute_result"
    }
   ],
   "source": [
    "train_data = Dataset.from_tensor_slices((x_train, y_train, a_train))\n",
    "train_data = train_data.batch(batch_size, drop_remainder=True)\n",
    "train_data"
   ]
  },
  {
   "cell_type": "code",
   "execution_count": 15,
   "metadata": {},
   "outputs": [],
   "source": [
    "x_valid, y_valid, a_valid = load_data('adult', 'valid')\n",
    "\n",
    "valid_data = Dataset.from_tensor_slices((x_valid, y_valid, a_valid))\n",
    "valid_data = valid_data.batch(batch_size, drop_remainder=True)"
   ]
  },
  {
   "cell_type": "code",
   "execution_count": 16,
   "metadata": {},
   "outputs": [],
   "source": [
    "x_test, y_test, a_test = load_data('adult', 'test')\n",
    "\n",
    "test_data = Dataset.from_tensor_slices((x_test, y_test, a_test))\n",
    "test_data = test_data.batch(batch_size, drop_remainder=True)"
   ]
  },
  {
   "cell_type": "markdown",
   "metadata": {},
   "source": [
    "## Testing if models are being trained"
   ]
  },
  {
   "cell_type": "markdown",
   "metadata": {},
   "source": [
    "### For the Autoencoder"
   ]
  },
  {
   "cell_type": "code",
   "execution_count": null,
   "metadata": {},
   "outputs": [],
   "source": [
    "ae = Autoencoder(xdim, ydim, adim, batch_size)\n",
    "pre_train_loop(ae, raw_data, train_data, epochs=2, opt=ae_opt)"
   ]
  },
  {
   "cell_type": "markdown",
   "metadata": {},
   "source": [
    "### FairGAN"
   ]
  },
  {
   "cell_type": "code",
   "execution_count": null,
   "metadata": {
    "tags": []
   },
   "outputs": [],
   "source": [
    "###V1\n",
    "fairgan = FairGAN(xdim, ydim, adim, ae.dec, batch_size)\n",
    "\n",
    "train_loop(fairgan, raw_data, train_data, batch_size, noise_dim, epochs=2, phase='v1', gen_opt=gen_opt, d1_opt=d1_opt)"
   ]
  },
  {
   "cell_type": "code",
   "execution_count": null,
   "metadata": {},
   "outputs": [],
   "source": [
    "#fairgan.gdec.variables"
   ]
  },
  {
   "cell_type": "code",
   "execution_count": null,
   "metadata": {},
   "outputs": [],
   "source": [
    "###V2\n",
    "#fairgan = FairGAN(xdim, ydim, adim, ae.dec, batch_size)\n",
    "\n",
    "train_loop(fairgan, raw_data, train_data, batch_size, noise_dim, epochs=2, phase='v2', gen_opt=gen_opt, d1_opt=d1_opt, d2_opt=d2_opt)"
   ]
  },
  {
   "cell_type": "code",
   "execution_count": null,
   "metadata": {},
   "outputs": [],
   "source": [
    "#tf.random.normal([batch_size, noise_dim])"
   ]
  },
  {
   "cell_type": "code",
   "execution_count": null,
   "metadata": {},
   "outputs": [],
   "source": [
    "gdec_data = []\n",
    "gen_data = []\n",
    "for X, Y, A in train_data:\n",
    "    noise = tf.random.normal([batch_size, noise_dim])\n",
    "    zeros = tf.zeros([batch_size//2, 1])\n",
    "    ones = tf.ones([batch_size//2, 1])\n",
    "    gen_As = tf.concat([zeros, ones], axis=0)\n",
    "    batch_gdec_data, batch_gen_data = fairgan.gdec(noise=noise, A=gen_As, batch_size=batch_size)\n",
    "    gdec_data.append(batch_gdec_data)\n",
    "    gen_data.append(batch_gen_data)"
   ]
  },
  {
   "cell_type": "code",
   "execution_count": null,
   "metadata": {},
   "outputs": [],
   "source": [
    "tensor_gen_data = tf.convert_to_tensor(gdec_data)\n",
    "tensor_gen_data[0][4]\n",
    "#tensor_gen_data"
   ]
  },
  {
   "cell_type": "code",
   "execution_count": null,
   "metadata": {},
   "outputs": [],
   "source": [
    "gen_data[0][4]"
   ]
  },
  {
   "cell_type": "code",
   "execution_count": null,
   "metadata": {},
   "outputs": [],
   "source": [
    "fairgan.gen.variables"
   ]
  },
  {
   "cell_type": "code",
   "execution_count": null,
   "metadata": {},
   "outputs": [],
   "source": [
    "x_gen = tensor_gen_data[:,:,:-2]\n",
    "y_gen = tensor_gen_data[:,:,-2]\n",
    "a_gen = tensor_gen_data[:,:,-1]"
   ]
  },
  {
   "cell_type": "code",
   "execution_count": null,
   "metadata": {},
   "outputs": [],
   "source": [
    "#x_gen"
   ]
  },
  {
   "cell_type": "code",
   "execution_count": null,
   "metadata": {},
   "outputs": [],
   "source": [
    "num_batches = x_gen.shape[0]\n",
    "new_shape = num_batches*batch_size"
   ]
  },
  {
   "cell_type": "code",
   "execution_count": null,
   "metadata": {},
   "outputs": [],
   "source": [
    "x_gen = tf.reshape(x_gen,shape=(new_shape, xdim))\n",
    "y_gen = tf.reshape(y_gen,shape=(new_shape, ydim))\n",
    "a_gen = tf.reshape(a_gen,shape=(new_shape, adim))"
   ]
  },
  {
   "cell_type": "code",
   "execution_count": null,
   "metadata": {},
   "outputs": [],
   "source": [
    "a_gen"
   ]
  },
  {
   "cell_type": "code",
   "execution_count": null,
   "metadata": {},
   "outputs": [],
   "source": [
    "unbatched_train = train_data.unbatch()\n",
    "unbatched_train = list(unbatched_train.as_numpy_iterator())\n",
    "\n",
    "x, y, a = [], [], []\n",
    "\n",
    "for row in unbatched_train:\n",
    "    x.append(row[0])\n",
    "    y.append(row[1])\n",
    "    a.append(row[2])\n"
   ]
  },
  {
   "cell_type": "code",
   "execution_count": null,
   "metadata": {},
   "outputs": [],
   "source": [
    "x = tf.convert_to_tensor(x)\n",
    "y = tf.convert_to_tensor(y)\n",
    "a = tf.convert_to_tensor(a)"
   ]
  },
  {
   "cell_type": "code",
   "execution_count": null,
   "metadata": {},
   "outputs": [],
   "source": [
    "tf.concat((x_gen, y_gen),1)[4]"
   ]
  },
  {
   "cell_type": "code",
   "execution_count": null,
   "metadata": {},
   "outputs": [],
   "source": [
    "xy = metrics.euclidian_dist(tf.concat((x, y), 1), tf.concat((x_gen, y_gen), 1))\n",
    "print(xy)\n",
    "xya = metrics.euclidian_dist(tf.concat((x, y, a), 1), tf.concat((x_gen, y_gen, a_gen), 1))\n",
    "print(xya)\n",
    "cond_a0, cond_a1 = metrics.euclidian_dist((tf.concat((x, y), 1), a), (tf.concat((x_gen, y_gen), 1), a_gen), conditional=True)\n",
    "print(cond_a0, cond_a1)"
   ]
  },
  {
   "cell_type": "code",
   "execution_count": null,
   "metadata": {},
   "outputs": [],
   "source": [
    "def euclidian_dist(real_data, gen_data, conditional=False):\n",
    "\n",
    "        '''if conditional:\n",
    "        a0_filter4real_data = filtering(mask=1-real_data[1], data=real_data[0])\n",
    "        a0_filter4gen_data = filtering(mask=1-gen_data[1], data=gen_data[0])\n",
    "\n",
    "        a1_filter4real_data = filtering(mask=real_data[1], data=real_data[0])\n",
    "        a1_filter4gen_data = filtering(mask=gen_data[1], data=gen_data[0])\n",
    "        \n",
    "        ed4a0 = euclidian_dist(a0_filter4real_data, a0_filter4gen_data)\n",
    "        ed4a1 = euclidian_dist(a1_filter4real_data, a1_filter4gen_data)\n",
    "        \n",
    "        return (ed4a0, ed4a1)'''\n",
    "\n",
    "    #else:\n",
    "        real_data = tf.dtypes.cast(real_data, tf.double)\n",
    "        gen_data = tf.dtypes.cast(gen_data, tf.double)\n",
    "\n",
    "        if real_data.shape[0] > gen_data.shape[0]:\n",
    "            real_data = real_data[:gen_data.shape[0]]\n",
    "        elif real_data.shape[0] < gen_data.shape[0]:\n",
    "            gen_data = gen_data[:real_data.shape[0]]\n",
    "        else:\n",
    "            pass\n",
    "\n",
    "        '''return tf.sqrt(\n",
    "                    tf.math.reduce_sum(\n",
    "                        tf.math.squared_difference(real_data, gen_data)))'''\n",
    "        return tf.norm((real_data- gen_data), ord='euclidean')"
   ]
  },
  {
   "cell_type": "code",
   "execution_count": null,
   "metadata": {},
   "outputs": [],
   "source": [
    "xy = euclidian_dist(tf.concat((x, y), 1), tf.concat((x_gen, y_gen), 1))\n",
    "print(xy)"
   ]
  },
  {
   "cell_type": "code",
   "execution_count": null,
   "metadata": {},
   "outputs": [],
   "source": [
    "stop\n",
    "Y_hat, A_hat = validation(model, valid_data)\n",
    "ret = compute_metrics(y_valid, Y_hat, a_valid, A_hat)"
   ]
  },
  {
   "cell_type": "code",
   "execution_count": null,
   "metadata": {},
   "outputs": [],
   "source": [
    "sns.heatmap(ret[4], annot=True, fmt='g')"
   ]
  },
  {
   "cell_type": "markdown",
   "metadata": {},
   "source": [
    "### For EqOdds"
   ]
  },
  {
   "cell_type": "code",
   "execution_count": null,
   "metadata": {
    "tags": []
   },
   "outputs": [],
   "source": [
    "fairdef='EqOdds'\n",
    "model = FairLogisticRegression(xdim, batch_size, fairdef)\n",
    "ret = train_loop(model, raw_data, train_data, 1)"
   ]
  },
  {
   "cell_type": "code",
   "execution_count": null,
   "metadata": {},
   "outputs": [],
   "source": [
    "Y_hat, A_hat = validation(model, valid_data)\n",
    "ret = compute_metrics(y_valid, Y_hat, a_valid, A_hat)"
   ]
  },
  {
   "cell_type": "code",
   "execution_count": null,
   "metadata": {},
   "outputs": [],
   "source": [
    "sns.heatmap(ret[4], annot=True, fmt='g')"
   ]
  },
  {
   "cell_type": "markdown",
   "metadata": {},
   "source": [
    "### For EqOpp"
   ]
  },
  {
   "cell_type": "code",
   "execution_count": null,
   "metadata": {
    "tags": []
   },
   "outputs": [],
   "source": [
    "fairdef='EqOpp'\n",
    "model = FairLogisticRegression(xdim, batch_size, fairdef)\n",
    "ret = train_loop(model, raw_data, train_data, 1)"
   ]
  },
  {
   "cell_type": "code",
   "execution_count": null,
   "metadata": {},
   "outputs": [],
   "source": [
    "Y_hat, A_hat = validation(model, valid_data)\n",
    "ret = compute_metrics(y_valid, Y_hat, a_valid, A_hat)"
   ]
  },
  {
   "cell_type": "code",
   "execution_count": null,
   "metadata": {},
   "outputs": [],
   "source": [
    "sns.heatmap(ret[4], annot=True, fmt='g')"
   ]
  },
  {
   "cell_type": "markdown",
   "metadata": {},
   "source": [
    "## Models"
   ]
  },
  {
   "cell_type": "code",
   "execution_count": null,
   "metadata": {},
   "outputs": [],
   "source": [
    "cmap = sns.light_palette(\"seagreen\", as_cmap=True)"
   ]
  },
  {
   "cell_type": "markdown",
   "metadata": {},
   "source": []
  },
  {
   "cell_type": "code",
   "execution_count": null,
   "metadata": {
    "tags": []
   },
   "outputs": [],
   "source": [
    "#For DemPar\n",
    "fairdef = 'DemPar'\n",
    "model = FairLogisticRegression(xdim, batch_size, fairdef)\n",
    "train_loop(model, raw_data, train_data, epochs)\n",
    "print('Validation')\n",
    "Y_hat, A_hat = validation(model, valid_data)\n",
    "ret4dp = compute_metrics(y_valid, Y_hat, a_valid, A_hat)"
   ]
  },
  {
   "cell_type": "code",
   "execution_count": null,
   "metadata": {},
   "outputs": [],
   "source": [
    "sns.heatmap(ret4dp[4], cmap=cmap, annot=True, fmt='g')"
   ]
  },
  {
   "cell_type": "markdown",
   "metadata": {},
   "source": []
  },
  {
   "cell_type": "code",
   "execution_count": null,
   "metadata": {
    "tags": []
   },
   "outputs": [],
   "source": [
    "#For EqOdds\n",
    "fairdef = 'EqOdds'\n",
    "model = FairLogisticRegression(xdim, batch_size, fairdef)\n",
    "train_loop(model, raw_data, train_data, epochs)\n",
    "print('Validation')\n",
    "Y_hat, A_hat = validation(model, valid_data)\n",
    "ret4eqodds = compute_metrics(y_valid, Y_hat, a_valid, A_hat)"
   ]
  },
  {
   "cell_type": "code",
   "execution_count": null,
   "metadata": {},
   "outputs": [],
   "source": [
    "sns.heatmap(ret4eqodds[4], cmap=cmap, annot=True, fmt='g')"
   ]
  },
  {
   "cell_type": "code",
   "execution_count": null,
   "metadata": {
    "tags": []
   },
   "outputs": [],
   "source": [
    "#For EqOpp\n",
    "fairdef = 'EqOpp'\n",
    "model = FairLogisticRegression(xdim, batch_size, fairdef)\n",
    "train_loop(model, raw_data, train_data, epochs)\n",
    "print('Validation')\n",
    "Y_hat, A_hat = validation(model, valid_data)\n",
    "ret4eqopp = compute_metrics(y_valid, Y_hat, a_valid, A_hat)"
   ]
  },
  {
   "cell_type": "code",
   "execution_count": null,
   "metadata": {},
   "outputs": [],
   "source": [
    "sns.heatmap(ret4eqopp[4], cmap=cmap, annot=True, fmt='g')"
   ]
  },
  {
   "cell_type": "code",
   "execution_count": null,
   "metadata": {},
   "outputs": [],
   "source": [
    "#x=[1,2,3]\n",
    "#y = [tf.math.reduce_mean(ret4dp[0]),tf.math.reduce_mean(ret4eqodds[0]),tf.math.reduce_mean(ret4eqodds[0])]\n",
    "y=[2,4,6]\n",
    "#plt.scatter()\n",
    "#plt.pyplot.grid(b=True, color='darkgrey')\n",
    "sns.set_style('darkgrid')\n",
    "plt.ylabel('Accuracy')\n",
    "\n",
    "'''# plotting the line 1 points \n",
    "plt.plot(fair_coeff_list, laftr_accs, label = \"laftr\")\n",
    "# line 2 points'''\n",
    "\n",
    "# plotting the line 2 points \n",
    "#plt.scatter(x, y)\n",
    "\n",
    "plt.scatter(1, ret4dp[0], label = \"ZHANG DemPar\")\n",
    "\n",
    "plt.scatter(2, ret4eqodds[0], label = \"ZHANG EqOdds\")\n",
    "\n",
    "plt.scatter(3, ret4eqopp[0], label = \"ZHANG EqOpp\")\n",
    "\n",
    "#plt.xlabel('Fair coefficient')\n",
    "plt.legend()\n",
    "\n",
    "plt.show()"
   ]
  },
  {
   "cell_type": "code",
   "execution_count": null,
   "metadata": {},
   "outputs": [],
   "source": [
    "plt.plot()\n",
    "plt.ylabel('Accuracy')\n",
    "\n",
    "'''# plotting the line 1 points \n",
    "plt.plot(fair_coeff_list, laftr_dps, label = \"laftr\")\n",
    "# line 2 points'''\n",
    "#axes = plt.gca()\n",
    "#axes.set_xlim([0.0643,0.0645])\n",
    "plt.scatter(ret4dp[1], ret4dp[0], label = \"ZHANG DemPar\")\n",
    "\n",
    "plt.scatter(ret4eqodds[1], ret4eqodds[0], label = \"ZHANG EqOdds\")\n",
    "\n",
    "plt.scatter(ret4eqopp[1], ret4eqopp[0], label = \"ZHANG EqOpp\")\n",
    "\n",
    "plt.xlabel('\\u0394DP')\n",
    "plt.legend()\n",
    "plt.show()"
   ]
  },
  {
   "cell_type": "code",
   "execution_count": null,
   "metadata": {},
   "outputs": [],
   "source": [
    "plt.plot()\n",
    "plt.ylabel('Accuracy')\n",
    "\n",
    "'''# plotting the line 1 points \n",
    "plt.plot(fair_coeff_list, laftr_dps, label = \"laftr\")\n",
    "# line 2 points'''\n",
    "\n",
    "plt.scatter(ret4dp[2], ret4dp[0], label = \"ZHANG DemPar\")\n",
    "\n",
    "plt.scatter(ret4eqodds[2], ret4eqodds[0], label = \"ZHANG EqOdds\")\n",
    "\n",
    "plt.scatter(ret4eqopp[2], ret4eqopp[0], label = \"ZHANG EqOpp\")\n",
    "\n",
    "plt.xlabel('\\u0394EqOdds')\n",
    "plt.legend()\n",
    "plt.show()"
   ]
  },
  {
   "cell_type": "code",
   "execution_count": null,
   "metadata": {},
   "outputs": [],
   "source": [
    "plt.plot()\n",
    "plt.ylabel('Accuracy')\n",
    "\n",
    "'''# plotting the line 1 points \n",
    "plt.plot(fair_coeff_list, laftr_dps, label = \"laftr\")\n",
    "# line 2 points'''\n",
    "\n",
    "plt.scatter(ret4dp[3], ret4dp[0], label = \"ZHANG DemPar\")\n",
    "\n",
    "plt.scatter(ret4eqodds[3], ret4eqodds[0], label = \"ZHANG EqOdds\")\n",
    "\n",
    "plt.scatter(ret4eqopp[3], ret4eqopp[0], label = \"ZHANG EqOpp\")\n",
    "\n",
    "plt.xlabel('\\u0394EqOpp')\n",
    "plt.legend()\n",
    "plt.show()"
   ]
  }
 ],
 "metadata": {
  "interpreter": {
   "hash": "41359ec383f887151a607ad1e28cb7dbc05f61385692c63e2bb2f343bf03f280"
  },
  "kernelspec": {
   "display_name": "Python 3.8.5 64-bit ('falsb': conda)",
   "name": "python3"
  },
  "language_info": {
   "codemirror_mode": {
    "name": "ipython",
    "version": 3
   },
   "file_extension": ".py",
   "mimetype": "text/x-python",
   "name": "python",
   "nbconvert_exporter": "python",
   "pygments_lexer": "ipython3",
   "version": "3.8.5"
  },
  "metadata": {
   "interpreter": {
    "hash": "34ca74ed6235dfc7dda926bb3adb31e801e3d02679121d5b444ee035e270bd57"
   }
  }
 },
 "nbformat": 4,
 "nbformat_minor": 4
}
