{
 "cells": [
  {
   "cell_type": "markdown",
   "metadata": {},
   "source": [
    "## Import libs"
   ]
  },
  {
   "cell_type": "code",
   "execution_count": 1,
   "metadata": {},
   "outputs": [],
   "source": [
    "import matplotlib.pyplot as plt\n",
    "import seaborn as sns\n",
    "from tensorflow.keras.optimizers import Adam\n",
    "from tensorflow.data import Dataset\n",
    "\n",
    "from benchmark.models.zhang.learning import *\n",
    "from benchmark.models.zhang.models import FairLogisticRegression\n",
    "from benchmark.util.load_data import load_data\n",
    "from benchmark.util.evaluation import *"
   ]
  },
  {
   "cell_type": "markdown",
   "metadata": {},
   "source": [
    "## Preliminaries"
   ]
  },
  {
   "cell_type": "code",
   "execution_count": 2,
   "metadata": {},
   "outputs": [],
   "source": [
    "batch_size = 64\n",
    "epochs = 10\n",
    "learning_rate = 0.001\n",
    "opt = Adam(learning_rate=learning_rate)"
   ]
  },
  {
   "cell_type": "markdown",
   "metadata": {},
   "source": [
    "## Load data"
   ]
  },
  {
   "cell_type": "code",
   "execution_count": 3,
   "metadata": {},
   "outputs": [],
   "source": [
    "data_name = 'adult-race'"
   ]
  },
  {
   "cell_type": "code",
   "execution_count": 4,
   "metadata": {},
   "outputs": [],
   "source": [
    "x_train, y_train, a_train = load_data(data_name, 'train')\n",
    "raw_data = (x_train, y_train, a_train)"
   ]
  },
  {
   "cell_type": "code",
   "execution_count": 5,
   "metadata": {},
   "outputs": [],
   "source": [
    "xdim = x_train.shape[1]\n",
    "ydim = y_train.shape[1]\n",
    "adim = a_train.shape[1]"
   ]
  },
  {
   "cell_type": "code",
   "execution_count": 6,
   "metadata": {},
   "outputs": [
    {
     "data": {
      "text/plain": [
       "<BatchDataset shapes: ((64, 112), (64, 1), (64, 5)), types: (tf.float64, tf.float64, tf.float64)>"
      ]
     },
     "execution_count": 6,
     "metadata": {},
     "output_type": "execute_result"
    }
   ],
   "source": [
    "train_data = Dataset.from_tensor_slices((x_train, y_train, a_train))\n",
    "train_data = train_data.batch(batch_size, drop_remainder=True)\n",
    "train_data"
   ]
  },
  {
   "cell_type": "code",
   "execution_count": 7,
   "metadata": {},
   "outputs": [],
   "source": [
    "x_valid, y_valid, a_valid = load_data(data_name, 'valid')\n",
    "\n",
    "valid_data = Dataset.from_tensor_slices((x_valid, y_valid, a_valid))\n",
    "valid_data = valid_data.batch(batch_size, drop_remainder=True)"
   ]
  },
  {
   "cell_type": "code",
   "execution_count": 8,
   "metadata": {},
   "outputs": [],
   "source": [
    "x_test, y_test, a_test = load_data(data_name, 'test')\n",
    "\n",
    "test_data = Dataset.from_tensor_slices((x_test, y_test, a_test))\n",
    "test_data = test_data.batch(batch_size, drop_remainder=True)"
   ]
  },
  {
   "cell_type": "markdown",
   "metadata": {},
   "source": [
    "## Testing if models are being trained"
   ]
  },
  {
   "cell_type": "markdown",
   "metadata": {},
   "source": [
    "### For DP"
   ]
  },
  {
   "cell_type": "code",
   "execution_count": 9,
   "metadata": {
    "tags": []
   },
   "outputs": [
    {
     "name": "stdout",
     "output_type": "stream",
     "text": [
      "> Epoch | Class Loss | Adv Loss | Class Acc | Adv Acc\n",
      "> 1 | 0.5199112296104431 | 1.3905614614486694 | 0.6526856763925729 | -0.0019756742118208098\n"
     ]
    }
   ],
   "source": [
    "fairdef='DemPar'\n",
    "model = FairLogisticRegression(xdim, ydim, adim, batch_size, fairdef)\n",
    "\n",
    "ret = train_loop(model, raw_data, train_data, 1)"
   ]
  },
  {
   "cell_type": "code",
   "execution_count": 10,
   "metadata": {},
   "outputs": [
    {
     "name": "stdout",
     "output_type": "stream",
     "text": [
      "> Class Acc | Adv Acc\n",
      "> 0.7883976063829787 | 0.0007221952397772347\n",
      "> DP | DEqOdds | DEqOpp\n",
      "> 0.4118994325399399 | 0.8430719019379467 | 0.8262129202485085\n",
      "> Confusion Matrix \n",
      "TN: 3646.0 | FP: 912.0 \n",
      "FN: 361.0 | TP: 1097.0\n"
     ]
    }
   ],
   "source": [
    "Y, A, Y_hat, A_hat = fair_evaluation(model, valid_data)\n",
    "ret = compute_metrics(Y, A, Y_hat, A_hat, adim)"
   ]
  },
  {
   "cell_type": "code",
   "execution_count": 11,
   "metadata": {},
   "outputs": [
    {
     "data": {
      "text/plain": [
       "<matplotlib.axes._subplots.AxesSubplot at 0x7fe574ca1a90>"
      ]
     },
     "execution_count": 11,
     "metadata": {},
     "output_type": "execute_result"
    },
    {
     "data": {
      "image/png": "[encoded data removed]",
      "text/plain": [
       "<Figure size 432x288 with 2 Axes>"
      ]
     },
     "metadata": {
      "needs_background": "light"
     },
     "output_type": "display_data"
    }
   ],
   "source": [
    "sns.heatmap(ret[4], annot=True, fmt='g')"
   ]
  },
  {
   "cell_type": "markdown",
   "metadata": {},
   "source": [
    "### For EqOdds"
   ]
  },
  {
   "cell_type": "code",
   "execution_count": 12,
   "metadata": {
    "tags": []
   },
   "outputs": [
    {
     "name": "stdout",
     "output_type": "stream",
     "text": [
      "> Epoch | Class Loss | Adv Loss | Class Acc | Adv Acc\n",
      "> 1 | 0.6225697994232178 | 0.9331574440002441 | 0.5320374668435013 | 0.016757749277969886\n"
     ]
    }
   ],
   "source": [
    "fairdef='EqOdds'\n",
    "model = FairLogisticRegression(xdim, ydim, adim, batch_size, fairdef)\n",
    "ret = train_loop(model, raw_data, train_data, 1)"
   ]
  },
  {
   "cell_type": "code",
   "execution_count": 13,
   "metadata": {},
   "outputs": [
    {
     "name": "stdout",
     "output_type": "stream",
     "text": [
      "> Class Acc | Adv Acc\n",
      "> 0.5568484042553192 | 0.2513870888567985\n",
      "> DP | DEqOdds | DEqOpp\n",
      "> 0.49705928564071655 | 0.7583927632076666 | 0.9271326416637748\n",
      "> Confusion Matrix \n",
      "TN: 1925.0 | FP: 2633.0 \n",
      "FN: 33.0 | TP: 1425.0\n"
     ]
    }
   ],
   "source": [
    "Y, A, Y_hat, A_hat = fair_evaluation(model, valid_data)\n",
    "ret = compute_metrics(Y, A, Y_hat, A_hat, adim)"
   ]
  },
  {
   "cell_type": "code",
   "execution_count": 14,
   "metadata": {},
   "outputs": [
    {
     "data": {
      "text/plain": [
       "<matplotlib.axes._subplots.AxesSubplot at 0x7fe574ca1520>"
      ]
     },
     "execution_count": 14,
     "metadata": {},
     "output_type": "execute_result"
    },
    {
     "data": {
      "image/png": "[encoded data removed]",
      "text/plain": [
       "<Figure size 432x288 with 2 Axes>"
      ]
     },
     "metadata": {
      "needs_background": "light"
     },
     "output_type": "display_data"
    }
   ],
   "source": [
    "sns.heatmap(ret[4], annot=True, fmt='g')"
   ]
  },
  {
   "cell_type": "markdown",
   "metadata": {},
   "source": [
    "### For EqOpp"
   ]
  },
  {
   "cell_type": "code",
   "execution_count": 15,
   "metadata": {
    "tags": []
   },
   "outputs": [
    {
     "name": "stdout",
     "output_type": "stream",
     "text": [
      "> Epoch | Class Loss | Adv Loss | Class Acc | Adv Acc\n",
      "> 1 | 0.5086170434951782 | 0.4394846558570862 | 0.6637516578249337 | -0.0019756742118208098\n"
     ]
    }
   ],
   "source": [
    "fairdef='EqOpp'\n",
    "model = FairLogisticRegression(xdim, ydim, adim, batch_size, fairdef)\n",
    "ret = train_loop(model, raw_data, train_data, 1)"
   ]
  },
  {
   "cell_type": "code",
   "execution_count": 16,
   "metadata": {},
   "outputs": [
    {
     "name": "stdout",
     "output_type": "stream",
     "text": [
      "> Class Acc | Adv Acc\n",
      "> 0.8261303191489362 | 0.001220865452543185\n",
      "> DP | DEqOdds | DEqOpp\n",
      "> 0.39535266160964966 | 0.8422214005840942 | 0.7746073603630066\n",
      "> Confusion Matrix \n",
      "TN: 4169.0 | FP: 389.0 \n",
      "FN: 657.0 | TP: 801.0\n"
     ]
    }
   ],
   "source": [
    "Y, A, Y_hat, A_hat = fair_evaluation(model, valid_data)\n",
    "ret = compute_metrics(Y, A, Y_hat, A_hat, adim)"
   ]
  },
  {
   "cell_type": "code",
   "execution_count": 17,
   "metadata": {},
   "outputs": [
    {
     "data": {
      "text/plain": [
       "<matplotlib.axes._subplots.AxesSubplot at 0x7fe572b6b3d0>"
      ]
     },
     "execution_count": 17,
     "metadata": {},
     "output_type": "execute_result"
    },
    {
     "data": {
      "image/png": "[encoded data removed]",
      "text/plain": [
       "<Figure size 432x288 with 2 Axes>"
      ]
     },
     "metadata": {
      "needs_background": "light"
     },
     "output_type": "display_data"
    }
   ],
   "source": [
    "sns.heatmap(ret[4], annot=True, fmt='g')"
   ]
  },
  {
   "cell_type": "markdown",
   "metadata": {},
   "source": [
    "## Models"
   ]
  },
  {
   "cell_type": "code",
   "execution_count": 18,
   "metadata": {},
   "outputs": [],
   "source": [
    "cmap = sns.light_palette(\"seagreen\", as_cmap=True)"
   ]
  },
  {
   "cell_type": "code",
   "execution_count": 19,
   "metadata": {
    "tags": []
   },
   "outputs": [
    {
     "name": "stdout",
     "output_type": "stream",
     "text": [
      "> Epoch | Class Loss | Adv Loss | Class Acc | Adv Acc\n",
      "> 1 | 0.5199112296104431 | 1.3905614614486694 | 0.6526856763925729 | -0.0019756742118208098\n",
      "> 2 | 0.4651602506637573 | 1.3244471549987793 | 0.8174320291777188 | -0.0019756742118208098\n",
      "> 3 | 0.45281606912612915 | 1.2735588550567627 | 0.8231929708222812 | -0.0017684457789049225\n",
      "> 4 | 0.4489431381225586 | 1.2328276634216309 | 0.8263428381962865 | 0.013483541871887935\n",
      "> 5 | 0.4476257264614105 | 1.2011950016021729 | 0.8281664456233422 | 0.054473264305914114\n",
      "> 6 | 0.4468083083629608 | 1.1805096864700317 | 0.8292854774535809 | 0.08825144669737676\n",
      "> 7 | 0.4463529884815216 | 1.163445234298706 | 0.8304045092838196 | 0.11104653953557306\n",
      "> 8 | 0.44614923000335693 | 1.1491590738296509 | 0.8310676392572944 | 0.12832936478546506\n",
      "> 9 | 0.4460941255092621 | 1.136975646018982 | 0.8318136604774535 | 0.14329123481199027\n",
      "> 10 | 0.4461246728897095 | 1.1264221668243408 | 0.832145225464191 | 0.15369408611277371\n",
      "Validation\n",
      "> Class Acc | Adv Acc\n",
      "> 0.8351063829787234 | 0.15248416332488368\n",
      "> DP | DEqOdds | DEqOpp\n",
      "> 0.3716594725847244 | 0.7961411512224004 | 0.6665546745061874\n",
      "> Confusion Matrix \n",
      "TN: 4207.0 | FP: 351.0 \n",
      "FN: 641.0 | TP: 817.0\n"
     ]
    }
   ],
   "source": [
    "#For DemPar\n",
    "fairdef = 'DemPar'\n",
    "model = FairLogisticRegression(xdim, ydim, adim, batch_size, fairdef)\n",
    "train_loop(model, raw_data, train_data, epochs)\n",
    "print('Validation')\n",
    "Y, A, Y_hat, A_hat = fair_evaluation(model, valid_data)\n",
    "ret4dp = compute_metrics(Y, A, Y_hat, A_hat, adim)"
   ]
  },
  {
   "cell_type": "code",
   "execution_count": 20,
   "metadata": {},
   "outputs": [
    {
     "data": {
      "text/plain": [
       "<matplotlib.axes._subplots.AxesSubplot at 0x7fe573f56130>"
      ]
     },
     "execution_count": 20,
     "metadata": {},
     "output_type": "execute_result"
    },
    {
     "data": {
      "image/png": "[encoded data removed]",
      "text/plain": [
       "<Figure size 432x288 with 2 Axes>"
      ]
     },
     "metadata": {
      "needs_background": "light"
     },
     "output_type": "display_data"
    }
   ],
   "source": [
    "sns.heatmap(ret4dp[4], cmap=cmap, annot=True, fmt='g')"
   ]
  },
  {
   "cell_type": "code",
   "execution_count": 21,
   "metadata": {
    "tags": []
   },
   "outputs": [
    {
     "name": "stdout",
     "output_type": "stream",
     "text": [
      "> Epoch | Class Loss | Adv Loss | Class Acc | Adv Acc\n",
      "> 1 | 0.6225697994232178 | 0.9331574440002441 | 0.5320374668435013 | 0.016757749277969886\n",
      "> 2 | 0.5248477458953857 | 0.9030101895332336 | 0.6981929708222812 | 0.3159537015764403\n",
      "> 3 | 0.4760250151157379 | 0.9513474702835083 | 0.7783902519893899 | 0.34782538568941923\n",
      "> 4 | 0.4577804207801819 | 0.9723141193389893 | 0.8090600132625995 | 0.3270611283949895\n",
      "> 5 | 0.4505801200866699 | 0.9785846471786499 | 0.8208720159151194 | 0.31902067746660756\n",
      "> 6 | 0.44748982787132263 | 0.9786810874938965 | 0.8256797082228117 | 0.3164510489774952\n",
      "> 7 | 0.4461158514022827 | 0.9761068820953369 | 0.8273375331564987 | 0.3170727333276278\n",
      "> 8 | 0.44553661346435547 | 0.9722491502761841 | 0.8282493368700266 | 0.3191035687132919\n",
      "> 9 | 0.4453478455543518 | 0.9677159786224365 | 0.8287881299734748 | 0.3208857305170054\n",
      "> 10 | 0.44535866379737854 | 0.9628064036369324 | 0.830238726790451 | 0.3240770435143529\n",
      "Validation\n",
      "> Class Acc | Adv Acc\n",
      "> 0.8304521276595744 | 0.3271849206153382\n",
      "> DP | DEqOdds | DEqOpp\n",
      "> 0.2995486259460449 | 0.7103370716213249 | 0.481681153178215\n",
      "> Confusion Matrix \n",
      "TN: 4171.0 | FP: 387.0 \n",
      "FN: 633.0 | TP: 825.0\n"
     ]
    }
   ],
   "source": [
    "#For EqOdds\n",
    "fairdef = 'EqOdds'\n",
    "model = FairLogisticRegression(xdim, ydim, adim, batch_size, fairdef)\n",
    "train_loop(model, raw_data, train_data, epochs)\n",
    "print('Validation')\n",
    "Y, A, Y_hat, A_hat = fair_evaluation(model, valid_data)\n",
    "ret4eqodds = compute_metrics(Y, A, Y_hat, A_hat, adim)"
   ]
  },
  {
   "cell_type": "code",
   "execution_count": 22,
   "metadata": {},
   "outputs": [
    {
     "data": {
      "text/plain": [
       "<matplotlib.axes._subplots.AxesSubplot at 0x7fe5730bd790>"
      ]
     },
     "execution_count": 22,
     "metadata": {},
     "output_type": "execute_result"
    },
    {
     "data": {
      "image/png": "[encoded data removed]",
      "text/plain": [
       "<Figure size 432x288 with 2 Axes>"
      ]
     },
     "metadata": {
      "needs_background": "light"
     },
     "output_type": "display_data"
    }
   ],
   "source": [
    "sns.heatmap(ret4eqodds[4], cmap=cmap, annot=True, fmt='g')"
   ]
  },
  {
   "cell_type": "code",
   "execution_count": 23,
   "metadata": {
    "tags": []
   },
   "outputs": [
    {
     "name": "stdout",
     "output_type": "stream",
     "text": [
      "> Epoch | Class Loss | Adv Loss | Class Acc | Adv Acc\n",
      "> 1 | 0.5086170434951782 | 0.4394846558570862 | 0.6637516578249337 | -0.0019756742118208098\n",
      "> 2 | 0.4683226943016052 | 0.36097967624664307 | 0.8222397214854111 | 0.0548048289764465\n",
      "> 3 | 0.4601186215877533 | 0.32333970069885254 | 0.8258454907161804 | 0.11195834324910091\n",
      "> 4 | 0.4578568935394287 | 0.3023611009120941 | 0.8277934350132626 | 0.13156212324805222\n",
      "> 5 | 0.4571680426597595 | 0.2889596223831177 | 0.8293683687002652 | 0.14710423200136788\n",
      "> 6 | 0.45700347423553467 | 0.2795723080635071 | 0.8303630636604774 | 0.1576728659536225\n",
      "> 7 | 0.4570300579071045 | 0.27255183458328247 | 0.831440649867374 | 0.16687379433558538\n",
      "> 8 | 0.45712941884994507 | 0.2670389413833618 | 0.8319794429708223 | 0.17304919221356946\n",
      "> 9 | 0.4572538733482361 | 0.2625439167022705 | 0.8322695623342176 | 0.17835423200136788\n",
      "> 10 | 0.45738327503204346 | 0.2587689757347107 | 0.8325182360742706 | 0.18274746807563844\n",
      "Validation\n",
      "> Class Acc | Adv Acc\n",
      "> 0.8352726063829787 | 0.17459187609084104\n",
      "> DP | DEqOdds | DEqOpp\n",
      "> 0.3662806749343872 | 0.7902726744068787 | 0.6528010666370392\n",
      "> Confusion Matrix \n",
      "TN: 4238.0 | FP: 320.0 \n",
      "FN: 671.0 | TP: 787.0\n"
     ]
    }
   ],
   "source": [
    "#For EqOpp\n",
    "fairdef = 'EqOpp'\n",
    "model = FairLogisticRegression(xdim, ydim, adim, batch_size, fairdef)\n",
    "train_loop(model, raw_data, train_data, epochs)\n",
    "print('Validation')\n",
    "Y, A, Y_hat, A_hat = fair_evaluation(model, valid_data)\n",
    "ret4eqopp = compute_metrics(Y, A, Y_hat, A_hat, adim)"
   ]
  },
  {
   "cell_type": "code",
   "execution_count": 24,
   "metadata": {},
   "outputs": [
    {
     "data": {
      "text/plain": [
       "<matplotlib.axes._subplots.AxesSubplot at 0x7fe571587a00>"
      ]
     },
     "execution_count": 24,
     "metadata": {},
     "output_type": "execute_result"
    },
    {
     "data": {
      "image/png": "[encoded data removed]",
      "text/plain": [
       "<Figure size 432x288 with 2 Axes>"
      ]
     },
     "metadata": {
      "needs_background": "light"
     },
     "output_type": "display_data"
    }
   ],
   "source": [
    "sns.heatmap(ret4eqopp[4], cmap=cmap, annot=True, fmt='g')"
   ]
  },
  {
   "cell_type": "code",
   "execution_count": 25,
   "metadata": {},
   "outputs": [
    {
     "data": {
      "image/png": "[encoded data removed]",
      "text/plain": [
       "<Figure size 432x288 with 1 Axes>"
      ]
     },
     "metadata": {},
     "output_type": "display_data"
    }
   ],
   "source": [
    "#x=[1,2,3]\n",
    "#y = [tf.math.reduce_mean(ret4dp[0]),tf.math.reduce_mean(ret4eqodds[0]),tf.math.reduce_mean(ret4eqodds[0])]\n",
    "y=[2,4,6]\n",
    "#plt.scatter()\n",
    "#plt.pyplot.grid(b=True, color='darkgrey')\n",
    "sns.set_style('darkgrid')\n",
    "plt.ylabel('Accuracy')\n",
    "\n",
    "'''# plotting the line 1 points \n",
    "plt.plot(fair_coeff_list, laftr_accs, label = \"laftr\")\n",
    "# line 2 points'''\n",
    "\n",
    "# plotting the line 2 points \n",
    "#plt.scatter(x, y)\n",
    "\n",
    "plt.scatter(1, ret4dp[0], label = \"ZHANG DemPar\")\n",
    "\n",
    "plt.scatter(2, ret4eqodds[0], label = \"ZHANG EqOdds\")\n",
    "\n",
    "plt.scatter(3, ret4eqopp[0], label = \"ZHANG EqOpp\")\n",
    "\n",
    "#plt.xlabel('Fair coefficient')\n",
    "plt.legend()\n",
    "\n",
    "plt.show()"
   ]
  },
  {
   "cell_type": "code",
   "execution_count": 26,
   "metadata": {},
   "outputs": [
    {
     "data": {
      "image/png": "[encoded data removed]",
      "text/plain": [
       "<Figure size 432x288 with 1 Axes>"
      ]
     },
     "metadata": {},
     "output_type": "display_data"
    }
   ],
   "source": [
    "plt.plot()\n",
    "plt.ylabel('Accuracy')\n",
    "\n",
    "'''# plotting the line 1 points \n",
    "plt.plot(fair_coeff_list, laftr_dps, label = \"laftr\")\n",
    "# line 2 points'''\n",
    "#axes = plt.gca()\n",
    "#axes.set_xlim([0.0643,0.0645])\n",
    "plt.scatter(ret4dp[1], ret4dp[0], label = \"ZHANG DemPar\")\n",
    "\n",
    "plt.scatter(ret4eqodds[1], ret4eqodds[0], label = \"ZHANG EqOdds\")\n",
    "\n",
    "plt.scatter(ret4eqopp[1], ret4eqopp[0], label = \"ZHANG EqOpp\")\n",
    "\n",
    "plt.xlabel('\\u0394DP')\n",
    "plt.legend()\n",
    "plt.show()"
   ]
  },
  {
   "cell_type": "code",
   "execution_count": 27,
   "metadata": {},
   "outputs": [
    {
     "data": {
      "image/png": "[encoded data removed]",
      "text/plain": [
       "<Figure size 432x288 with 1 Axes>"
      ]
     },
     "metadata": {},
     "output_type": "display_data"
    }
   ],
   "source": [
    "plt.plot()\n",
    "plt.ylabel('Accuracy')\n",
    "\n",
    "'''# plotting the line 1 points \n",
    "plt.plot(fair_coeff_list, laftr_dps, label = \"laftr\")\n",
    "# line 2 points'''\n",
    "\n",
    "plt.scatter(ret4dp[2], ret4dp[0], label = \"ZHANG DemPar\")\n",
    "\n",
    "plt.scatter(ret4eqodds[2], ret4eqodds[0], label = \"ZHANG EqOdds\")\n",
    "\n",
    "plt.scatter(ret4eqopp[2], ret4eqopp[0], label = \"ZHANG EqOpp\")\n",
    "\n",
    "plt.xlabel('\\u0394EqOdds')\n",
    "plt.legend()\n",
    "plt.show()"
   ]
  },
  {
   "cell_type": "code",
   "execution_count": 28,
   "metadata": {},
   "outputs": [
    {
     "data": {
      "image/png": "[encoded data removed]",
      "text/plain": [
       "<Figure size 432x288 with 1 Axes>"
      ]
     },
     "metadata": {},
     "output_type": "display_data"
    }
   ],
   "source": [
    "plt.plot()\n",
    "plt.ylabel('Accuracy')\n",
    "\n",
    "'''# plotting the line 1 points \n",
    "plt.plot(fair_coeff_list, laftr_dps, label = \"laftr\")\n",
    "# line 2 points'''\n",
    "\n",
    "plt.scatter(ret4dp[3], ret4dp[0], label = \"ZHANG DemPar\")\n",
    "\n",
    "plt.scatter(ret4eqodds[3], ret4eqodds[0], label = \"ZHANG EqOdds\")\n",
    "\n",
    "plt.scatter(ret4eqopp[3], ret4eqopp[0], label = \"ZHANG EqOpp\")\n",
    "\n",
    "plt.xlabel('\\u0394EqOpp')\n",
    "plt.legend()\n",
    "plt.show()"
   ]
  }
 ],
 "metadata": {
  "interpreter": {
   "hash": "41359ec383f887151a607ad1e28cb7dbc05f61385692c63e2bb2f343bf03f280"
  },
  "kernelspec": {
   "display_name": "Python 3.8.5 64-bit ('falsb': conda)",
   "language": "python",
   "name": "python3"
  },
  "language_info": {
   "codemirror_mode": {
    "name": "ipython",
    "version": 3
   },
   "file_extension": ".py",
   "mimetype": "text/x-python",
   "name": "python",
   "nbconvert_exporter": "python",
   "pygments_lexer": "ipython3",
   "version": "3.8.5"
  },
  "metadata": {
   "interpreter": {
    "hash": "34ca74ed6235dfc7dda926bb3adb31e801e3d02679121d5b444ee035e270bd57"
   }
  }
 },
 "nbformat": 4,
 "nbformat_minor": 4
}
