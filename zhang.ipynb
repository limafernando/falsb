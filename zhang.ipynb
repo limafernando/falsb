{
 "cells": [
  {
   "cell_type": "markdown",
   "metadata": {},
   "source": [
    "## Import libs"
   ]
  },
  {
   "cell_type": "code",
   "execution_count": 1,
   "metadata": {},
   "outputs": [],
   "source": [
    "from math import sqrt, isnan\n",
    "from pathlib import Path\n",
    "\n",
    "import tensorflow as tf\n",
    "from tensorflow.keras.optimizers import Adam, Adagrad\n",
    "from tensorflow.data import Dataset\n",
    "\n",
    "import numpy as np\n",
    "import pandas as pd\n",
    "import matplotlib.pyplot as plt\n",
    "import seaborn as sns\n",
    "\n",
    "from util import metrics\n",
    "from util.load_data import load_data\n",
    "from util.evaluation import *\n",
    "\n",
    "from zhang.models import FairLogisticRegression\n",
    "from zhang.learning import *"
   ]
  },
  {
   "cell_type": "markdown",
   "metadata": {},
   "source": [
    "## Preliminaries"
   ]
  },
  {
   "cell_type": "code",
   "execution_count": 2,
   "metadata": {},
   "outputs": [],
   "source": [
    "batch_size = 64\n",
    "epochs = 10\n",
    "learning_rate = 0.001\n",
    "opt = Adam(learning_rate=learning_rate)"
   ]
  },
  {
   "cell_type": "markdown",
   "metadata": {},
   "source": [
    "## Load data"
   ]
  },
  {
   "cell_type": "code",
   "execution_count": 3,
   "metadata": {},
   "outputs": [],
   "source": [
    "x_train, y_train, a_train = load_data('adult', 'train')\n",
    "raw_data = (x_train, y_train, a_train)"
   ]
  },
  {
   "cell_type": "code",
   "execution_count": 4,
   "metadata": {},
   "outputs": [],
   "source": [
    "xdim = x_train.shape[1]\n",
    "ydim = y_train.shape[1]\n",
    "adim = a_train.shape[1]"
   ]
  },
  {
   "cell_type": "code",
   "execution_count": 5,
   "metadata": {},
   "outputs": [
    {
     "data": {
      "text/plain": [
       "<BatchDataset shapes: ((64, 112), (64, 1), (64, 1)), types: (tf.float64, tf.float64, tf.float64)>"
      ]
     },
     "execution_count": 5,
     "metadata": {},
     "output_type": "execute_result"
    }
   ],
   "source": [
    "train_data = Dataset.from_tensor_slices((x_train, y_train, a_train))\n",
    "train_data = train_data.batch(batch_size, drop_remainder=True)\n",
    "train_data"
   ]
  },
  {
   "cell_type": "code",
   "execution_count": 6,
   "metadata": {},
   "outputs": [],
   "source": [
    "x_valid, y_valid, a_valid = load_data('adult', 'valid')\n",
    "\n",
    "valid_data = Dataset.from_tensor_slices((x_valid, y_valid, a_valid))\n",
    "valid_data = valid_data.batch(batch_size, drop_remainder=True)"
   ]
  },
  {
   "cell_type": "code",
   "execution_count": 7,
   "metadata": {},
   "outputs": [],
   "source": [
    "x_test, y_test, a_test = load_data('adult', 'test')\n",
    "\n",
    "test_data = Dataset.from_tensor_slices((x_test, y_test, a_test))\n",
    "test_data = test_data.batch(batch_size, drop_remainder=True)"
   ]
  },
  {
   "cell_type": "markdown",
   "metadata": {},
   "source": [
    "## Testing if models are being trained"
   ]
  },
  {
   "cell_type": "markdown",
   "metadata": {},
   "source": [
    "### For DP"
   ]
  },
  {
   "cell_type": "code",
   "execution_count": 8,
   "metadata": {
    "tags": []
   },
   "outputs": [
    {
     "name": "stdout",
     "output_type": "stream",
     "text": [
      "> Epoch | Class Loss | Adv Loss | Class Acc | Adv Acc\n",
      "> 1 | 0.537175178527832 | 0.8347809910774231 | 0.6528514588859416 | 0.3241462201591512\n"
     ]
    }
   ],
   "source": [
    "fairdef='DemPar'\n",
    "model = FairLogisticRegression(xdim, batch_size, fairdef)\n",
    "\n",
    "ret = train_loop(model, raw_data, train_data, 1)"
   ]
  },
  {
   "cell_type": "code",
   "execution_count": 9,
   "metadata": {},
   "outputs": [
    {
     "name": "stdout",
     "output_type": "stream",
     "text": [
      "> Class Acc | Adv Acc\n",
      "> 0.8068484042553191 | 0.32563164893617025\n",
      "> DP | DEqOdds | DEqOpp\n",
      "> 0.8780761063098907 | 0.8350172247737646 | 0.7082487344741821\n",
      "> Confusion Matrix \n",
      "TN: 4451.0 | FP: 107.0 \n",
      "FN: 1055.0 | TP: 403.0\n",
      "> Confusion Matrix for A = 0 \n",
      "TN: 1758.0 | FP: 0.0 \n",
      "FN: 196.0 | TP: 5.0\n",
      "> Confusion Matrix for A = 1 \n",
      "TN: 2693.0 | FP: 107.0 \n",
      "FN: 859.0 | TP: 398.0\n"
     ]
    }
   ],
   "source": [
    "Y, A, Y_hat, A_hat = evaluation(model, valid_data)\n",
    "ret = compute_metrics(Y, A, Y_hat, A_hat)"
   ]
  },
  {
   "cell_type": "code",
   "execution_count": 10,
   "metadata": {},
   "outputs": [
    {
     "data": {
      "text/plain": [
       "<matplotlib.axes._subplots.AxesSubplot at 0x7f7cb2d15df0>"
      ]
     },
     "execution_count": 10,
     "metadata": {},
     "output_type": "execute_result"
    },
    {
     "data": {
      "image/png": "[encoded data removed]",
      "text/plain": [
       "<Figure size 432x288 with 2 Axes>"
      ]
     },
     "metadata": {
      "needs_background": "light"
     },
     "output_type": "display_data"
    }
   ],
   "source": [
    "sns.heatmap(ret[4], annot=True, fmt='g')"
   ]
  },
  {
   "cell_type": "markdown",
   "metadata": {},
   "source": [
    "### For EqOdds"
   ]
  },
  {
   "cell_type": "code",
   "execution_count": 11,
   "metadata": {
    "tags": []
   },
   "outputs": [
    {
     "name": "stdout",
     "output_type": "stream",
     "text": [
      "> Epoch | Class Loss | Adv Loss | Class Acc | Adv Acc\n",
      "> 1 | 0.5167679786682129 | 0.7780622243881226 | 0.6641661140583555 | 0.32418766578249336\n"
     ]
    }
   ],
   "source": [
    "fairdef='EqOdds'\n",
    "model = FairLogisticRegression(xdim, batch_size, fairdef)\n",
    "ret = train_loop(model, raw_data, train_data, 1)"
   ]
  },
  {
   "cell_type": "code",
   "execution_count": 12,
   "metadata": {},
   "outputs": [
    {
     "name": "stdout",
     "output_type": "stream",
     "text": [
      "> Class Acc | Adv Acc\n",
      "> 0.8228058510638298 | 0.3272938829787234\n",
      "> DP | DEqOdds | DEqOpp\n",
      "> 0.7855367064476013 | 0.7250424064695835 | 0.5398069024085999\n",
      "> Confusion Matrix \n",
      "TN: 4299.0 | FP: 259.0 \n",
      "FN: 807.0 | TP: 651.0\n",
      "> Confusion Matrix for A = 0 \n",
      "TN: 1755.0 | FP: 3.0 \n",
      "FN: 191.0 | TP: 10.0\n",
      "> Confusion Matrix for A = 1 \n",
      "TN: 2544.0 | FP: 256.0 \n",
      "FN: 616.0 | TP: 641.0\n"
     ]
    }
   ],
   "source": [
    "Y, A, Y_hat, A_hat = evaluation(model, valid_data)\n",
    "ret = compute_metrics(Y, A, Y_hat, A_hat)"
   ]
  },
  {
   "cell_type": "code",
   "execution_count": 13,
   "metadata": {},
   "outputs": [
    {
     "data": {
      "text/plain": [
       "<matplotlib.axes._subplots.AxesSubplot at 0x7f7cb49d91f0>"
      ]
     },
     "execution_count": 13,
     "metadata": {},
     "output_type": "execute_result"
    },
    {
     "data": {
      "image/png": "[encoded data removed]",
      "text/plain": [
       "<Figure size 432x288 with 2 Axes>"
      ]
     },
     "metadata": {
      "needs_background": "light"
     },
     "output_type": "display_data"
    }
   ],
   "source": [
    "sns.heatmap(ret[4], annot=True, fmt='g')"
   ]
  },
  {
   "cell_type": "markdown",
   "metadata": {},
   "source": [
    "### For EqOpp"
   ]
  },
  {
   "cell_type": "code",
   "execution_count": 14,
   "metadata": {
    "tags": []
   },
   "outputs": [
    {
     "name": "stdout",
     "output_type": "stream",
     "text": [
      "> Epoch | Class Loss | Adv Loss | Class Acc | Adv Acc\n",
      "> 1 | 0.5352369546890259 | 0.3454836308956146 | 0.6534316976127321 | 0.3241462201591512\n"
     ]
    }
   ],
   "source": [
    "fairdef='EqOpp'\n",
    "model = FairLogisticRegression(xdim, batch_size, fairdef)\n",
    "ret = train_loop(model, raw_data, train_data, 1)"
   ]
  },
  {
   "cell_type": "code",
   "execution_count": 15,
   "metadata": {},
   "outputs": [
    {
     "name": "stdout",
     "output_type": "stream",
     "text": [
      "> Class Acc | Adv Acc\n",
      "> 0.8093417553191489 | 0.32563164893617025\n",
      "> DP | DEqOdds | DEqOpp\n",
      "> 0.8781635612249374 | 0.8410549741238356 | 0.7193982601165771\n",
      "> Confusion Matrix \n",
      "TN: 4451.0 | FP: 107.0 \n",
      "FN: 1040.0 | TP: 418.0\n",
      "> Confusion Matrix for A = 0 \n",
      "TN: 1757.0 | FP: 1.0 \n",
      "FN: 192.0 | TP: 9.0\n",
      "> Confusion Matrix for A = 1 \n",
      "TN: 2694.0 | FP: 106.0 \n",
      "FN: 848.0 | TP: 409.0\n"
     ]
    }
   ],
   "source": [
    "Y, A, Y_hat, A_hat = evaluation(model, valid_data)\n",
    "ret = compute_metrics(Y, A, Y_hat, A_hat)"
   ]
  },
  {
   "cell_type": "code",
   "execution_count": 16,
   "metadata": {},
   "outputs": [
    {
     "data": {
      "text/plain": [
       "<matplotlib.axes._subplots.AxesSubplot at 0x7f7cb3663c40>"
      ]
     },
     "execution_count": 16,
     "metadata": {},
     "output_type": "execute_result"
    },
    {
     "data": {
      "image/png": "[encoded data removed]",
      "text/plain": [
       "<Figure size 432x288 with 2 Axes>"
      ]
     },
     "metadata": {
      "needs_background": "light"
     },
     "output_type": "display_data"
    }
   ],
   "source": [
    "sns.heatmap(ret[4], annot=True, fmt='g')"
   ]
  },
  {
   "cell_type": "markdown",
   "metadata": {},
   "source": [
    "## Models"
   ]
  },
  {
   "cell_type": "code",
   "execution_count": 17,
   "metadata": {},
   "outputs": [],
   "source": [
    "cmap = sns.light_palette(\"seagreen\", as_cmap=True)"
   ]
  },
  {
   "cell_type": "code",
   "execution_count": 18,
   "metadata": {
    "tags": []
   },
   "outputs": [
    {
     "name": "stdout",
     "output_type": "stream",
     "text": [
      "> Epoch | Class Loss | Adv Loss | Class Acc | Adv Acc\n",
      "> 1 | 0.537175178527832 | 0.8347809910774231 | 0.6528514588859416 | 0.3241462201591512\n",
      "> 2 | 0.49111971259117126 | 0.7466696500778198 | 0.8116296419098143 | 0.3260941644562334\n",
      "> 3 | 0.4756799340248108 | 0.7003680467605591 | 0.8230686339522546 | 0.42892075596816975\n",
      "> 4 | 0.4695778489112854 | 0.6720441579818726 | 0.8257211538461539 | 0.5442224801061007\n",
      "> 5 | 0.4664961099624634 | 0.6524231433868408 | 0.8274618700265252 | 0.6349883952254642\n",
      "> 6 | 0.46467870473861694 | 0.6377593278884888 | 0.8284565649867374 | 0.6802055702917772\n",
      "> 7 | 0.463444322347641 | 0.6268690824508667 | 0.8294927055702918 | 0.6962035809018567\n",
      "> 8 | 0.4625151455402374 | 0.6181811094284058 | 0.8307360742705571 | 0.7015500663129973\n",
      "> 9 | 0.46182018518447876 | 0.6109867095947266 | 0.8312748673740054 | 0.7056946286472149\n",
      "> 10 | 0.46129101514816284 | 0.6049099564552307 | 0.8319794429708223 | 0.7053630636604774\n",
      "Validation\n",
      "> Class Acc | Adv Acc\n",
      "> 0.8342752659574468 | 0.7086103723404256\n",
      "> DP | DEqOdds | DEqOpp\n",
      "> 0.7876785844564438 | 0.7997799217700958 | 0.6946650743484497\n",
      "> Confusion Matrix \n",
      "TN: 4258.0 | FP: 300.0 \n",
      "FN: 697.0 | TP: 761.0\n",
      "> Confusion Matrix for A = 0 \n",
      "TN: 1745.0 | FP: 13.0 \n",
      "FN: 149.0 | TP: 52.0\n",
      "> Confusion Matrix for A = 1 \n",
      "TN: 2513.0 | FP: 287.0 \n",
      "FN: 548.0 | TP: 709.0\n"
     ]
    }
   ],
   "source": [
    "#For DemPar\n",
    "fairdef = 'DemPar'\n",
    "model = FairLogisticRegression(xdim, batch_size, fairdef)\n",
    "train_loop(model, raw_data, train_data, epochs)\n",
    "print('Validation')\n",
    "Y, A, Y_hat, A_hat = evaluation(model, valid_data)\n",
    "ret4dp = compute_metrics(Y, A, Y_hat, A_hat)"
   ]
  },
  {
   "cell_type": "code",
   "execution_count": 19,
   "metadata": {},
   "outputs": [
    {
     "data": {
      "text/plain": [
       "<matplotlib.axes._subplots.AxesSubplot at 0x7f7cbef37a90>"
      ]
     },
     "execution_count": 19,
     "metadata": {},
     "output_type": "execute_result"
    },
    {
     "data": {
      "image/png": "[encoded data removed]",
      "text/plain": [
       "<Figure size 432x288 with 2 Axes>"
      ]
     },
     "metadata": {
      "needs_background": "light"
     },
     "output_type": "display_data"
    }
   ],
   "source": [
    "sns.heatmap(ret4dp[4], cmap=cmap, annot=True, fmt='g')"
   ]
  },
  {
   "cell_type": "code",
   "execution_count": 20,
   "metadata": {
    "tags": []
   },
   "outputs": [
    {
     "name": "stdout",
     "output_type": "stream",
     "text": [
      "> Epoch | Class Loss | Adv Loss | Class Acc | Adv Acc\n",
      "> 1 | 0.5167679786682129 | 0.7780622243881226 | 0.6641661140583555 | 0.32418766578249336\n",
      "> 2 | 0.4772248864173889 | 0.6772430539131165 | 0.8168932360742706 | 0.4421004641909814\n",
      "> 3 | 0.46702659130096436 | 0.6287922859191895 | 0.8217009283819628 | 0.635195623342175\n",
      "> 4 | 0.4633764922618866 | 0.6006664633750916 | 0.8241462201591512 | 0.6976127320954907\n",
      "> 5 | 0.4616450369358063 | 0.5816541910171509 | 0.8262599469496021 | 0.7116213527851459\n",
      "> 6 | 0.460674524307251 | 0.567629337310791 | 0.8277519893899205 | 0.7141909814323607\n",
      "> 7 | 0.4600658416748047 | 0.5567131042480469 | 0.8287052387267905 | 0.7152685676392573\n",
      "> 8 | 0.4596503973007202 | 0.5479137897491455 | 0.8291611405835544 | 0.7156001326259946\n",
      "> 9 | 0.45930930972099304 | 0.541719913482666 | 0.8296584880636605 | 0.7158902519893899\n",
      "> 10 | 0.45897865295410156 | 0.536864161491394 | 0.8304459549071618 | 0.7161389257294429\n",
      "Validation\n",
      "> Class Acc | Adv Acc\n",
      "> 0.8326130319148937 | 0.7174202127659575\n",
      "> DP | DEqOdds | DEqOpp\n",
      "> 0.774985283613205 | 0.7720334306359291 | 0.646314948797226\n",
      "> Confusion Matrix \n",
      "TN: 4238.0 | FP: 320.0 \n",
      "FN: 687.0 | TP: 771.0\n",
      "> Confusion Matrix for A = 0 \n",
      "TN: 1745.0 | FP: 13.0 \n",
      "FN: 156.0 | TP: 45.0\n",
      "> Confusion Matrix for A = 1 \n",
      "TN: 2493.0 | FP: 307.0 \n",
      "FN: 531.0 | TP: 726.0\n"
     ]
    }
   ],
   "source": [
    "#For EqOdds\n",
    "fairdef = 'EqOdds'\n",
    "model = FairLogisticRegression(xdim, batch_size, fairdef)\n",
    "train_loop(model, raw_data, train_data, epochs)\n",
    "print('Validation')\n",
    "Y, A, Y_hat, A_hat = evaluation(model, valid_data)\n",
    "ret4eqodds = compute_metrics(Y, A, Y_hat, A_hat)"
   ]
  },
  {
   "cell_type": "code",
   "execution_count": 21,
   "metadata": {},
   "outputs": [
    {
     "data": {
      "text/plain": [
       "<matplotlib.axes._subplots.AxesSubplot at 0x7f7cb33a3550>"
      ]
     },
     "execution_count": 21,
     "metadata": {},
     "output_type": "execute_result"
    },
    {
     "data": {
      "image/png": "[encoded data removed]",
      "text/plain": [
       "<Figure size 432x288 with 2 Axes>"
      ]
     },
     "metadata": {
      "needs_background": "light"
     },
     "output_type": "display_data"
    }
   ],
   "source": [
    "sns.heatmap(ret4eqodds[4], cmap=cmap, annot=True, fmt='g')"
   ]
  },
  {
   "cell_type": "code",
   "execution_count": 22,
   "metadata": {
    "tags": []
   },
   "outputs": [
    {
     "name": "stdout",
     "output_type": "stream",
     "text": [
      "> Epoch | Class Loss | Adv Loss | Class Acc | Adv Acc\n",
      "> 1 | 0.5352369546890259 | 0.3454836308956146 | 0.6534316976127321 | 0.3241462201591512\n",
      "> 2 | 0.4896917939186096 | 0.28298279643058777 | 0.81345324933687 | 0.36849303713527853\n",
      "> 3 | 0.4740065634250641 | 0.2508600652217865 | 0.8228199602122016 | 0.4504310344827586\n",
      "> 4 | 0.46769219636917114 | 0.23284979164600372 | 0.8252238063660478 | 0.4923740053050398\n",
      "> 5 | 0.46450501680374146 | 0.22145062685012817 | 0.8267572944297082 | 0.5184847480106101\n",
      "> 6 | 0.46264076232910156 | 0.21360230445861816 | 0.8279592175066313 | 0.533612400530504\n",
      "> 7 | 0.46144241094589233 | 0.2078699767589569 | 0.8288710212201591 | 0.5444711538461539\n",
      "> 8 | 0.4606204628944397 | 0.20349963009357452 | 0.8299486074270557 | 0.5502320954907162\n",
      "> 9 | 0.4600295424461365 | 0.2000572681427002 | 0.8307775198938993 | 0.5560344827586207\n",
      "> 10 | 0.45958954095840454 | 0.1972757875919342 | 0.8312334217506632 | 0.5620026525198939\n",
      "Validation\n",
      "> Class Acc | Adv Acc\n",
      "> 0.8344414893617021 | 0.5658244680851063\n",
      "> DP | DEqOdds | DEqOpp\n",
      "> 0.7864461541175842 | 0.7982294633984566 | 0.6922784447669983\n",
      "> Confusion Matrix \n",
      "TN: 4256.0 | FP: 302.0 \n",
      "FN: 694.0 | TP: 764.0\n",
      "> Confusion Matrix for A = 0 \n",
      "TN: 1745.0 | FP: 13.0 \n",
      "FN: 149.0 | TP: 52.0\n",
      "> Confusion Matrix for A = 1 \n",
      "TN: 2511.0 | FP: 289.0 \n",
      "FN: 545.0 | TP: 712.0\n"
     ]
    }
   ],
   "source": [
    "#For EqOpp\n",
    "fairdef = 'EqOpp'\n",
    "model = FairLogisticRegression(xdim, batch_size, fairdef)\n",
    "train_loop(model, raw_data, train_data, epochs)\n",
    "print('Validation')\n",
    "Y, A, Y_hat, A_hat = evaluation(model, valid_data)\n",
    "ret4eqopp = compute_metrics(Y, A, Y_hat, A_hat)"
   ]
  },
  {
   "cell_type": "code",
   "execution_count": 23,
   "metadata": {},
   "outputs": [
    {
     "data": {
      "text/plain": [
       "<matplotlib.axes._subplots.AxesSubplot at 0x7f7cb33a3670>"
      ]
     },
     "execution_count": 23,
     "metadata": {},
     "output_type": "execute_result"
    },
    {
     "data": {
      "image/png": "[encoded data removed]",
      "text/plain": [
       "<Figure size 432x288 with 2 Axes>"
      ]
     },
     "metadata": {
      "needs_background": "light"
     },
     "output_type": "display_data"
    }
   ],
   "source": [
    "sns.heatmap(ret4eqopp[4], cmap=cmap, annot=True, fmt='g')"
   ]
  },
  {
   "cell_type": "code",
   "execution_count": 24,
   "metadata": {},
   "outputs": [
    {
     "data": {
      "image/png": "[encoded data removed]",
      "text/plain": [
       "<Figure size 432x288 with 1 Axes>"
      ]
     },
     "metadata": {},
     "output_type": "display_data"
    }
   ],
   "source": [
    "#x=[1,2,3]\n",
    "#y = [tf.math.reduce_mean(ret4dp[0]),tf.math.reduce_mean(ret4eqodds[0]),tf.math.reduce_mean(ret4eqodds[0])]\n",
    "y=[2,4,6]\n",
    "#plt.scatter()\n",
    "#plt.pyplot.grid(b=True, color='darkgrey')\n",
    "sns.set_style('darkgrid')\n",
    "plt.ylabel('Accuracy')\n",
    "\n",
    "'''# plotting the line 1 points \n",
    "plt.plot(fair_coeff_list, laftr_accs, label = \"laftr\")\n",
    "# line 2 points'''\n",
    "\n",
    "# plotting the line 2 points \n",
    "#plt.scatter(x, y)\n",
    "\n",
    "plt.scatter(1, ret4dp[0], label = \"ZHANG DemPar\")\n",
    "\n",
    "plt.scatter(2, ret4eqodds[0], label = \"ZHANG EqOdds\")\n",
    "\n",
    "plt.scatter(3, ret4eqopp[0], label = \"ZHANG EqOpp\")\n",
    "\n",
    "#plt.xlabel('Fair coefficient')\n",
    "plt.legend()\n",
    "\n",
    "plt.show()"
   ]
  },
  {
   "cell_type": "code",
   "execution_count": 25,
   "metadata": {},
   "outputs": [
    {
     "data": {
      "image/png": "[encoded data removed]",
      "text/plain": [
       "<Figure size 432x288 with 1 Axes>"
      ]
     },
     "metadata": {},
     "output_type": "display_data"
    }
   ],
   "source": [
    "plt.plot()\n",
    "plt.ylabel('Accuracy')\n",
    "\n",
    "'''# plotting the line 1 points \n",
    "plt.plot(fair_coeff_list, laftr_dps, label = \"laftr\")\n",
    "# line 2 points'''\n",
    "#axes = plt.gca()\n",
    "#axes.set_xlim([0.0643,0.0645])\n",
    "plt.scatter(ret4dp[1], ret4dp[0], label = \"ZHANG DemPar\")\n",
    "\n",
    "plt.scatter(ret4eqodds[1], ret4eqodds[0], label = \"ZHANG EqOdds\")\n",
    "\n",
    "plt.scatter(ret4eqopp[1], ret4eqopp[0], label = \"ZHANG EqOpp\")\n",
    "\n",
    "plt.xlabel('\\u0394DP')\n",
    "plt.legend()\n",
    "plt.show()"
   ]
  },
  {
   "cell_type": "code",
   "execution_count": 26,
   "metadata": {},
   "outputs": [
    {
     "data": {
      "image/png": "[encoded data removed]",
      "text/plain": [
       "<Figure size 432x288 with 1 Axes>"
      ]
     },
     "metadata": {},
     "output_type": "display_data"
    }
   ],
   "source": [
    "plt.plot()\n",
    "plt.ylabel('Accuracy')\n",
    "\n",
    "'''# plotting the line 1 points \n",
    "plt.plot(fair_coeff_list, laftr_dps, label = \"laftr\")\n",
    "# line 2 points'''\n",
    "\n",
    "plt.scatter(ret4dp[2], ret4dp[0], label = \"ZHANG DemPar\")\n",
    "\n",
    "plt.scatter(ret4eqodds[2], ret4eqodds[0], label = \"ZHANG EqOdds\")\n",
    "\n",
    "plt.scatter(ret4eqopp[2], ret4eqopp[0], label = \"ZHANG EqOpp\")\n",
    "\n",
    "plt.xlabel('\\u0394EqOdds')\n",
    "plt.legend()\n",
    "plt.show()"
   ]
  },
  {
   "cell_type": "code",
   "execution_count": 27,
   "metadata": {},
   "outputs": [
    {
     "data": {
      "image/png": "[encoded data removed]",
      "text/plain": [
       "<Figure size 432x288 with 1 Axes>"
      ]
     },
     "metadata": {},
     "output_type": "display_data"
    }
   ],
   "source": [
    "plt.plot()\n",
    "plt.ylabel('Accuracy')\n",
    "\n",
    "'''# plotting the line 1 points \n",
    "plt.plot(fair_coeff_list, laftr_dps, label = \"laftr\")\n",
    "# line 2 points'''\n",
    "\n",
    "plt.scatter(ret4dp[3], ret4dp[0], label = \"ZHANG DemPar\")\n",
    "\n",
    "plt.scatter(ret4eqodds[3], ret4eqodds[0], label = \"ZHANG EqOdds\")\n",
    "\n",
    "plt.scatter(ret4eqopp[3], ret4eqopp[0], label = \"ZHANG EqOpp\")\n",
    "\n",
    "plt.xlabel('\\u0394EqOpp')\n",
    "plt.legend()\n",
    "plt.show()"
   ]
  }
 ],
 "metadata": {
  "interpreter": {
   "hash": "41359ec383f887151a607ad1e28cb7dbc05f61385692c63e2bb2f343bf03f280"
  },
  "kernelspec": {
   "display_name": "Python 3.8.5 64-bit ('falsb': conda)",
   "language": "python",
   "name": "python3"
  },
  "language_info": {
   "codemirror_mode": {
    "name": "ipython",
    "version": 3
   },
   "file_extension": ".py",
   "mimetype": "text/x-python",
   "name": "python",
   "nbconvert_exporter": "python",
   "pygments_lexer": "ipython3",
   "version": "3.8.5"
  },
  "metadata": {
   "interpreter": {
    "hash": "34ca74ed6235dfc7dda926bb3adb31e801e3d02679121d5b444ee035e270bd57"
   }
  }
 },
 "nbformat": 4,
 "nbformat_minor": 4
}
