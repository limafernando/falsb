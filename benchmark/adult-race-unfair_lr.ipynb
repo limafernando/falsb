{
 "cells": [
  {
   "cell_type": "markdown",
   "metadata": {},
   "source": [
    "## Import libs"
   ]
  },
  {
   "cell_type": "code",
   "execution_count": 1,
   "metadata": {},
   "outputs": [],
   "source": [
    "import pandas as pd\n",
    "from tensorflow.keras.optimizers import Adam\n",
    "from tensorflow.data import Dataset\n",
    "import seaborn as sns\n",
    "\n",
    "\n",
    "from models.unfair_lr.models import UnfairLogisticRegression\n",
    "from models.unfair_lr.learning import train_loop\n",
    "from util.evaluation import *\n",
    "from util.load_data import load_data"
   ]
  },
  {
   "cell_type": "markdown",
   "metadata": {},
   "source": [
    "## Preliminaries"
   ]
  },
  {
   "cell_type": "code",
   "execution_count": 2,
   "metadata": {},
   "outputs": [],
   "source": [
    "batch_size = 64\n",
    "epochs = 100\n",
    "lr = 0.001\n",
    "opt = Adam(learning_rate=lr)"
   ]
  },
  {
   "cell_type": "code",
   "execution_count": 3,
   "metadata": {},
   "outputs": [],
   "source": [
    "header = \"model_name\", \"clas_acc\", \"dp\", \"deqodds\", \"deqopp\", \"trade_dp\", \"trade_deqodds\", \"trade_deqopp\"\n",
    "results = []\n",
    "\n",
    "test_loop = 1"
   ]
  },
  {
   "cell_type": "markdown",
   "metadata": {},
   "source": [
    "## Load data"
   ]
  },
  {
   "cell_type": "code",
   "execution_count": 4,
   "metadata": {},
   "outputs": [],
   "source": [
    "data_name = 'adult-race'"
   ]
  },
  {
   "cell_type": "code",
   "execution_count": 5,
   "metadata": {
    "tags": []
   },
   "outputs": [],
   "source": [
    "x_train, y_train, a_train = load_data(data_name, 'train')\n",
    "raw_data = (x_train, y_train, a_train)"
   ]
  },
  {
   "cell_type": "code",
   "execution_count": 6,
   "metadata": {},
   "outputs": [],
   "source": [
    "xdim = x_train.shape[1]\n",
    "ydim = y_train.shape[1]\n",
    "adim = a_train.shape[1]\n",
    "zdim = 8"
   ]
  },
  {
   "cell_type": "code",
   "execution_count": 7,
   "metadata": {},
   "outputs": [
    {
     "data": {
      "text/plain": [
       "<BatchDataset shapes: ((64, 112), (64, 1), (64, 5)), types: (tf.float64, tf.float64, tf.float64)>"
      ]
     },
     "execution_count": 7,
     "metadata": {},
     "output_type": "execute_result"
    }
   ],
   "source": [
    "train_data = Dataset.from_tensor_slices((x_train, y_train, a_train))\n",
    "train_data = train_data.batch(batch_size, drop_remainder=True)\n",
    "train_data"
   ]
  },
  {
   "cell_type": "code",
   "execution_count": 8,
   "metadata": {},
   "outputs": [],
   "source": [
    "x_valid, y_valid, a_valid = load_data(data_name, 'valid')\n",
    "\n",
    "valid_data = Dataset.from_tensor_slices((x_valid, y_valid, a_valid))\n",
    "valid_data = valid_data.batch(batch_size, drop_remainder=True)"
   ]
  },
  {
   "cell_type": "code",
   "execution_count": 9,
   "metadata": {},
   "outputs": [],
   "source": [
    "x_test, y_test, a_test = load_data(data_name, 'test')\n",
    "\n",
    "test_data = Dataset.from_tensor_slices((x_test, y_test, a_test))\n",
    "test_data = test_data.batch(batch_size, drop_remainder=True)"
   ]
  },
  {
   "cell_type": "markdown",
   "metadata": {},
   "source": [
    "## Testing"
   ]
  },
  {
   "cell_type": "code",
   "execution_count": 10,
   "metadata": {
    "tags": []
   },
   "outputs": [
    {
     "name": "stdout",
     "output_type": "stream",
     "text": [
      "> Epoch | Class Loss | Class Acc\n",
      "> 1 | 0.5871778726577759 | 0.5937085543766578\n",
      "> 2 | 0.5375271439552307 | 0.7774370026525199\n",
      "> 3 | 0.5096381306648254 | 0.8061588196286472\n",
      "> 4 | 0.49505504965782166 | 0.8183023872679045\n",
      "> 5 | 0.4866766929626465 | 0.8220324933687002\n",
      "> 6 | 0.48134711384773254 | 0.8242291114058355\n",
      "> 7 | 0.4776816666126251 | 0.8257211538461539\n",
      "> 8 | 0.4750114381313324 | 0.8269645225464191\n",
      "> 9 | 0.47298145294189453 | 0.8276276525198939\n",
      "> 10 | 0.4713868498802185 | 0.827876326259947\n",
      "> 11 | 0.470101922750473 | 0.828373673740053\n",
      "> 12 | 0.46904456615448 | 0.8285809018567639\n",
      "> 13 | 0.4681593179702759 | 0.8291196949602122\n",
      "> 14 | 0.4674074947834015 | 0.8294098143236074\n",
      "> 15 | 0.46676117181777954 | 0.8295341511936339\n",
      "> 16 | 0.46619969606399536 | 0.829782824933687\n",
      "> 17 | 0.4657074511051178 | 0.8301143899204244\n",
      "> 18 | 0.46527254581451416 | 0.8299900530503979\n",
      "> 19 | 0.46488553285598755 | 0.8299071618037135\n",
      "> 20 | 0.4645388424396515 | 0.8301143899204244\n",
      "> 21 | 0.4642268121242523 | 0.8302801724137931\n",
      "> 22 | 0.46394437551498413 | 0.830487400530504\n",
      "> 23 | 0.46368759870529175 | 0.8305288461538461\n",
      "> 24 | 0.4634532928466797 | 0.8307360742705571\n",
      "> 25 | 0.4632386565208435 | 0.8308604111405835\n",
      "> 26 | 0.4630412757396698 | 0.8311090848806366\n",
      "> 27 | 0.46285930275917053 | 0.8312334217506632\n",
      "> 28 | 0.46269088983535767 | 0.831440649867374\n",
      "> 29 | 0.4625347852706909 | 0.8313992042440318\n",
      "> 30 | 0.46238964796066284 | 0.8316893236074271\n",
      "> 31 | 0.46225446462631226 | 0.8318136604774535\n",
      "> 32 | 0.462128221988678 | 0.8317722148541115\n",
      "> 33 | 0.46201005578041077 | 0.8320208885941645\n",
      "> 34 | 0.4618992507457733 | 0.8321866710875332\n",
      "> 35 | 0.4617951512336731 | 0.8322281167108754\n",
      "> 36 | 0.4616973102092743 | 0.8321866710875332\n",
      "> 37 | 0.4616050720214844 | 0.8322281167108754\n",
      "> 38 | 0.46151816844940186 | 0.832145225464191\n",
      "> 39 | 0.46143603324890137 | 0.8322695623342176\n",
      "> 40 | 0.46135830879211426 | 0.8323524535809018\n",
      "> 41 | 0.4612846374511719 | 0.8324767904509284\n",
      "> 42 | 0.4612147808074951 | 0.8324767904509284\n",
      "> 43 | 0.4611484706401825 | 0.832393899204244\n",
      "> 44 | 0.46108537912368774 | 0.8324767904509284\n",
      "> 45 | 0.4610254168510437 | 0.8325182360742706\n",
      "> 46 | 0.46096837520599365 | 0.8326011273209549\n",
      "> 47 | 0.4609140157699585 | 0.8326840185676393\n",
      "> 48 | 0.46086210012435913 | 0.8327669098143236\n",
      "> 49 | 0.4608125686645508 | 0.8329326923076923\n",
      "> 50 | 0.4607653021812439 | 0.8330155835543767\n",
      "> 51 | 0.4607200622558594 | 0.833098474801061\n",
      "> 52 | 0.46067678928375244 | 0.8331399204244032\n",
      "> 53 | 0.46063536405563354 | 0.833098474801061\n",
      "> 54 | 0.46059557795524597 | 0.8331813660477454\n",
      "> 55 | 0.4605575501918793 | 0.8331399204244032\n",
      "> 56 | 0.46052098274230957 | 0.8331399204244032\n",
      "> 57 | 0.4604860246181488 | 0.8331813660477454\n",
      "> 58 | 0.46045243740081787 | 0.8332642572944297\n",
      "> 59 | 0.46042007207870483 | 0.8332642572944297\n",
      "> 60 | 0.46038901805877686 | 0.8332228116710876\n",
      "> 61 | 0.46035903692245483 | 0.8333057029177718\n",
      "> 62 | 0.4603303074836731 | 0.833347148541114\n",
      "> 63 | 0.46030253171920776 | 0.8332642572944297\n",
      "> 64 | 0.46027588844299316 | 0.8333057029177718\n",
      "> 65 | 0.4602501690387726 | 0.8334714854111406\n",
      "> 66 | 0.46022534370422363 | 0.8334714854111406\n",
      "> 67 | 0.4602014124393463 | 0.833554376657825\n",
      "> 68 | 0.4601783752441406 | 0.8335958222811671\n",
      "> 69 | 0.460156112909317 | 0.8335958222811671\n",
      "> 70 | 0.4601346254348755 | 0.8336787135278515\n",
      "> 71 | 0.46011385321617126 | 0.8335958222811671\n",
      "> 72 | 0.4600938558578491 | 0.8335958222811671\n",
      "> 73 | 0.46007442474365234 | 0.833554376657825\n",
      "> 74 | 0.4600556790828705 | 0.833554376657825\n",
      "> 75 | 0.4600374698638916 | 0.8335129310344828\n",
      "> 76 | 0.4600200057029724 | 0.8334714854111406\n",
      "> 77 | 0.460003137588501 | 0.8333885941644562\n",
      "> 78 | 0.45998674631118774 | 0.8334300397877984\n",
      "> 79 | 0.4599708914756775 | 0.8334300397877984\n",
      "> 80 | 0.45995551347732544 | 0.8335129310344828\n",
      "> 81 | 0.45994067192077637 | 0.833554376657825\n",
      "> 82 | 0.4599263370037079 | 0.8335958222811671\n",
      "> 83 | 0.45991235971450806 | 0.833554376657825\n",
      "> 84 | 0.45989885926246643 | 0.8337201591511937\n",
      "> 85 | 0.45988571643829346 | 0.8338444960212201\n",
      "> 86 | 0.4598730504512787 | 0.8339273872679045\n",
      "> 87 | 0.45986080169677734 | 0.8340102785145889\n",
      "> 88 | 0.45984888076782227 | 0.8340102785145889\n",
      "> 89 | 0.45983731746673584 | 0.8340931697612732\n",
      "> 90 | 0.45982611179351807 | 0.8340102785145889\n",
      "> 91 | 0.45981520414352417 | 0.834051724137931\n",
      "> 92 | 0.45980462431907654 | 0.8341346153846154\n",
      "> 93 | 0.45979443192481995 | 0.8341346153846154\n",
      "> 94 | 0.45978444814682007 | 0.834051724137931\n",
      "> 95 | 0.45977479219436646 | 0.834051724137931\n",
      "> 96 | 0.45976537466049194 | 0.834051724137931\n",
      "> 97 | 0.4597562551498413 | 0.834051724137931\n",
      "> 98 | 0.4597475826740265 | 0.8341346153846154\n",
      "> 99 | 0.4597390294075012 | 0.8340931697612732\n",
      "> 100 | 0.45973071455955505 | 0.8341346153846154\n",
      "> Evaluation\n",
      "> Class Acc = 0.840093085106383\n",
      "> DP | DEqOdds | DEqOpp\n",
      "> 0.32775481045246124 | 0.7840487592620775 | 0.6391822770237923\n",
      "> Confusion Matrix \n",
      "TN: 4256.0 | FP: 302.0 \n",
      "FN: 660.0 | TP: 798.0\n"
     ]
    }
   ],
   "source": [
    "for i in range(test_loop):\n",
    "\n",
    "    model = UnfairLogisticRegression(xdim, batch_size)\n",
    "    ret = train_loop(model, train_data, epochs)\n",
    "    Y, A, Y_hat = evaluation(model, valid_data)\n",
    "    \n",
    "    clas_acc, dp, deqodds, deqopp, confusion_matrix  = compute_metrics(Y, A, Y_hat, adim=adim)\n",
    "    \n",
    "    fair_metrics = (dp, deqodds, deqopp)\n",
    "    \n",
    "    tradeoff = []\n",
    "    \n",
    "    for fair_metric in fair_metrics:\n",
    "        tradeoff.append(compute_tradeoff(clas_acc, fair_metric))\n",
    "    \n",
    "    result = ['UnfairLR-decay', clas_acc, dp, deqodds, deqopp, tradeoff[0], tradeoff[1], tradeoff[2]]\n",
    "\n",
    "    results.append(result)"
   ]
  },
  {
   "cell_type": "code",
   "execution_count": 11,
   "metadata": {},
   "outputs": [
    {
     "data": {
      "text/plain": [
       "<matplotlib.axes._subplots.AxesSubplot at 0x7f512d603c70>"
      ]
     },
     "execution_count": 11,
     "metadata": {},
     "output_type": "execute_result"
    },
    {
     "data": {
      "image/png": "[encoded data removed]",
      "text/plain": [
       "<Figure size 432x288 with 2 Axes>"
      ]
     },
     "metadata": {
      "needs_background": "light"
     },
     "output_type": "display_data"
    }
   ],
   "source": [
    "sns.heatmap(confusion_matrix, annot=True, fmt='g')"
   ]
  },
  {
   "cell_type": "code",
   "execution_count": 12,
   "metadata": {
    "tags": []
   },
   "outputs": [
    {
     "name": "stdout",
     "output_type": "stream",
     "text": [
      "> Epoch | Class Loss | Class Acc\n",
      "> 1 | 0.5871778726577759 | 0.5937085543766578\n",
      "> 2 | 0.5171973705291748 | 0.7916942970822282\n",
      "> 3 | 0.4863579571247101 | 0.8203332228116711\n",
      "> 4 | 0.472371369600296 | 0.8266329575596817\n",
      "> 5 | 0.46499741077423096 | 0.8289539124668435\n",
      "> 6 | 0.46076521277427673 | 0.8316893236074271\n",
      "> 7 | 0.45835617184638977 | 0.8334300397877984\n",
      "> 8 | 0.45716285705566406 | 0.8346319628647215\n",
      "> 9 | 0.4568311274051666 | 0.8363726790450928\n",
      "> 10 | 0.45710963010787964 | 0.837574602122016\n",
      "> 11 | 0.45780259370803833 | 0.8386936339522546\n",
      "> 12 | 0.4587545394897461 | 0.8394396551724138\n",
      "> 13 | 0.4598451852798462 | 0.8398955570291777\n",
      "> 14 | 0.4609850347042084 | 0.8403929045092838\n",
      "> 15 | 0.46211177110671997 | 0.8412218169761273\n",
      "> 16 | 0.4631843864917755 | 0.8418020557029178\n",
      "> 17 | 0.4641783833503723 | 0.8424651856763926\n",
      "> 18 | 0.4650811553001404 | 0.8427553050397878\n",
      "> 19 | 0.4658880829811096 | 0.8431697612732095\n",
      "> 20 | 0.46659958362579346 | 0.8433355437665783\n",
      "> 21 | 0.46721944212913513 | 0.8435842175066313\n",
      "> 22 | 0.4677530527114868 | 0.8435842175066313\n",
      "> 23 | 0.4682069420814514 | 0.8439572281167109\n",
      "> 24 | 0.4685875475406647 | 0.844454575596817\n",
      "> 25 | 0.46890169382095337 | 0.8446618037135278\n",
      "> 26 | 0.46915578842163086 | 0.8450348143236074\n",
      "> 27 | 0.46935588121414185 | 0.8450348143236074\n",
      "> 28 | 0.46950772404670715 | 0.8451591511936339\n",
      "> 29 | 0.4696165919303894 | 0.8451591511936339\n",
      "> 30 | 0.46968743205070496 | 0.8454492705570292\n",
      "> 31 | 0.4697244465351105 | 0.84565649867374\n",
      "> 32 | 0.4697316884994507 | 0.8459880636604774\n",
      "> 33 | 0.4697127342224121 | 0.8463610742705571\n",
      "> 34 | 0.4696709215641022 | 0.8463610742705571\n",
      "> 35 | 0.4696090817451477 | 0.8466926392572944\n",
      "> 36 | 0.4695297181606293 | 0.846816976127321\n",
      "> 37 | 0.4694351553916931 | 0.846816976127321\n",
      "> 38 | 0.46932750940322876 | 0.847065649867374\n",
      "> 39 | 0.46920856833457947 | 0.8471899867374005\n",
      "> 40 | 0.4690800607204437 | 0.8473557692307693\n",
      "> 41 | 0.46894341707229614 | 0.8475215517241379\n",
      "> 42 | 0.4687999188899994 | 0.8476458885941645\n",
      "> 43 | 0.46865081787109375 | 0.8479360079575596\n",
      "> 44 | 0.468497097492218 | 0.8479774535809018\n",
      "> 45 | 0.46833962202072144 | 0.8480603448275862\n",
      "> 46 | 0.46817919611930847 | 0.8482261273209549\n",
      "> 47 | 0.46801674365997314 | 0.8482675729442971\n",
      "> 48 | 0.46785271167755127 | 0.8485576923076923\n",
      "> 49 | 0.4676879644393921 | 0.8488892572944297\n",
      "> 50 | 0.4675227105617523 | 0.849179376657825\n",
      "> 51 | 0.4673575758934021 | 0.8493037135278515\n",
      "> 52 | 0.4671929180622101 | 0.8497181697612732\n",
      "> 53 | 0.4670293927192688 | 0.8497181697612732\n",
      "> 54 | 0.46686699986457825 | 0.8498425066312998\n",
      "> 55 | 0.46670621633529663 | 0.849925397877984\n",
      "> 56 | 0.4665473401546478 | 0.8502569628647215\n",
      "> 57 | 0.466390460729599 | 0.8502984084880637\n",
      "> 58 | 0.46623584628105164 | 0.8502984084880637\n",
      "> 59 | 0.4660838544368744 | 0.8504641909814323\n",
      "> 60 | 0.4659344553947449 | 0.8506714190981433\n",
      "> 61 | 0.46578800678253174 | 0.8508372015915119\n",
      "> 62 | 0.4656444191932678 | 0.8509615384615384\n",
      "> 63 | 0.4655040204524994 | 0.8509615384615384\n",
      "> 64 | 0.46536675095558167 | 0.8508372015915119\n",
      "> 65 | 0.465232789516449 | 0.8507543103448276\n",
      "> 66 | 0.46510225534439087 | 0.8508786472148541\n",
      "> 67 | 0.4649750888347626 | 0.8508786472148541\n",
      "> 68 | 0.4648514986038208 | 0.8510029840848806\n",
      "> 69 | 0.4647315740585327 | 0.8508786472148541\n",
      "> 70 | 0.4646151661872864 | 0.8507543103448276\n",
      "> 71 | 0.46450233459472656 | 0.8506714190981433\n",
      "> 72 | 0.4643931984901428 | 0.8507128647214854\n",
      "> 73 | 0.46428781747817993 | 0.8507957559681698\n",
      "> 74 | 0.4641861915588379 | 0.8507543103448276\n",
      "> 75 | 0.4640881419181824 | 0.8510029840848806\n",
      "> 76 | 0.4639939069747925 | 0.8510444297082228\n",
      "> 77 | 0.4639032781124115 | 0.8511687665782494\n",
      "> 78 | 0.46381640434265137 | 0.8512516578249337\n",
      "> 79 | 0.46373307704925537 | 0.8512931034482759\n",
      "> 80 | 0.46365344524383545 | 0.8514588859416445\n",
      "> 81 | 0.4635774791240692 | 0.8515003315649867\n",
      "> 82 | 0.4635050892829895 | 0.8517075596816976\n",
      "> 83 | 0.4634362459182739 | 0.8517075596816976\n",
      "> 84 | 0.4633709192276001 | 0.8519147877984085\n",
      "> 85 | 0.4633091390132904 | 0.8519562334217506\n",
      "> 86 | 0.4632507562637329 | 0.8519562334217506\n",
      "> 87 | 0.46319571137428284 | 0.8521634615384616\n",
      "> 88 | 0.4631440341472626 | 0.8520805702917772\n",
      "> 89 | 0.46309566497802734 | 0.8521220159151194\n",
      "> 90 | 0.4630506634712219 | 0.8521220159151194\n",
      "> 91 | 0.4630086421966553 | 0.8521220159151194\n",
      "> 92 | 0.4629697799682617 | 0.8521220159151194\n",
      "> 93 | 0.4629340171813965 | 0.8522877984084881\n",
      "> 94 | 0.46290117502212524 | 0.8523292440318302\n",
      "> 95 | 0.4628712832927704 | 0.8522049071618037\n",
      "> 96 | 0.46284425258636475 | 0.8521220159151194\n",
      "> 97 | 0.46281999349594116 | 0.8521220159151194\n",
      "> 98 | 0.462798535823822 | 0.8522877984084881\n",
      "> 99 | 0.46277979016304016 | 0.8522463527851459\n",
      "> 100 | 0.4627634882926941 | 0.8524535809018567\n",
      "> Evaluation\n",
      "> Class Acc = 0.8507313829787234\n",
      "> DP | DEqOdds | DEqOpp\n",
      "> 0.1391764134168625 | 0.6787115994375199 | 0.41171546280384064\n",
      "> Confusion Matrix \n",
      "TN: 4245.0 | FP: 313.0 \n",
      "FN: 585.0 | TP: 873.0\n"
     ]
    }
   ],
   "source": [
    "for i in range(test_loop):\n",
    "    opt = Adam(learning_rate=lr)\n",
    "\n",
    "    model = UnfairLogisticRegression(xdim, batch_size)\n",
    "    ret = train_loop(model, train_data, epochs, opt)\n",
    "    Y, A, Y_hat = evaluation(model, valid_data)\n",
    "    \n",
    "    clas_acc, dp, deqodds, deqopp, confusion_matrix  = compute_metrics(Y, A, Y_hat, adim=adim)\n",
    "    \n",
    "    fair_metrics = (dp, deqodds, deqopp)\n",
    "    \n",
    "    tradeoff = []\n",
    "    \n",
    "    for fair_metric in fair_metrics:\n",
    "        tradeoff.append(compute_tradeoff(clas_acc, fair_metric))\n",
    "    \n",
    "    result = ['UnfairLR', clas_acc, dp, deqodds, deqopp, tradeoff[0], tradeoff[1], tradeoff[2]]\n",
    "\n",
    "    results.append(result)"
   ]
  },
  {
   "cell_type": "code",
   "execution_count": 13,
   "metadata": {},
   "outputs": [
    {
     "data": {
      "text/plain": [
       "<matplotlib.axes._subplots.AxesSubplot at 0x7f512d6187c0>"
      ]
     },
     "execution_count": 13,
     "metadata": {},
     "output_type": "execute_result"
    },
    {
     "data": {
      "image/png": "[encoded data removed]",
      "text/plain": [
       "<Figure size 432x288 with 2 Axes>"
      ]
     },
     "metadata": {
      "needs_background": "light"
     },
     "output_type": "display_data"
    }
   ],
   "source": [
    "sns.heatmap(confusion_matrix, annot=True, fmt='g')"
   ]
  },
  {
   "cell_type": "markdown",
   "metadata": {},
   "source": [
    "## Saving into DF then CSV"
   ]
  },
  {
   "cell_type": "code",
   "execution_count": 14,
   "metadata": {},
   "outputs": [
    {
     "data": {
      "text/html": [
       "<div>\n",
       "<style scoped>\n",
       "    .dataframe tbody tr th:only-of-type {\n",
       "        vertical-align: middle;\n",
       "    }\n",
       "\n",
       "    .dataframe tbody tr th {\n",
       "        vertical-align: top;\n",
       "    }\n",
       "\n",
       "    .dataframe thead th {\n",
       "        text-align: right;\n",
       "    }\n",
       "</style>\n",
       "<table border=\"1\" class=\"dataframe\">\n",
       "  <thead>\n",
       "    <tr style=\"text-align: right;\">\n",
       "      <th></th>\n",
       "      <th>model_name</th>\n",
       "      <th>clas_acc</th>\n",
       "      <th>dp</th>\n",
       "      <th>deqodds</th>\n",
       "      <th>deqopp</th>\n",
       "      <th>trade_dp</th>\n",
       "      <th>trade_deqodds</th>\n",
       "      <th>trade_deqopp</th>\n",
       "    </tr>\n",
       "  </thead>\n",
       "  <tbody>\n",
       "    <tr>\n",
       "      <th>0</th>\n",
       "      <td>UnfairLR-decay</td>\n",
       "      <td>0.840093</td>\n",
       "      <td>0.327755</td>\n",
       "      <td>0.784049</td>\n",
       "      <td>0.639182</td>\n",
       "      <td>0.471542</td>\n",
       "      <td>0.811104</td>\n",
       "      <td>0.725994</td>\n",
       "    </tr>\n",
       "    <tr>\n",
       "      <th>1</th>\n",
       "      <td>UnfairLR</td>\n",
       "      <td>0.850731</td>\n",
       "      <td>0.139176</td>\n",
       "      <td>0.678712</td>\n",
       "      <td>0.411715</td>\n",
       "      <td>0.239218</td>\n",
       "      <td>0.755048</td>\n",
       "      <td>0.554890</td>\n",
       "    </tr>\n",
       "  </tbody>\n",
       "</table>\n",
       "</div>"
      ],
      "text/plain": [
       "       model_name  clas_acc        dp   deqodds    deqopp  trade_dp  \\\n",
       "0  UnfairLR-decay  0.840093  0.327755  0.784049  0.639182  0.471542   \n",
       "1        UnfairLR  0.850731  0.139176  0.678712  0.411715  0.239218   \n",
       "\n",
       "   trade_deqodds  trade_deqopp  \n",
       "0       0.811104      0.725994  \n",
       "1       0.755048      0.554890  "
      ]
     },
     "execution_count": 14,
     "metadata": {},
     "output_type": "execute_result"
    }
   ],
   "source": [
    "result_df = pd.DataFrame(results, columns=header)\n",
    "result_df"
   ]
  },
  {
   "cell_type": "code",
   "execution_count": 16,
   "metadata": {},
   "outputs": [],
   "source": [
    "result_df.to_csv(f'{data_name}-result/unfair_lr-{epochs}.csv')"
   ]
  }
 ],
 "metadata": {
  "interpreter": {
   "hash": "34ca74ed6235dfc7dda926bb3adb31e801e3d02679121d5b444ee035e270bd57"
  },
  "kernelspec": {
   "display_name": "Python 3.8.5 64-bit ('falsb': conda)",
   "name": "python3"
  },
  "language_info": {
   "codemirror_mode": {
    "name": "ipython",
    "version": 3
   },
   "file_extension": ".py",
   "mimetype": "text/x-python",
   "name": "python",
   "nbconvert_exporter": "python",
   "pygments_lexer": "ipython3",
   "version": "3.8.5"
  },
  "metadata": {
   "interpreter": {
    "hash": "34ca74ed6235dfc7dda926bb3adb31e801e3d02679121d5b444ee035e270bd57"
   }
  }
 },
 "nbformat": 4,
 "nbformat_minor": 4
}
