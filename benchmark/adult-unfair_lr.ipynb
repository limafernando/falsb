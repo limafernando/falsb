{
 "cells": [
  {
   "cell_type": "markdown",
   "metadata": {},
   "source": [
    "## Import libs"
   ]
  },
  {
   "cell_type": "code",
   "execution_count": 36,
   "metadata": {},
   "outputs": [],
   "source": [
    "import numpy as np\n",
    "import pandas as pd\n",
    "import tensorflow as tf\n",
    "from tensorflow.keras.optimizers import Adam\n",
    "from tensorflow.data import Dataset\n",
    "import seaborn as sns\n",
    "\n",
    "\n",
    "from util import metrics\n",
    "from util.evaluation import compute_tradeoff\n",
    "from util.load_data import load_data\n",
    "from models.zhang.models import UnfairLogisticRegression"
   ]
  },
  {
   "cell_type": "markdown",
   "metadata": {},
   "source": [
    "## Preliminaries"
   ]
  },
  {
   "cell_type": "code",
   "execution_count": 2,
   "metadata": {},
   "outputs": [],
   "source": [
    "batch_size = 64\n",
    "epochs = 1\n",
    "lr = 0.001\n",
    "opt = Adam(learning_rate=lr)"
   ]
  },
  {
   "cell_type": "code",
   "execution_count": 3,
   "metadata": {},
   "outputs": [],
   "source": [
    "header = \"model_name\", \"clas_acc\", \"dp\", \"deqodds\", \"deqopp\", \"trade_dp\", \"trade_deqodds\", \"trade_deqopp\", \"TN_a0\", \"FP_a0\", \"FN_a0\", \"TP_a0\", \"TN_a1\", \"FP_a1\", \"FN_a1\", \"TP_a1\"\n",
    "results = []\n",
    "\n",
    "test_loop = 1"
   ]
  },
  {
   "cell_type": "markdown",
   "metadata": {},
   "source": [
    "## Load data"
   ]
  },
  {
   "cell_type": "code",
   "execution_count": null,
   "metadata": {},
   "outputs": [],
   "source": [
    "data_name = 'adult'"
   ]
  },
  {
   "cell_type": "code",
   "execution_count": 4,
   "metadata": {
    "tags": []
   },
   "outputs": [],
   "source": [
    "x_train, y_train, a_train = load_data(data_name, 'train')\n",
    "raw_data = (x_train, y_train, a_train)"
   ]
  },
  {
   "cell_type": "code",
   "execution_count": 5,
   "metadata": {},
   "outputs": [],
   "source": [
    "xdim = x_train.shape[1]\n",
    "ydim = y_train.shape[1]\n",
    "adim = a_train.shape[1]\n",
    "zdim = 8"
   ]
  },
  {
   "cell_type": "code",
   "execution_count": 6,
   "metadata": {},
   "outputs": [
    {
     "data": {
      "text/plain": [
       "<BatchDataset shapes: ((64, 112), (64, 1), (64, 1)), types: (tf.float64, tf.float64, tf.float64)>"
      ]
     },
     "execution_count": 6,
     "metadata": {},
     "output_type": "execute_result"
    }
   ],
   "source": [
    "train_data = Dataset.from_tensor_slices((x_train, y_train, a_train))\n",
    "train_data = train_data.batch(batch_size, drop_remainder=True)\n",
    "train_data"
   ]
  },
  {
   "cell_type": "code",
   "execution_count": 7,
   "metadata": {},
   "outputs": [],
   "source": [
    "x_valid, y_valid, a_valid = load_data(data_name, 'valid')\n",
    "\n",
    "valid_data = Dataset.from_tensor_slices((x_valid, y_valid, a_valid))\n",
    "valid_data = valid_data.batch(batch_size, drop_remainder=True)"
   ]
  },
  {
   "cell_type": "code",
   "execution_count": 8,
   "metadata": {},
   "outputs": [],
   "source": [
    "x_test, y_test, a_test = load_data(data_name, 'test')\n",
    "\n",
    "test_data = Dataset.from_tensor_slices((x_test, y_test, a_test))\n",
    "test_data = test_data.batch(batch_size, drop_remainder=True)"
   ]
  },
  {
   "cell_type": "markdown",
   "metadata": {},
   "source": [
    "## Train loop"
   ]
  },
  {
   "cell_type": "code",
   "execution_count": 9,
   "metadata": {},
   "outputs": [],
   "source": [
    "def train(model, X, Y, A, optimizer):\n",
    "    clas_vars = [model.clas.W, model.b]\n",
    "    \n",
    "    with tf.GradientTape() as clas_tape:\n",
    "        \n",
    "        model(X, Y, A)        \n",
    "        clas_loss = model.clas_loss\n",
    "\n",
    "    dWLp = clas_tape.gradient(clas_loss, clas_vars)\n",
    "    optimizer.apply_gradients(zip(dWLp, clas_vars))"
   ]
  },
  {
   "cell_type": "code",
   "execution_count": 16,
   "metadata": {},
   "outputs": [],
   "source": [
    "def train_loop(model, train_dataset, epochs, opt=None):\n",
    "    dataset_size = tf.data.experimental.cardinality(train_dataset).numpy()\n",
    "    print(\"> Epoch | Class Loss | Class Acc\")\n",
    "\n",
    "    if opt is not None:\n",
    "        optimizer = opt\n",
    "        decay4epoch = False\n",
    "    else:\n",
    "        decay4epoch = True\n",
    "    \n",
    "    for epoch in range(epochs):\n",
    "        Y_hat = None\n",
    "        clas_acc = 0\n",
    "\n",
    "        if decay4epoch:\n",
    "            lr = 0.001/(epoch+1)\n",
    "            optimizer = Adam(learning_rate=lr)\n",
    "        \n",
    "        for X, Y, A in train_dataset:\n",
    "            \n",
    "            r = train(model, X, Y, A, optimizer)\n",
    "            if r:\n",
    "                print('parou')\n",
    "                print(model.clas_loss)\n",
    "                break\n",
    "\n",
    "            Y_hat = model.Y_hat\n",
    "\n",
    "            clas_acc += metrics.accuracy(Y, tf.math.round(Y_hat))\n",
    "\n",
    "        clas_loss = model.clas_loss\n",
    "        clas_acc = clas_acc / dataset_size\n",
    "\n",
    "        \n",
    "    \n",
    "        print(\"> {} | {} | {}\".format(\n",
    "            epoch+1, \n",
    "            clas_loss, \n",
    "            clas_acc))"
   ]
  },
  {
   "cell_type": "markdown",
   "metadata": {},
   "source": [
    "## Evaluation"
   ]
  },
  {
   "cell_type": "code",
   "execution_count": 30,
   "metadata": {},
   "outputs": [],
   "source": [
    "\n",
    "def evaluation(model, data):\n",
    "    Y_hat = None\n",
    "    Y_real = None\n",
    "    A_real = None\n",
    "    batch_count = 1\n",
    "    \n",
    "    for X, Y, A in data:\n",
    "        \n",
    "        model(X, Y, A)\n",
    "        \n",
    "        if batch_count == 1:\n",
    "            Y_hat = model.Y_hat\n",
    "            Y_real = Y\n",
    "            A_real = A\n",
    "            batch_count += 1\n",
    "        else:\n",
    "            Y_hat = tf.concat([Y_hat, model.Y_hat], 0)\n",
    "\n",
    "            Y_real = tf.concat([Y_real, Y], 0)\n",
    "            A_real = tf.concat([A_real, A], 0)\n",
    "    \n",
    "    return Y_real, A_real, Y_hat"
   ]
  },
  {
   "cell_type": "code",
   "execution_count": 35,
   "metadata": {},
   "outputs": [],
   "source": [
    "def compute_metrics(Y, Y_hat, A):\n",
    "    Y = Y.numpy()\n",
    "    A = A.numpy()\n",
    "    \n",
    "    Y_hat = tf.math.round(Y_hat)\n",
    "    \n",
    "    clas_acc = metrics.accuracy(Y, Y_hat)\n",
    "\n",
    "    print(\"> Class Acc\")\n",
    "    print(\"> {}\".format(clas_acc))\n",
    "\n",
    "    dp = metrics.DP(Y_hat.numpy(), A, 1)\n",
    "    deqodds = metrics.DEqOdds(Y, Y_hat.numpy(), A, 1)\n",
    "    deqopp = metrics.DEqOpp(Y, Y_hat.numpy(), A, 1)\n",
    "\n",
    "    print(\"> DP | DI | DEOPP\")\n",
    "    print(\"> {} | {} | {}\".format(dp, deqodds, deqopp))\n",
    "\n",
    "    tp = metrics.TP(Y, Y_hat.numpy())\n",
    "    tn = metrics.TN(Y, Y_hat.numpy())\n",
    "    fp = metrics.FP(Y, Y_hat.numpy())\n",
    "    fn = metrics.FN(Y, Y_hat.numpy())\n",
    "\n",
    "    print('> Confusion Matrix \\n' +\n",
    "                'TN: {} | FP: {} \\n'.format(tn, fp) +\n",
    "                'FN: {} | TP: {}'.format(fn, tp))\n",
    "\n",
    "    confusion_matrix = np.array([[tn, fp],\n",
    "                                [fn, tp]])\n",
    "\n",
    "    m = [metrics.TN, metrics.FP, metrics.FN, metrics.TP]\n",
    "    metrics_a0 = [0, 0, 0, 0]\n",
    "    metrics_a1 = [0, 0, 0, 0]\n",
    "    for i in range(len(m)):\n",
    "        metrics_a0[i] = metrics.subgroup(m[i], A, Y, Y_hat.numpy())\n",
    "        metrics_a1[i] = metrics.subgroup(m[i], 1 - A, Y, Y_hat.numpy())\n",
    "\n",
    "    print('> Confusion Matrix for A = 0 \\n' +\n",
    "            'TN: {} | FP: {} \\n'.format(metrics_a0[0], metrics_a0[1]) +\n",
    "            'FN: {} | TP: {}'.format(metrics_a0[2], metrics_a0[3]))\n",
    "\n",
    "    print('> Confusion Matrix for A = 1 \\n' +\n",
    "            'TN: {} | FP: {} \\n'.format(metrics_a1[0], metrics_a1[1]) +\n",
    "            'FN: {} | TP: {}'.format(metrics_a1[2], metrics_a1[3]))\n",
    "\n",
    "    confusion_matrix = np.array([[tn, fp],\n",
    "                                [fn, tp]])\n",
    "\n",
    "    return clas_acc, confusion_matrix, dp, deqodds, deqopp, metrics_a0, metrics_a1"
   ]
  },
  {
   "cell_type": "markdown",
   "metadata": {},
   "source": [
    "## Testing"
   ]
  },
  {
   "cell_type": "code",
   "execution_count": 37,
   "metadata": {
    "tags": []
   },
   "outputs": [
    {
     "name": "stdout",
     "output_type": "stream",
     "text": [
      "> Epoch | Class Loss | Class Acc\n",
      "> 1 | 0.5871778726577759 | 0.5937085543766578\n",
      "> Class Acc\n",
      "> 0.7696143617021276\n",
      "> DP | DI | DEOPP\n",
      "> 0.9753862228244543 | 0.9673331775702536 | 0.940737783908844\n",
      "> Confusion Matrix \n",
      "TN: 4541.0 | FP: 17.0 \n",
      "FN: 1369.0 | TP: 89.0\n",
      "> Confusion Matrix for A = 0 \n",
      "TN: 1758.0 | FP: 0.0 \n",
      "FN: 199.0 | TP: 2.0\n",
      "> Confusion Matrix for A = 1 \n",
      "TN: 2783.0 | FP: 17.0 \n",
      "FN: 1170.0 | TP: 87.0\n"
     ]
    }
   ],
   "source": [
    "for i in range(test_loop):\n",
    "\n",
    "    model = UnfairLogisticRegression(xdim, batch_size)\n",
    "    ret = train_loop(model, train_data, epochs)\n",
    "    Y, A, Y_hat = evaluation(model, valid_data)\n",
    "    \n",
    "    clas_acc, confusion_matrix, dp, deqodds, deqopp, metrics_a0, metrics_a1  = compute_metrics(Y, Y_hat, A)\n",
    "    \n",
    "    fair_metrics = (dp, deqodds, deqopp)\n",
    "    \n",
    "    tradeoff = []\n",
    "    \n",
    "    for fair_metric in fair_metrics:\n",
    "        tradeoff.append(compute_tradeoff(clas_acc, fair_metric))\n",
    "    \n",
    "    result = ['UnfairLR-decay', clas_acc, dp, deqodds, deqopp, tradeoff[0], tradeoff[1], tradeoff[2]] + metrics_a0 + metrics_a1\n",
    "\n",
    "    results.append(result)"
   ]
  },
  {
   "cell_type": "code",
   "execution_count": 38,
   "metadata": {},
   "outputs": [
    {
     "data": {
      "text/plain": [
       "<matplotlib.axes._subplots.AxesSubplot at 0x7f29481f01f0>"
      ]
     },
     "execution_count": 38,
     "metadata": {},
     "output_type": "execute_result"
    },
    {
     "data": {
      "image/png": "[encoded data removed]",
      "text/plain": [
       "<Figure size 432x288 with 2 Axes>"
      ]
     },
     "metadata": {
      "needs_background": "light"
     },
     "output_type": "display_data"
    }
   ],
   "source": [
    "sns.heatmap(confusion_matrix, annot=True, fmt='g')"
   ]
  },
  {
   "cell_type": "code",
   "execution_count": 40,
   "metadata": {
    "tags": []
   },
   "outputs": [
    {
     "name": "stdout",
     "output_type": "stream",
     "text": [
      "> Epoch | Class Loss | Class Acc\n",
      "> 1 | 0.5871778726577759 | 0.5937085543766578\n",
      "> Class Acc\n",
      "> 0.7696143617021276\n",
      "> DP | DI | DEOPP\n",
      "> 0.9753862228244543 | 0.9673331775702536 | 0.940737783908844\n",
      "> Confusion Matrix \n",
      "TN: 4541.0 | FP: 17.0 \n",
      "FN: 1369.0 | TP: 89.0\n",
      "> Confusion Matrix for A = 0 \n",
      "TN: 1758.0 | FP: 0.0 \n",
      "FN: 199.0 | TP: 2.0\n",
      "> Confusion Matrix for A = 1 \n",
      "TN: 2783.0 | FP: 17.0 \n",
      "FN: 1170.0 | TP: 87.0\n"
     ]
    }
   ],
   "source": [
    "for i in range(test_loop):\n",
    "    opt = Adam(learning_rate=lr)\n",
    "\n",
    "    model = UnfairLogisticRegression(xdim, batch_size)\n",
    "    ret = train_loop(model, train_data, epochs)\n",
    "    Y, A, Y_hat = evaluation(model, valid_data)\n",
    "    \n",
    "    clas_acc, confusion_matrix, dp, deqodds, deqopp, metrics_a0, metrics_a1  = compute_metrics(Y, Y_hat, A)\n",
    "    \n",
    "    fair_metrics = (dp, deqodds, deqopp)\n",
    "    \n",
    "    tradeoff = []\n",
    "    \n",
    "    for fair_metric in fair_metrics:\n",
    "        tradeoff.append(compute_tradeoff(clas_acc, fair_metric))\n",
    "    \n",
    "    result = ['UnfairLR', clas_acc, dp, deqodds, deqopp, tradeoff[0], tradeoff[1], tradeoff[2]] + metrics_a0 + metrics_a1\n",
    "\n",
    "    results.append(result)"
   ]
  },
  {
   "cell_type": "code",
   "execution_count": 41,
   "metadata": {},
   "outputs": [
    {
     "data": {
      "text/plain": [
       "<matplotlib.axes._subplots.AxesSubplot at 0x7f2946640fa0>"
      ]
     },
     "execution_count": 41,
     "metadata": {},
     "output_type": "execute_result"
    },
    {
     "data": {
      "image/png": "[encoded data removed]",
      "text/plain": [
       "<Figure size 432x288 with 2 Axes>"
      ]
     },
     "metadata": {
      "needs_background": "light"
     },
     "output_type": "display_data"
    }
   ],
   "source": [
    "sns.heatmap(confusion_matrix, annot=True, fmt='g')"
   ]
  },
  {
   "cell_type": "markdown",
   "metadata": {},
   "source": [
    "## Saving into DF then CSV"
   ]
  },
  {
   "cell_type": "code",
   "execution_count": 42,
   "metadata": {},
   "outputs": [
    {
     "data": {
      "text/html": [
       "<div>\n",
       "<style scoped>\n",
       "    .dataframe tbody tr th:only-of-type {\n",
       "        vertical-align: middle;\n",
       "    }\n",
       "\n",
       "    .dataframe tbody tr th {\n",
       "        vertical-align: top;\n",
       "    }\n",
       "\n",
       "    .dataframe thead th {\n",
       "        text-align: right;\n",
       "    }\n",
       "</style>\n",
       "<table border=\"1\" class=\"dataframe\">\n",
       "  <thead>\n",
       "    <tr style=\"text-align: right;\">\n",
       "      <th></th>\n",
       "      <th>model_name</th>\n",
       "      <th>clas_acc</th>\n",
       "      <th>dp</th>\n",
       "      <th>deqodds</th>\n",
       "      <th>deqopp</th>\n",
       "      <th>trade_dp</th>\n",
       "      <th>trade_deqodds</th>\n",
       "      <th>trade_deqopp</th>\n",
       "      <th>TN_a0</th>\n",
       "      <th>FP_a0</th>\n",
       "      <th>FN_a0</th>\n",
       "      <th>TP_a0</th>\n",
       "      <th>TN_a1</th>\n",
       "      <th>FP_a1</th>\n",
       "      <th>FN_a1</th>\n",
       "      <th>TP_a1</th>\n",
       "    </tr>\n",
       "  </thead>\n",
       "  <tbody>\n",
       "    <tr>\n",
       "      <th>0</th>\n",
       "      <td>UnfairLR-decay</td>\n",
       "      <td>0.769614</td>\n",
       "      <td>0.975386</td>\n",
       "      <td>0.967333</td>\n",
       "      <td>0.940738</td>\n",
       "      <td>0.860368</td>\n",
       "      <td>0.85722</td>\n",
       "      <td>0.846615</td>\n",
       "      <td>1758.0</td>\n",
       "      <td>0.0</td>\n",
       "      <td>199.0</td>\n",
       "      <td>2.0</td>\n",
       "      <td>2783.0</td>\n",
       "      <td>17.0</td>\n",
       "      <td>1170.0</td>\n",
       "      <td>87.0</td>\n",
       "    </tr>\n",
       "    <tr>\n",
       "      <th>1</th>\n",
       "      <td>UnfairLR</td>\n",
       "      <td>0.769614</td>\n",
       "      <td>0.975386</td>\n",
       "      <td>0.967333</td>\n",
       "      <td>0.940738</td>\n",
       "      <td>0.860368</td>\n",
       "      <td>0.85722</td>\n",
       "      <td>0.846615</td>\n",
       "      <td>1758.0</td>\n",
       "      <td>0.0</td>\n",
       "      <td>199.0</td>\n",
       "      <td>2.0</td>\n",
       "      <td>2783.0</td>\n",
       "      <td>17.0</td>\n",
       "      <td>1170.0</td>\n",
       "      <td>87.0</td>\n",
       "    </tr>\n",
       "  </tbody>\n",
       "</table>\n",
       "</div>"
      ],
      "text/plain": [
       "       model_name  clas_acc        dp   deqodds    deqopp  trade_dp  \\\n",
       "0  UnfairLR-decay  0.769614  0.975386  0.967333  0.940738  0.860368   \n",
       "1        UnfairLR  0.769614  0.975386  0.967333  0.940738  0.860368   \n",
       "\n",
       "   trade_deqodds  trade_deqopp   TN_a0  FP_a0  FN_a0  TP_a0   TN_a1  FP_a1  \\\n",
       "0        0.85722      0.846615  1758.0    0.0  199.0    2.0  2783.0   17.0   \n",
       "1        0.85722      0.846615  1758.0    0.0  199.0    2.0  2783.0   17.0   \n",
       "\n",
       "    FN_a1  TP_a1  \n",
       "0  1170.0   87.0  \n",
       "1  1170.0   87.0  "
      ]
     },
     "execution_count": 42,
     "metadata": {},
     "output_type": "execute_result"
    }
   ],
   "source": [
    "result_df = pd.DataFrame(results, columns=header)\n",
    "result_df"
   ]
  },
  {
   "cell_type": "code",
   "execution_count": 43,
   "metadata": {},
   "outputs": [],
   "source": [
    "result_df.to_csv(f'adult-result/unfair_lr-{epochs}.csv')"
   ]
  }
 ],
 "metadata": {
  "interpreter": {
   "hash": "34ca74ed6235dfc7dda926bb3adb31e801e3d02679121d5b444ee035e270bd57"
  },
  "kernelspec": {
   "display_name": "Python 3.8.5 64-bit ('falsb': conda)",
   "name": "python3"
  },
  "language_info": {
   "codemirror_mode": {
    "name": "ipython",
    "version": 3
   },
   "file_extension": ".py",
   "mimetype": "text/x-python",
   "name": "python",
   "nbconvert_exporter": "python",
   "pygments_lexer": "ipython3",
   "version": "3.8.5"
  },
  "metadata": {
   "interpreter": {
    "hash": "34ca74ed6235dfc7dda926bb3adb31e801e3d02679121d5b444ee035e270bd57"
   }
  }
 },
 "nbformat": 4,
 "nbformat_minor": 4
}
