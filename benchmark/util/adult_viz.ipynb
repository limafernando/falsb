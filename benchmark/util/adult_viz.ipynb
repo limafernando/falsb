{
 "cells": [
  {
   "cell_type": "markdown",
   "metadata": {},
   "source": [
    "# Notebook with data visualization to understand skew in the protected attributes and label on adult data (for a unique file)"
   ]
  },
  {
   "cell_type": "markdown",
   "metadata": {},
   "source": [
    "### Imports"
   ]
  },
  {
   "cell_type": "code",
   "execution_count": 1,
   "metadata": {},
   "outputs": [],
   "source": [
    "import matplotlib.pyplot as plt \n",
    "import pandas as pd\n",
    "import seaborn as sns\n",
    "\n",
    "from load_data import load_data"
   ]
  },
  {
   "cell_type": "markdown",
   "metadata": {},
   "source": [
    "### Adult data"
   ]
  },
  {
   "cell_type": "code",
   "execution_count": 2,
   "metadata": {},
   "outputs": [],
   "source": [
    "data = pd.read_csv('/home/luiz/ufpb/mestrado/code/falsb/benchmark/data/adult/post_prep/adult.csv', index_col='Unnamed: 0')"
   ]
  },
  {
   "cell_type": "code",
   "execution_count": 3,
   "metadata": {},
   "outputs": [
    {
     "data": {
      "text/plain": [
       "45222"
      ]
     },
     "execution_count": 3,
     "metadata": {},
     "output_type": "execute_result"
    }
   ],
   "source": [
    "len(data.index)"
   ]
  },
  {
   "cell_type": "code",
   "execution_count": 4,
   "metadata": {},
   "outputs": [
    {
     "data": {
      "text/html": [
       "<div>\n",
       "<style scoped>\n",
       "    .dataframe tbody tr th:only-of-type {\n",
       "        vertical-align: middle;\n",
       "    }\n",
       "\n",
       "    .dataframe tbody tr th {\n",
       "        vertical-align: top;\n",
       "    }\n",
       "\n",
       "    .dataframe thead th {\n",
       "        text-align: right;\n",
       "    }\n",
       "</style>\n",
       "<table border=\"1\" class=\"dataframe\">\n",
       "  <thead>\n",
       "    <tr style=\"text-align: right;\">\n",
       "      <th></th>\n",
       "      <th>age_ 18</th>\n",
       "      <th>age_ 25</th>\n",
       "      <th>age_ 30</th>\n",
       "      <th>age_ 35</th>\n",
       "      <th>age_ 40</th>\n",
       "      <th>age_ 45</th>\n",
       "      <th>age_ 50</th>\n",
       "      <th>age_ 55</th>\n",
       "      <th>age_ 60</th>\n",
       "      <th>age_ 65</th>\n",
       "      <th>...</th>\n",
       "      <th>native-country_ Scotland</th>\n",
       "      <th>native-country_ South</th>\n",
       "      <th>native-country_ Taiwan</th>\n",
       "      <th>native-country_ Thailand</th>\n",
       "      <th>native-country_ Trinadad&amp;Tobago</th>\n",
       "      <th>native-country_ United-States</th>\n",
       "      <th>native-country_ Vietnam</th>\n",
       "      <th>native-country_ Yugoslavia</th>\n",
       "      <th>sex</th>\n",
       "      <th>income</th>\n",
       "    </tr>\n",
       "  </thead>\n",
       "  <tbody>\n",
       "    <tr>\n",
       "      <th>0</th>\n",
       "      <td>0</td>\n",
       "      <td>0</td>\n",
       "      <td>0</td>\n",
       "      <td>0</td>\n",
       "      <td>1</td>\n",
       "      <td>0</td>\n",
       "      <td>0</td>\n",
       "      <td>0</td>\n",
       "      <td>0</td>\n",
       "      <td>0</td>\n",
       "      <td>...</td>\n",
       "      <td>0</td>\n",
       "      <td>0</td>\n",
       "      <td>0</td>\n",
       "      <td>0</td>\n",
       "      <td>0</td>\n",
       "      <td>1</td>\n",
       "      <td>0</td>\n",
       "      <td>0</td>\n",
       "      <td>0</td>\n",
       "      <td>0</td>\n",
       "    </tr>\n",
       "    <tr>\n",
       "      <th>1</th>\n",
       "      <td>0</td>\n",
       "      <td>0</td>\n",
       "      <td>0</td>\n",
       "      <td>0</td>\n",
       "      <td>0</td>\n",
       "      <td>0</td>\n",
       "      <td>1</td>\n",
       "      <td>0</td>\n",
       "      <td>0</td>\n",
       "      <td>0</td>\n",
       "      <td>...</td>\n",
       "      <td>0</td>\n",
       "      <td>0</td>\n",
       "      <td>0</td>\n",
       "      <td>0</td>\n",
       "      <td>0</td>\n",
       "      <td>1</td>\n",
       "      <td>0</td>\n",
       "      <td>0</td>\n",
       "      <td>0</td>\n",
       "      <td>0</td>\n",
       "    </tr>\n",
       "    <tr>\n",
       "      <th>2</th>\n",
       "      <td>0</td>\n",
       "      <td>0</td>\n",
       "      <td>0</td>\n",
       "      <td>0</td>\n",
       "      <td>1</td>\n",
       "      <td>0</td>\n",
       "      <td>0</td>\n",
       "      <td>0</td>\n",
       "      <td>0</td>\n",
       "      <td>0</td>\n",
       "      <td>...</td>\n",
       "      <td>0</td>\n",
       "      <td>0</td>\n",
       "      <td>0</td>\n",
       "      <td>0</td>\n",
       "      <td>0</td>\n",
       "      <td>1</td>\n",
       "      <td>0</td>\n",
       "      <td>0</td>\n",
       "      <td>0</td>\n",
       "      <td>0</td>\n",
       "    </tr>\n",
       "    <tr>\n",
       "      <th>3</th>\n",
       "      <td>0</td>\n",
       "      <td>0</td>\n",
       "      <td>0</td>\n",
       "      <td>0</td>\n",
       "      <td>0</td>\n",
       "      <td>0</td>\n",
       "      <td>0</td>\n",
       "      <td>1</td>\n",
       "      <td>0</td>\n",
       "      <td>0</td>\n",
       "      <td>...</td>\n",
       "      <td>0</td>\n",
       "      <td>0</td>\n",
       "      <td>0</td>\n",
       "      <td>0</td>\n",
       "      <td>0</td>\n",
       "      <td>1</td>\n",
       "      <td>0</td>\n",
       "      <td>0</td>\n",
       "      <td>0</td>\n",
       "      <td>0</td>\n",
       "    </tr>\n",
       "    <tr>\n",
       "      <th>4</th>\n",
       "      <td>0</td>\n",
       "      <td>0</td>\n",
       "      <td>1</td>\n",
       "      <td>0</td>\n",
       "      <td>0</td>\n",
       "      <td>0</td>\n",
       "      <td>0</td>\n",
       "      <td>0</td>\n",
       "      <td>0</td>\n",
       "      <td>0</td>\n",
       "      <td>...</td>\n",
       "      <td>0</td>\n",
       "      <td>0</td>\n",
       "      <td>0</td>\n",
       "      <td>0</td>\n",
       "      <td>0</td>\n",
       "      <td>0</td>\n",
       "      <td>0</td>\n",
       "      <td>0</td>\n",
       "      <td>1</td>\n",
       "      <td>0</td>\n",
       "    </tr>\n",
       "  </tbody>\n",
       "</table>\n",
       "<p>5 rows × 113 columns</p>\n",
       "</div>"
      ],
      "text/plain": [
       "   age_ 18  age_ 25  age_ 30  age_ 35  age_ 40  age_ 45  age_ 50  age_ 55  \\\n",
       "0        0        0        0        0        1        0        0        0   \n",
       "1        0        0        0        0        0        0        1        0   \n",
       "2        0        0        0        0        1        0        0        0   \n",
       "3        0        0        0        0        0        0        0        1   \n",
       "4        0        0        1        0        0        0        0        0   \n",
       "\n",
       "   age_ 60  age_ 65  ...  native-country_ Scotland  native-country_ South  \\\n",
       "0        0        0  ...                         0                      0   \n",
       "1        0        0  ...                         0                      0   \n",
       "2        0        0  ...                         0                      0   \n",
       "3        0        0  ...                         0                      0   \n",
       "4        0        0  ...                         0                      0   \n",
       "\n",
       "   native-country_ Taiwan  native-country_ Thailand  \\\n",
       "0                       0                         0   \n",
       "1                       0                         0   \n",
       "2                       0                         0   \n",
       "3                       0                         0   \n",
       "4                       0                         0   \n",
       "\n",
       "   native-country_ Trinadad&Tobago  native-country_ United-States  \\\n",
       "0                                0                              1   \n",
       "1                                0                              1   \n",
       "2                                0                              1   \n",
       "3                                0                              1   \n",
       "4                                0                              0   \n",
       "\n",
       "   native-country_ Vietnam  native-country_ Yugoslavia  sex  income  \n",
       "0                        0                           0    0       0  \n",
       "1                        0                           0    0       0  \n",
       "2                        0                           0    0       0  \n",
       "3                        0                           0    0       0  \n",
       "4                        0                           0    1       0  \n",
       "\n",
       "[5 rows x 113 columns]"
      ]
     },
     "execution_count": 4,
     "metadata": {},
     "output_type": "execute_result"
    }
   ],
   "source": [
    "data.head()"
   ]
  },
  {
   "cell_type": "code",
   "execution_count": 5,
   "metadata": {},
   "outputs": [
    {
     "data": {
      "text/plain": [
       "0    30527\n",
       "1    14695\n",
       "Name: sex, dtype: int64"
      ]
     },
     "execution_count": 5,
     "metadata": {},
     "output_type": "execute_result"
    }
   ],
   "source": [
    "data['sex'].value_counts()"
   ]
  },
  {
   "cell_type": "code",
   "execution_count": 6,
   "metadata": {},
   "outputs": [
    {
     "data": {
      "image/png": "[encoded data removed]",
      "text/plain": [
       "<Figure size 432x288 with 1 Axes>"
      ]
     },
     "metadata": {
      "needs_background": "light"
     },
     "output_type": "display_data"
    }
   ],
   "source": [
    "cols = ['sex', 'count']\n",
    "sex = ['male', 'female']\n",
    "res_df = pd.DataFrame(columns=cols, dtype='object')\n",
    "\n",
    "train_counts = data['sex'].value_counts()\n",
    "train_df = pd.DataFrame(\n",
    "    data=[\n",
    "        [sex[0], train_counts[0]],\n",
    "        [sex[1], train_counts[1]]\n",
    "    ],\n",
    "    columns=cols\n",
    ")\n",
    "\n",
    "res_df = pd.concat([train_df])\n",
    "\n",
    "for i in res_df.index:\n",
    "    count = res_df.loc[i, 'count']\n",
    "    y = res_df.loc[i, 'count']\n",
    "    plt.annotate(count, (i, y), ha=\"center\", va=\"bottom\")\n",
    "\n",
    "sns.barplot(x='sex',y='count',data=res_df,hue='sex', dodge=False)\n",
    "# plt.legend(loc=\"upper right\")\n",
    "plt.legend([], frameon=False)\n",
    "plt.show()\n"
   ]
  },
  {
   "cell_type": "code",
   "execution_count": 7,
   "metadata": {},
   "outputs": [
    {
     "data": {
      "text/plain": [
       "0    34014\n",
       "1    11208\n",
       "Name: income, dtype: int64"
      ]
     },
     "execution_count": 7,
     "metadata": {},
     "output_type": "execute_result"
    }
   ],
   "source": [
    "data['income'].value_counts()"
   ]
  },
  {
   "cell_type": "code",
   "execution_count": 8,
   "metadata": {},
   "outputs": [
    {
     "data": {
      "image/png": "[encoded data removed]",
      "text/plain": [
       "<Figure size 432x288 with 1 Axes>"
      ]
     },
     "metadata": {
      "needs_background": "light"
     },
     "output_type": "display_data"
    }
   ],
   "source": [
    "cols = ['income', 'count']\n",
    "income = ['<=50K', '>50K']\n",
    "res_df = pd.DataFrame(columns=cols, dtype='object')\n",
    "\n",
    "train_counts = data['income'].value_counts()\n",
    "train_df = pd.DataFrame(\n",
    "    data=[\n",
    "        [income[0], train_counts[0]],\n",
    "        [income[1], train_counts[1]]\n",
    "    ],\n",
    "    columns=cols\n",
    ")\n",
    "\n",
    "res_df = pd.concat([train_df])\n",
    "\n",
    "for i in res_df.index:\n",
    "    count = res_df.loc[i, 'count']\n",
    "    y = res_df.loc[i, 'count']\n",
    "    plt.annotate(count, (i, y), ha=\"center\", va=\"bottom\")\n",
    "\n",
    "sns.barplot(x='income',y='count',data=res_df,hue='income', dodge=False)\n",
    "# plt.legend(loc=\"upper right\")\n",
    "plt.legend([], frameon=False)\n",
    "plt.show()"
   ]
  },
  {
   "cell_type": "code",
   "execution_count": 9,
   "metadata": {},
   "outputs": [
    {
     "data": {
      "image/png": "[encoded data removed]",
      "text/plain": [
       "<Figure size 432x288 with 1 Axes>"
      ]
     },
     "metadata": {
      "needs_background": "light"
     },
     "output_type": "display_data"
    }
   ],
   "source": [
    "great_income = data[data['income'] == 1]\n",
    "man_great = len(great_income[great_income['sex'] == 0].index)\n",
    "woman_great = len(great_income[great_income['sex'] == 1].index)\n",
    "\n",
    "lower_income = data[data['income'] == 0]\n",
    "man_low = len(lower_income[lower_income['sex'] == 0].index)\n",
    "woman_low = len(lower_income[lower_income['sex'] == 1].index)\n",
    "\n",
    "\n",
    "res_df = pd.DataFrame(\n",
    "    {\n",
    "        '<=50K': [man_low, woman_low],\n",
    "        '>50K': [man_great, woman_great],\n",
    "    },\n",
    "    index=['male', 'female']\n",
    ")\n",
    "\n",
    "res_df.plot(kind='bar', stacked=True)#, color=['red', 'pink'])\n",
    "plt.legend(loc=\"upper right\")\n",
    "plt.xticks(rotation=0)\n",
    "plt.show()"
   ]
  },
  {
   "cell_type": "code",
   "execution_count": 10,
   "metadata": {},
   "outputs": [
    {
     "data": {
      "image/png": "[encoded data removed]",
      "text/plain": [
       "<Figure size 432x288 with 1 Axes>"
      ]
     },
     "metadata": {
      "needs_background": "light"
     },
     "output_type": "display_data"
    }
   ],
   "source": [
    "raw_subset = data[['race_ Amer-Indian-Eskimo','race_ Asian-Pac-Islander','race_ Black','race_ Other','race_ White']]\n",
    "subset = pd.get_dummies(raw_subset).idxmax(1).str.replace('race_ ', '')\n",
    "\n",
    "cols = ['race', 'count']\n",
    "races = subset.unique()\n",
    "\n",
    "res_df = pd.DataFrame(columns=cols)\n",
    "\n",
    "train_counts = subset.value_counts()\n",
    "train_df = pd.DataFrame(\n",
    "    data=[\n",
    "        [races[0], train_counts[0]],\n",
    "        [races[1], train_counts[1]],\n",
    "        [races[2], train_counts[2]],\n",
    "        [races[3], train_counts[3]],\n",
    "        [races[4], train_counts[4]]\n",
    "    ],\n",
    "    columns=cols\n",
    ")\n",
    "\n",
    "res_df = pd.concat([train_df])\n",
    "\n",
    "for i in res_df.index:\n",
    "    count = res_df.loc[i, 'count']\n",
    "    y = res_df.loc[i, 'count']\n",
    "    plt.annotate(count, (i, y), ha=\"center\", va=\"bottom\")\n",
    "\n",
    "sns.barplot(x='race',y='count',data=res_df,hue='race', dodge=False, palette='hls')\n",
    "plt.xticks(rotation='vertical')\n",
    "# plt.legend(bbox_to_anchor=(1.46,1.02), loc=\"upper right\")\n",
    "plt.legend([], frameon=False)\n",
    "plt.show()\n"
   ]
  },
  {
   "cell_type": "code",
   "execution_count": 11,
   "metadata": {},
   "outputs": [
    {
     "data": {
      "image/png": "[encoded data removed]",
      "text/plain": [
       "<Figure size 432x288 with 1 Axes>"
      ]
     },
     "metadata": {
      "needs_background": "light"
     },
     "output_type": "display_data"
    }
   ],
   "source": [
    "great_income = data[data['income'] == 1]\n",
    "raw_subset = great_income[['race_ Amer-Indian-Eskimo','race_ Asian-Pac-Islander','race_ Black','race_ Other','race_ White']]\n",
    "subset = pd.get_dummies(raw_subset).idxmax(1).str.replace('race_ ', '')\n",
    "\n",
    "cols = ['race', 'count', 'income']\n",
    "races = subset.unique()\n",
    "\n",
    "res_df = pd.DataFrame(columns=cols)\n",
    "\n",
    "races_great = subset.value_counts()\n",
    "races_great_df = pd.DataFrame(\n",
    "    data=[\n",
    "        [races[0], races_great[0], 1],\n",
    "        [races[1], races_great[1], 1],\n",
    "        [races[2], races_great[2], 1],\n",
    "        [races[3], races_great[3], 1],\n",
    "        [races[4], races_great[4], 1]\n",
    "    ],\n",
    "    columns=cols\n",
    ")\n",
    "\n",
    "low_income = data[data['income'] == 0]\n",
    "raw_subset = low_income[['race_ Amer-Indian-Eskimo','race_ Asian-Pac-Islander','race_ Black','race_ Other','race_ White']]\n",
    "subset = pd.get_dummies(raw_subset).idxmax(1).str.replace('race_ ', '')\n",
    "\n",
    "cols = ['race', 'count', 'income']\n",
    "races = subset.unique()\n",
    "\n",
    "res_df = pd.DataFrame(columns=cols)\n",
    "\n",
    "races_low = subset.value_counts()\n",
    "races_low_df = pd.DataFrame(\n",
    "    data=[\n",
    "        [races[0], races_low[0], 0],\n",
    "        [races[1], races_low[1], 0],\n",
    "        [races[2], races_low[2], 0],\n",
    "        [races[3], races_low[3], 0],\n",
    "        [races[4], races_low[4], 0]\n",
    "    ],\n",
    "    columns=cols\n",
    ")\n",
    "\n",
    "res_df = pd.concat([races_great_df, races_low_df])\n",
    "\n",
    "sns.barplot(x='race',y='count',data=res_df,hue='income', dodge=False)\n",
    "plt.xticks(rotation='vertical')\n",
    "plt.legend(loc=\"upper right\", labels=['>50K', '<=50K'])\n",
    "plt.show()"
   ]
  }
 ],
 "metadata": {
  "interpreter": {
   "hash": "41359ec383f887151a607ad1e28cb7dbc05f61385692c63e2bb2f343bf03f280"
  },
  "kernelspec": {
   "display_name": "Python 3.8.5 ('falsb')",
   "language": "python",
   "name": "python3"
  },
  "language_info": {
   "codemirror_mode": {
    "name": "ipython",
    "version": 3
   },
   "file_extension": ".py",
   "mimetype": "text/x-python",
   "name": "python",
   "nbconvert_exporter": "python",
   "pygments_lexer": "ipython3",
   "version": "3.8.13"
  },
  "orig_nbformat": 4
 },
 "nbformat": 4,
 "nbformat_minor": 2
}
