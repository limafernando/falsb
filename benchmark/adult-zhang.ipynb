{
 "cells": [
  {
   "cell_type": "markdown",
   "metadata": {},
   "source": [
    "# Testing file \n",
    "### where we evaluate Zhang's models using the test set"
   ]
  },
  {
   "cell_type": "markdown",
   "metadata": {},
   "source": [
    "## Preliminaries"
   ]
  },
  {
   "cell_type": "code",
   "execution_count": 1,
   "metadata": {},
   "outputs": [],
   "source": [
    "import pandas as pd\n",
    "from tensorflow.keras.optimizers import Adam\n",
    "from tensorflow.data import Dataset\n",
    "\n",
    "\n",
    "from util.load_data import load_data\n",
    "from util.evaluation import *\n",
    "from models.zhang.models import FairLogisticRegression\n",
    "from models.zhang.learning import train_loop as zhang_train"
   ]
  },
  {
   "cell_type": "code",
   "execution_count": 2,
   "metadata": {},
   "outputs": [],
   "source": [
    "batch_size = 64\n",
    "epochs = 1\n",
    "lr = 0.001\n",
    "opt = Adam(learning_rate=lr)"
   ]
  },
  {
   "cell_type": "code",
   "execution_count": 3,
   "metadata": {},
   "outputs": [],
   "source": [
    "test_loop = 1"
   ]
  },
  {
   "cell_type": "markdown",
   "metadata": {},
   "source": [
    "## Load data"
   ]
  },
  {
   "cell_type": "code",
   "execution_count": 4,
   "metadata": {},
   "outputs": [],
   "source": [
    "data_name = 'adult'"
   ]
  },
  {
   "cell_type": "code",
   "execution_count": 5,
   "metadata": {},
   "outputs": [],
   "source": [
    "x_train, y_train, a_train = load_data(data_name, 'train')\n",
    "raw_data = (x_train, y_train, a_train)"
   ]
  },
  {
   "cell_type": "code",
   "execution_count": 6,
   "metadata": {},
   "outputs": [],
   "source": [
    "xdim = x_train.shape[1]\n",
    "ydim = y_train.shape[1]\n",
    "adim = a_train.shape[1]\n",
    "zdim = 8"
   ]
  },
  {
   "cell_type": "code",
   "execution_count": 7,
   "metadata": {},
   "outputs": [
    {
     "data": {
      "text/plain": [
       "<BatchDataset shapes: ((64, 112), (64, 1), (64, 1)), types: (tf.float64, tf.float64, tf.float64)>"
      ]
     },
     "execution_count": 7,
     "metadata": {},
     "output_type": "execute_result"
    }
   ],
   "source": [
    "train_data = Dataset.from_tensor_slices((x_train, y_train, a_train))\n",
    "train_data = train_data.batch(batch_size, drop_remainder=True)\n",
    "train_data"
   ]
  },
  {
   "cell_type": "code",
   "execution_count": 8,
   "metadata": {},
   "outputs": [],
   "source": [
    "x_valid, y_valid, a_valid = load_data(data_name, 'valid')\n",
    "\n",
    "valid_data = Dataset.from_tensor_slices((x_valid, y_valid, a_valid))\n",
    "valid_data = valid_data.batch(batch_size, drop_remainder=True)"
   ]
  },
  {
   "cell_type": "code",
   "execution_count": 9,
   "metadata": {},
   "outputs": [],
   "source": [
    "x_test, y_test, a_test = load_data(data_name, 'test')\n",
    "\n",
    "test_data = Dataset.from_tensor_slices((x_test, y_test, a_test))\n",
    "test_data = test_data.batch(batch_size, drop_remainder=True)"
   ]
  },
  {
   "cell_type": "markdown",
   "metadata": {},
   "source": [
    "## Result file"
   ]
  },
  {
   "cell_type": "code",
   "execution_count": 10,
   "metadata": {},
   "outputs": [],
   "source": [
    "header = \"model_name\", \"clas_acc\", \"dp\", \"deqodds\", \"deqopp\", \"trade_dp\", \"trade_deqodds\", \"trade_deqopp\", \"TN_a0\", \"FP_a0\", \"FN_a0\", \"TP_a0\", \"TN_a1\", \"FP_a1\", \"FN_a1\", \"TP_a1\"\n",
    "results = []"
   ]
  },
  {
   "cell_type": "markdown",
   "metadata": {},
   "source": [
    "## Testing loop\n",
    "#### Each model is evalueted 5 times\n",
    "#### In the end of each iteration we save the result"
   ]
  },
  {
   "cell_type": "markdown",
   "metadata": {},
   "source": [
    "### Zhang for DP"
   ]
  },
  {
   "cell_type": "code",
   "execution_count": 11,
   "metadata": {
    "tags": []
   },
   "outputs": [
    {
     "name": "stdout",
     "output_type": "stream",
     "text": [
      "> Epoch | Class Loss | Adv Loss | Class Acc | Adv Acc\n",
      "> 1 | 0.537175178527832 | 0.8347809910774231 | 0.6528514588859416 | 0.3241462201591512\n",
      "> Class Acc | Adv Acc\n",
      "> 0.8068484042553191 | 0.32563164893617025\n",
      "> DP | DEqOdds | DEqOpp\n",
      "> 0.8780761063098907 | 0.8350172247737646 | 0.7082487344741821\n",
      "> Confusion Matrix \n",
      "TN: 4451.0 | FP: 107.0 \n",
      "FN: 1055.0 | TP: 403.0\n",
      "> Confusion Matrix for A = 0 \n",
      "TN: 1758.0 | FP: 0.0 \n",
      "FN: 196.0 | TP: 5.0\n",
      "> Confusion Matrix for A = 1 \n",
      "TN: 2693.0 | FP: 107.0 \n",
      "FN: 859.0 | TP: 398.0\n"
     ]
    }
   ],
   "source": [
    "fairdef = 'DemPar'\n",
    "\n",
    "for i in range(test_loop):\n",
    "    opt = Adam(learning_rate=lr)\n",
    "    model = FairLogisticRegression(xdim, adim, batch_size, fairdef)\n",
    "    zhang_train(model, raw_data, train_data, epochs, opt)\n",
    "\n",
    "    Y, A, Y_hat, A_hat = evaluation(model, valid_data)\n",
    "    clas_acc, dp, deqodds, deqopp, confusion_matrix, metrics_a0, metrics_a1 = compute_metrics(Y, A, Y_hat, A_hat, adim)\n",
    "\n",
    "    fair_metrics = (dp, deqodds, deqopp)\n",
    "    tradeoff = []\n",
    "    for fair_metric in fair_metrics:\n",
    "        tradeoff.append(compute_tradeoff(clas_acc, fair_metric))\n",
    "\n",
    "    result = ['Zhang4DP', clas_acc, dp, deqodds, deqopp, tradeoff[0], tradeoff[1], tradeoff[2]] + metrics_a0 + metrics_a1\n",
    "\n",
    "    results.append(result)"
   ]
  },
  {
   "cell_type": "markdown",
   "metadata": {},
   "source": [
    "### Zhang for Eq Odds"
   ]
  },
  {
   "cell_type": "code",
   "execution_count": 12,
   "metadata": {
    "tags": []
   },
   "outputs": [
    {
     "name": "stdout",
     "output_type": "stream",
     "text": [
      "> Epoch | Class Loss | Adv Loss | Class Acc | Adv Acc\n",
      "> 1 | 0.5167679786682129 | 0.7780622243881226 | 0.6641661140583555 | 0.32418766578249336\n",
      "> Class Acc | Adv Acc\n",
      "> 0.8228058510638298 | 0.3272938829787234\n",
      "> DP | DEqOdds | DEqOpp\n",
      "> 0.7855367064476013 | 0.7250424064695835 | 0.5398069024085999\n",
      "> Confusion Matrix \n",
      "TN: 4299.0 | FP: 259.0 \n",
      "FN: 807.0 | TP: 651.0\n",
      "> Confusion Matrix for A = 0 \n",
      "TN: 1755.0 | FP: 3.0 \n",
      "FN: 191.0 | TP: 10.0\n",
      "> Confusion Matrix for A = 1 \n",
      "TN: 2544.0 | FP: 256.0 \n",
      "FN: 616.0 | TP: 641.0\n"
     ]
    }
   ],
   "source": [
    "fairdef = 'EqOdds'\n",
    "\n",
    "for i in range(test_loop):\n",
    "    opt = Adam(learning_rate=lr)\n",
    "    model = FairLogisticRegression(xdim, adim, batch_size, fairdef)\n",
    "    zhang_train(model, raw_data, train_data, epochs, opt)\n",
    "\n",
    "    Y, A, Y_hat, A_hat = evaluation(model, valid_data)\n",
    "    clas_acc, dp, deqodds, deqopp, confusion_matrix, metrics_a0, metrics_a1 = compute_metrics(Y, A, Y_hat, A_hat, adim)\n",
    "\n",
    "    fair_metrics = (dp, deqodds, deqopp)\n",
    "    tradeoff = []\n",
    "    for fair_metric in fair_metrics:\n",
    "        tradeoff.append(compute_tradeoff(clas_acc, fair_metric))\n",
    "\n",
    "    result = ['Zhang4EqOdds', clas_acc, dp, deqodds, deqopp, tradeoff[0], tradeoff[1], tradeoff[2]] + metrics_a0 + metrics_a1\n",
    "\n",
    "    results.append(result)"
   ]
  },
  {
   "cell_type": "markdown",
   "metadata": {},
   "source": [
    "### Zhang for Eq Opp"
   ]
  },
  {
   "cell_type": "code",
   "execution_count": 13,
   "metadata": {
    "tags": []
   },
   "outputs": [
    {
     "name": "stdout",
     "output_type": "stream",
     "text": [
      "> Epoch | Class Loss | Adv Loss | Class Acc | Adv Acc\n",
      "> 1 | 0.5352369546890259 | 0.3454836308956146 | 0.6534316976127321 | 0.3241462201591512\n",
      "> Class Acc | Adv Acc\n",
      "> 0.8093417553191489 | 0.32563164893617025\n",
      "> DP | DEqOdds | DEqOpp\n",
      "> 0.8781635612249374 | 0.8410549741238356 | 0.7193982601165771\n",
      "> Confusion Matrix \n",
      "TN: 4451.0 | FP: 107.0 \n",
      "FN: 1040.0 | TP: 418.0\n",
      "> Confusion Matrix for A = 0 \n",
      "TN: 1757.0 | FP: 1.0 \n",
      "FN: 192.0 | TP: 9.0\n",
      "> Confusion Matrix for A = 1 \n",
      "TN: 2694.0 | FP: 106.0 \n",
      "FN: 848.0 | TP: 409.0\n"
     ]
    }
   ],
   "source": [
    "fairdef = 'EqOpp'\n",
    "\n",
    "for i in range(test_loop):\n",
    "    opt = Adam(learning_rate=lr)\n",
    "    model = FairLogisticRegression(xdim, adim, batch_size, fairdef)\n",
    "    zhang_train(model, raw_data, train_data, epochs, opt)\n",
    "\n",
    "    Y, A, Y_hat, A_hat = evaluation(model, valid_data)\n",
    "    clas_acc, dp, deqodds, deqopp, confusion_matrix, metrics_a0, metrics_a1 = compute_metrics(Y, A, Y_hat, A_hat, adim)\n",
    "\n",
    "    fair_metrics = (dp, deqodds, deqopp)\n",
    "    tradeoff = []\n",
    "    for fair_metric in fair_metrics:\n",
    "        tradeoff.append(compute_tradeoff(clas_acc, fair_metric))\n",
    "\n",
    "    result = ['Zhang4EqOpp', clas_acc, dp, deqodds, deqopp, tradeoff[0], tradeoff[1], tradeoff[2]] + metrics_a0 + metrics_a1\n",
    "\n",
    "    results.append(result)"
   ]
  },
  {
   "cell_type": "markdown",
   "metadata": {},
   "source": [
    "## Saving into DF then CSV"
   ]
  },
  {
   "cell_type": "code",
   "execution_count": 14,
   "metadata": {},
   "outputs": [
    {
     "data": {
      "text/html": [
       "<div>\n",
       "<style scoped>\n",
       "    .dataframe tbody tr th:only-of-type {\n",
       "        vertical-align: middle;\n",
       "    }\n",
       "\n",
       "    .dataframe tbody tr th {\n",
       "        vertical-align: top;\n",
       "    }\n",
       "\n",
       "    .dataframe thead th {\n",
       "        text-align: right;\n",
       "    }\n",
       "</style>\n",
       "<table border=\"1\" class=\"dataframe\">\n",
       "  <thead>\n",
       "    <tr style=\"text-align: right;\">\n",
       "      <th></th>\n",
       "      <th>model_name</th>\n",
       "      <th>clas_acc</th>\n",
       "      <th>dp</th>\n",
       "      <th>deqodds</th>\n",
       "      <th>deqopp</th>\n",
       "      <th>trade_dp</th>\n",
       "      <th>trade_deqodds</th>\n",
       "      <th>trade_deqopp</th>\n",
       "      <th>TN_a0</th>\n",
       "      <th>FP_a0</th>\n",
       "      <th>FN_a0</th>\n",
       "      <th>TP_a0</th>\n",
       "      <th>TN_a1</th>\n",
       "      <th>FP_a1</th>\n",
       "      <th>FN_a1</th>\n",
       "      <th>TP_a1</th>\n",
       "    </tr>\n",
       "  </thead>\n",
       "  <tbody>\n",
       "    <tr>\n",
       "      <th>0</th>\n",
       "      <td>Zhang4DP</td>\n",
       "      <td>0.806848</td>\n",
       "      <td>0.878076</td>\n",
       "      <td>0.835017</td>\n",
       "      <td>0.708249</td>\n",
       "      <td>0.840957</td>\n",
       "      <td>0.820691</td>\n",
       "      <td>0.754340</td>\n",
       "      <td>1758.0</td>\n",
       "      <td>0.0</td>\n",
       "      <td>196.0</td>\n",
       "      <td>5.0</td>\n",
       "      <td>2693.0</td>\n",
       "      <td>107.0</td>\n",
       "      <td>859.0</td>\n",
       "      <td>398.0</td>\n",
       "    </tr>\n",
       "    <tr>\n",
       "      <th>1</th>\n",
       "      <td>Zhang4EqOdds</td>\n",
       "      <td>0.822806</td>\n",
       "      <td>0.785537</td>\n",
       "      <td>0.725042</td>\n",
       "      <td>0.539807</td>\n",
       "      <td>0.803739</td>\n",
       "      <td>0.770837</td>\n",
       "      <td>0.651919</td>\n",
       "      <td>1755.0</td>\n",
       "      <td>3.0</td>\n",
       "      <td>191.0</td>\n",
       "      <td>10.0</td>\n",
       "      <td>2544.0</td>\n",
       "      <td>256.0</td>\n",
       "      <td>616.0</td>\n",
       "      <td>641.0</td>\n",
       "    </tr>\n",
       "    <tr>\n",
       "      <th>2</th>\n",
       "      <td>Zhang4EqOpp</td>\n",
       "      <td>0.809342</td>\n",
       "      <td>0.878164</td>\n",
       "      <td>0.841055</td>\n",
       "      <td>0.719398</td>\n",
       "      <td>0.842349</td>\n",
       "      <td>0.824894</td>\n",
       "      <td>0.761724</td>\n",
       "      <td>1757.0</td>\n",
       "      <td>1.0</td>\n",
       "      <td>192.0</td>\n",
       "      <td>9.0</td>\n",
       "      <td>2694.0</td>\n",
       "      <td>106.0</td>\n",
       "      <td>848.0</td>\n",
       "      <td>409.0</td>\n",
       "    </tr>\n",
       "  </tbody>\n",
       "</table>\n",
       "</div>"
      ],
      "text/plain": [
       "     model_name  clas_acc        dp   deqodds    deqopp  trade_dp  \\\n",
       "0      Zhang4DP  0.806848  0.878076  0.835017  0.708249  0.840957   \n",
       "1  Zhang4EqOdds  0.822806  0.785537  0.725042  0.539807  0.803739   \n",
       "2   Zhang4EqOpp  0.809342  0.878164  0.841055  0.719398  0.842349   \n",
       "\n",
       "   trade_deqodds  trade_deqopp   TN_a0  FP_a0  FN_a0  TP_a0   TN_a1  FP_a1  \\\n",
       "0       0.820691      0.754340  1758.0    0.0  196.0    5.0  2693.0  107.0   \n",
       "1       0.770837      0.651919  1755.0    3.0  191.0   10.0  2544.0  256.0   \n",
       "2       0.824894      0.761724  1757.0    1.0  192.0    9.0  2694.0  106.0   \n",
       "\n",
       "   FN_a1  TP_a1  \n",
       "0  859.0  398.0  \n",
       "1  616.0  641.0  \n",
       "2  848.0  409.0  "
      ]
     },
     "execution_count": 14,
     "metadata": {},
     "output_type": "execute_result"
    }
   ],
   "source": [
    "result_df = pd.DataFrame(results, columns=header)\n",
    "result_df"
   ]
  },
  {
   "cell_type": "code",
   "execution_count": 17,
   "metadata": {},
   "outputs": [],
   "source": [
    "result_df.to_csv(f'adult-result/zhang-{epochs}.csv')"
   ]
  }
 ],
 "metadata": {
  "interpreter": {
   "hash": "34ca74ed6235dfc7dda926bb3adb31e801e3d02679121d5b444ee035e270bd57"
  },
  "kernelspec": {
   "display_name": "Python 3.8.5 64-bit ('falsb': conda)",
   "name": "python3"
  },
  "language_info": {
   "codemirror_mode": {
    "name": "ipython",
    "version": 3
   },
   "file_extension": ".py",
   "mimetype": "text/x-python",
   "name": "python",
   "nbconvert_exporter": "python",
   "pygments_lexer": "ipython3",
   "version": "3.8.5"
  }
 },
 "nbformat": 4,
 "nbformat_minor": 2
}
