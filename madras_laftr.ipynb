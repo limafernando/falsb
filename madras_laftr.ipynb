{
 "cells": [
  {
   "cell_type": "markdown",
   "metadata": {},
   "source": [
    "## Import libs"
   ]
  },
  {
   "cell_type": "code",
   "execution_count": 1,
   "metadata": {},
   "outputs": [],
   "source": [
    "from math import sqrt, isnan\n",
    "from pathlib import Path\n",
    "\n",
    "import tensorflow as tf\n",
    "from tensorflow.keras.optimizers import Adam\n",
    "from tensorflow.data import Dataset\n",
    "\n",
    "import numpy as np\n",
    "import pandas as pd\n",
    "import matplotlib.pyplot as plt\n",
    "import seaborn as sns\n",
    "\n",
    "from util import metrics\n",
    "from util.load_data import load_data\n",
    "from util.evaluation import *\n",
    "\n",
    "from madras_laftr.models import *\n",
    "from madras_laftr.learning import *"
   ]
  },
  {
   "cell_type": "markdown",
   "metadata": {},
   "source": [
    "## Preliminaries"
   ]
  },
  {
   "cell_type": "code",
   "execution_count": 2,
   "metadata": {},
   "outputs": [],
   "source": [
    "batch_size = 64\n",
    "epochs = 10\n",
    "learning_rate = 0.001\n",
    "opt = Adam(learning_rate=learning_rate)\n",
    "CLAS_COEFF = 1.\n",
    "FAIR_COEFF = 1.\n",
    "RECON_COEFF = 0.\n",
    "hidden_layer_specs = {'clas':[8] , 'enc':[8] , 'dec':[8] , 'adv':[8]}"
   ]
  },
  {
   "cell_type": "markdown",
   "metadata": {},
   "source": [
    "## Load data"
   ]
  },
  {
   "cell_type": "code",
   "execution_count": 3,
   "metadata": {
    "tags": []
   },
   "outputs": [],
   "source": [
    "x_train, y_train, a_train = load_data('adult', 'train')\n",
    "raw_data = (x_train, y_train, a_train)"
   ]
  },
  {
   "cell_type": "code",
   "execution_count": 4,
   "metadata": {},
   "outputs": [],
   "source": [
    "xdim = x_train.shape[1]\n",
    "ydim = y_train.shape[1]\n",
    "adim = a_train.shape[1]\n",
    "zdim = 8"
   ]
  },
  {
   "cell_type": "code",
   "execution_count": 5,
   "metadata": {},
   "outputs": [
    {
     "data": {
      "text/plain": [
       "<BatchDataset shapes: ((64, 112), (64, 1), (64, 1)), types: (tf.float64, tf.float64, tf.float64)>"
      ]
     },
     "execution_count": 5,
     "metadata": {},
     "output_type": "execute_result"
    }
   ],
   "source": [
    "train_data = Dataset.from_tensor_slices((x_train, y_train, a_train))\n",
    "train_data = train_data.batch(batch_size, drop_remainder=True)\n",
    "train_data\n"
   ]
  },
  {
   "cell_type": "code",
   "execution_count": 6,
   "metadata": {},
   "outputs": [],
   "source": [
    "x_valid, y_valid, a_valid = load_data('adult', 'valid')\n",
    "\n",
    "valid_data = Dataset.from_tensor_slices((x_valid, y_valid, a_valid))\n",
    "valid_data = valid_data.batch(batch_size, drop_remainder=True)"
   ]
  },
  {
   "cell_type": "code",
   "execution_count": 7,
   "metadata": {},
   "outputs": [],
   "source": [
    "x_test, y_test, a_test = load_data('adult', 'test')\n",
    "\n",
    "test_data = Dataset.from_tensor_slices((x_test, y_test, a_test))\n",
    "test_data = test_data.batch(batch_size, drop_remainder=True)"
   ]
  },
  {
   "cell_type": "markdown",
   "metadata": {},
   "source": [
    "## Testing if models are being trained"
   ]
  },
  {
   "cell_type": "markdown",
   "metadata": {},
   "source": [
    "### For DP"
   ]
  },
  {
   "cell_type": "code",
   "execution_count": 8,
   "metadata": {},
   "outputs": [],
   "source": [
    "model = DemParGan(xdim, ydim, adim, zdim, hidden_layer_specs, recon_coeff=RECON_COEFF, clas_coeff=CLAS_COEFF, fair_coeff=FAIR_COEFF)"
   ]
  },
  {
   "cell_type": "code",
   "execution_count": 9,
   "metadata": {
    "tags": []
   },
   "outputs": [
    {
     "name": "stdout",
     "output_type": "stream",
     "text": [
      "> Epoch | Model Loss | Class Loss | Adv Loss | Dec Loss | Class Acc | Adv Acc | Dec Acc\n",
      "> 1 | 0.00860583782196045 | 0.5546963214874268 | 0.5288788080215454 | 0.9201741218566895 | 0.6868368700265252 | 0.5917606100795756 | -101.54302055702918\n"
     ]
    }
   ],
   "source": [
    "ret = train_loop(model, raw_data, train_data, 1, opt)"
   ]
  },
  {
   "cell_type": "code",
   "execution_count": 10,
   "metadata": {},
   "outputs": [
    {
     "name": "stdout",
     "output_type": "stream",
     "text": [
      "> Class Acc | Adv Acc\n",
      "> 0.769281914893617 | 0.6743683510638299\n",
      "> DP | DEqOdds | DEqOpp\n",
      "> 0.9781500548124313 | 0.9743624194525182 | 0.9538702964782715\n",
      "> Confusion Matrix \n",
      "TN: 4541.0 | FP: 17.0 \n",
      "FN: 1371.0 | TP: 87.0\n",
      "> Confusion Matrix for A = 0 \n",
      "TN: 1757.0 | FP: 1.0 \n",
      "FN: 197.0 | TP: 4.0\n",
      "> Confusion Matrix for A = 1 \n",
      "TN: 2784.0 | FP: 16.0 \n",
      "FN: 1174.0 | TP: 83.0\n"
     ]
    }
   ],
   "source": [
    "Y, A, Y_hat, A_hat = evaluation(model, valid_data)\n",
    "ret = compute_metrics(Y, A, Y_hat, A_hat)"
   ]
  },
  {
   "cell_type": "markdown",
   "metadata": {},
   "source": [
    "### For EqOdds"
   ]
  },
  {
   "cell_type": "code",
   "execution_count": 11,
   "metadata": {},
   "outputs": [],
   "source": [
    "model = EqOddsUnweightedGan(xdim, ydim, adim, zdim, hidden_layer_specs, recon_coeff=RECON_COEFF, clas_coeff=CLAS_COEFF, fair_coeff=FAIR_COEFF)"
   ]
  },
  {
   "cell_type": "code",
   "execution_count": 12,
   "metadata": {},
   "outputs": [
    {
     "name": "stdout",
     "output_type": "stream",
     "text": [
      "> Epoch | Model Loss | Class Loss | Adv Loss | Dec Loss | Class Acc | Adv Acc | Dec Acc\n",
      "> 1 | 0.006831069942563772 | 0.5492501258850098 | 0.5287569165229797 | 0.9201741218566895 | 0.7557194960212201 | 0.655545424403183 | -101.54302055702918\n"
     ]
    }
   ],
   "source": [
    "ret = train_loop(model, raw_data, train_data, 1, opt)"
   ]
  },
  {
   "cell_type": "code",
   "execution_count": 13,
   "metadata": {},
   "outputs": [
    {
     "name": "stdout",
     "output_type": "stream",
     "text": [
      "> Class Acc | Adv Acc\n",
      "> 0.8246343085106382 | 0.6743683510638299\n",
      "> DP | DEqOdds | DEqOpp\n",
      "> 0.9040491506457329 | 0.9831158965826035 | 0.9904890656471252\n",
      "> Confusion Matrix \n",
      "TN: 4376.0 | FP: 182.0 \n",
      "FN: 873.0 | TP: 585.0\n",
      "> Confusion Matrix for A = 0 \n",
      "TN: 1714.0 | FP: 44.0 \n",
      "FN: 122.0 | TP: 79.0\n",
      "> Confusion Matrix for A = 1 \n",
      "TN: 2662.0 | FP: 138.0 \n",
      "FN: 751.0 | TP: 506.0\n"
     ]
    }
   ],
   "source": [
    "Y, A, Y_hat, A_hat = evaluation(model, valid_data)\n",
    "ret = compute_metrics(Y, A, Y_hat, A_hat)"
   ]
  },
  {
   "cell_type": "markdown",
   "metadata": {},
   "source": [
    "### For EqOpp"
   ]
  },
  {
   "cell_type": "code",
   "execution_count": 14,
   "metadata": {},
   "outputs": [],
   "source": [
    "model = EqOppUnweightedGan(xdim, ydim, adim, zdim, hidden_layer_specs, recon_coeff=RECON_COEFF, clas_coeff=CLAS_COEFF, fair_coeff=FAIR_COEFF)"
   ]
  },
  {
   "cell_type": "code",
   "execution_count": 15,
   "metadata": {},
   "outputs": [
    {
     "name": "stdout",
     "output_type": "stream",
     "text": [
      "> Epoch | Model Loss | Class Loss | Adv Loss | Dec Loss | Class Acc | Adv Acc | Dec Acc\n",
      "> 1 | -0.00545203173533082 | 0.5398848056793213 | 0.5533051490783691 | 0.9201741218566895 | 0.7690235411140584 | 0.6481266578249337 | -101.54302055702918\n"
     ]
    }
   ],
   "source": [
    "ret = train_loop(model, raw_data, train_data, 1, opt)"
   ]
  },
  {
   "cell_type": "code",
   "execution_count": 16,
   "metadata": {},
   "outputs": [
    {
     "name": "stdout",
     "output_type": "stream",
     "text": [
      "> Class Acc | Adv Acc\n",
      "> 0.828623670212766 | 0.6743683510638299\n",
      "> DP | DEqOdds | DEqOpp\n",
      "> 0.9026462286710739 | 0.9653306193649769 | 0.9451667666435242\n",
      "> Confusion Matrix \n",
      "TN: 4227.0 | FP: 331.0 \n",
      "FN: 700.0 | TP: 758.0\n",
      "> Confusion Matrix for A = 0 \n",
      "TN: 1646.0 | FP: 112.0 \n",
      "FN: 87.0 | TP: 114.0\n",
      "> Confusion Matrix for A = 1 \n",
      "TN: 2581.0 | FP: 219.0 \n",
      "FN: 613.0 | TP: 644.0\n"
     ]
    }
   ],
   "source": [
    "Y, A, Y_hat, A_hat = evaluation(model, valid_data)\n",
    "ret = compute_metrics(Y, A, Y_hat, A_hat)"
   ]
  },
  {
   "cell_type": "markdown",
   "metadata": {},
   "source": [
    "## Models"
   ]
  },
  {
   "cell_type": "code",
   "execution_count": 17,
   "metadata": {},
   "outputs": [],
   "source": [
    "cmap = sns.light_palette(\"seagreen\", as_cmap=True)"
   ]
  },
  {
   "cell_type": "code",
   "execution_count": 18,
   "metadata": {
    "tags": []
   },
   "outputs": [
    {
     "name": "stdout",
     "output_type": "stream",
     "text": [
      "> Epoch | Model Loss | Class Loss | Adv Loss | Dec Loss | Class Acc | Adv Acc | Dec Acc\n",
      "> 1 | 0.00021567940711975098 | 0.5558671951293945 | 0.5552201271057129 | 0.9201741218566895 | 0.7664124668435013 | 0.6539290450928382 | -101.54302055702918\n",
      "> 2 | -0.0027728378772735596 | 0.5477864742279053 | 0.5561050176620483 | 0.9201741218566895 | 0.8292854774535809 | 0.6663627320954907 | -101.54302055702918\n",
      "> 3 | -0.005433549638837576 | 0.5397320985794067 | 0.5560327768325806 | 0.9201741218566895 | 0.833098474801061 | 0.666901525198939 | -101.54302055702918\n",
      "> 4 | -0.007280041929334402 | 0.5340828895568848 | 0.5559229850769043 | 0.9201741218566895 | 0.8351707559681698 | 0.6670673076923077 | -101.54302055702918\n",
      "> 5 | -0.0073262653313577175 | 0.5339124202728271 | 0.555891215801239 | 0.9201741218566895 | 0.8374088196286472 | 0.6668186339522546 | -101.54302055702918\n",
      "> 6 | -0.007008919958025217 | 0.5348788499832153 | 0.5559055805206299 | 0.9201741218566895 | 0.8387350795755968 | 0.6668186339522546 | -101.54302055702918\n",
      "> 7 | -0.006903658155351877 | 0.5352542400360107 | 0.5559651851654053 | 0.9201741218566895 | 0.8403514588859416 | 0.6669429708222812 | -101.54302055702918\n",
      "> 8 | -0.006689379457384348 | 0.5360312461853027 | 0.5560994148254395 | 0.9201741218566895 | 0.8412218169761273 | 0.6670258620689655 | -101.54302055702918\n",
      "> 9 | -0.006482323165982962 | 0.5367968082427979 | 0.5562437772750854 | 0.9201741218566895 | 0.8425480769230769 | 0.666652851458886 | -101.54302055702918\n",
      "> 10 | -0.006325969938188791 | 0.5373541116714478 | 0.556331992149353 | 0.9201741218566895 | 0.8435842175066313 | 0.6664870689655172 | -101.54302055702918\n",
      "> Class Acc | Adv Acc\n",
      "> 0.8397606382978724 | 0.6743683510638299\n",
      "> DP | DEqOdds | DEqOpp\n",
      "> 0.8707602471113205 | 0.9457425307482481 | 0.9303957521915436\n",
      "> Confusion Matrix \n",
      "TN: 4182.0 | FP: 376.0 \n",
      "FN: 588.0 | TP: 870.0\n",
      "> Confusion Matrix for A = 0 \n",
      "TN: 1655.0 | FP: 103.0 \n",
      "FN: 69.0 | TP: 132.0\n",
      "> Confusion Matrix for A = 1 \n",
      "TN: 2527.0 | FP: 273.0 \n",
      "FN: 519.0 | TP: 738.0\n"
     ]
    }
   ],
   "source": [
    "#For DP\n",
    "model = DemParGan(xdim, ydim, adim, zdim, hidden_layer_specs, recon_coeff=RECON_COEFF, clas_coeff=CLAS_COEFF, fair_coeff=FAIR_COEFF)\n",
    "ret = train_loop(model, raw_data, train_data, epochs, opt)\n",
    "Y, A, Y_hat, A_hat = evaluation(model, valid_data)\n",
    "ret4dp = compute_metrics(Y, A, Y_hat, A_hat)"
   ]
  },
  {
   "cell_type": "code",
   "execution_count": 19,
   "metadata": {},
   "outputs": [
    {
     "data": {
      "text/plain": [
       "<matplotlib.axes._subplots.AxesSubplot at 0x7f057efdff10>"
      ]
     },
     "execution_count": 19,
     "metadata": {},
     "output_type": "execute_result"
    },
    {
     "data": {
      "image/png": "[encoded data removed]",
      "text/plain": [
       "<Figure size 432x288 with 2 Axes>"
      ]
     },
     "metadata": {
      "needs_background": "light"
     },
     "output_type": "display_data"
    }
   ],
   "source": [
    "sns.heatmap(ret4dp[4], cmap=cmap, annot=True, fmt='g')"
   ]
  },
  {
   "cell_type": "code",
   "execution_count": 20,
   "metadata": {},
   "outputs": [
    {
     "name": "stdout",
     "output_type": "stream",
     "text": [
      "> Epoch | Model Loss | Class Loss | Adv Loss | Dec Loss | Class Acc | Adv Acc | Dec Acc\n",
      "> 1 | 0.005344043020159006 | 0.5462383031845093 | 0.5302062034606934 | 0.9201741218566895 | 0.7708885941644562 | 0.6561671087533156 | -101.54302055702918\n",
      "> 2 | 0.003463228465989232 | 0.5375385284423828 | 0.5271488428115845 | 0.9201741218566895 | 0.8313577586206896 | 0.6652022546419099 | -101.54302055702918\n",
      "> 3 | 0.0005948245525360107 | 0.52766352891922 | 0.5258790254592896 | 0.9201741218566895 | 0.835460875331565 | 0.6658239389920424 | -101.54302055702918\n",
      "> 4 | -0.001354992389678955 | 0.5212007761001587 | 0.5252657532691956 | 0.9201741218566895 | 0.8381133952254642 | 0.6658653846153846 | -101.54302055702918\n",
      "> 5 | -0.0014077922096475959 | 0.520782470703125 | 0.5250058174133301 | 0.9201741218566895 | 0.8398541114058355 | 0.6663212864721485 | -101.54302055702918\n",
      "> 6 | -0.0012146035442128778 | 0.5213147401809692 | 0.5249585509300232 | 0.9201741218566895 | 0.8407659151193634 | 0.6665285145888594 | -101.54302055702918\n",
      "> 7 | -0.001146336435340345 | 0.5215297937393188 | 0.5249688029289246 | 0.9201741218566895 | 0.8421750663129973 | 0.6665699602122016 | -101.54302055702918\n",
      "> 8 | -0.0009030699729919434 | 0.5223645567893982 | 0.525073766708374 | 0.9201741218566895 | 0.8432112068965517 | 0.6665285145888594 | -101.54302055702918\n",
      "> 9 | -0.000629256188403815 | 0.5233363509178162 | 0.5252240896224976 | 0.9201741218566895 | 0.8433769893899205 | 0.6659897214854111 | -101.54302055702918\n",
      "> 10 | -0.0005885660648345947 | 0.523681640625 | 0.5254473686218262 | 0.9201741218566895 | 0.8444960212201591 | 0.6654094827586207 | -101.54302055702918\n",
      "> Class Acc | Adv Acc\n",
      "> 0.8435837765957447 | 0.6743683510638299\n",
      "> DP | DEqOdds | DEqOpp\n",
      "> 0.8450763523578644 | 0.9624425824731588 | 0.9835191667079926\n",
      "> Confusion Matrix \n",
      "TN: 4189.0 | FP: 369.0 \n",
      "FN: 572.0 | TP: 886.0\n",
      "> Confusion Matrix for A = 0 \n",
      "TN: 1679.0 | FP: 79.0 \n",
      "FN: 76.0 | TP: 125.0\n",
      "> Confusion Matrix for A = 1 \n",
      "TN: 2510.0 | FP: 290.0 \n",
      "FN: 496.0 | TP: 761.0\n"
     ]
    }
   ],
   "source": [
    "#For EQODDS\n",
    "model = EqOddsUnweightedGan(xdim, ydim, adim, zdim, hidden_layer_specs, recon_coeff=RECON_COEFF, clas_coeff=CLAS_COEFF, fair_coeff=FAIR_COEFF)\n",
    "ret = train_loop(model, raw_data, train_data, epochs, opt)\n",
    "Y, A, Y_hat, A_hat = evaluation(model, valid_data)\n",
    "ret4eqodds = compute_metrics(Y, A, Y_hat, A_hat)"
   ]
  },
  {
   "cell_type": "code",
   "execution_count": 21,
   "metadata": {},
   "outputs": [
    {
     "data": {
      "text/plain": [
       "<matplotlib.axes._subplots.AxesSubplot at 0x7f0582ce9cd0>"
      ]
     },
     "execution_count": 21,
     "metadata": {},
     "output_type": "execute_result"
    },
    {
     "data": {
      "image/png": "[encoded data removed]",
      "text/plain": [
       "<Figure size 432x288 with 2 Axes>"
      ]
     },
     "metadata": {
      "needs_background": "light"
     },
     "output_type": "display_data"
    }
   ],
   "source": [
    "sns.heatmap(ret4eqodds[4], cmap=cmap, annot=True, fmt='g')"
   ]
  },
  {
   "cell_type": "code",
   "execution_count": 22,
   "metadata": {},
   "outputs": [
    {
     "name": "stdout",
     "output_type": "stream",
     "text": [
      "> Epoch | Model Loss | Class Loss | Adv Loss | Dec Loss | Class Acc | Adv Acc | Dec Acc\n",
      "> 1 | 0.005343894008547068 | 0.5462380647659302 | 0.5302063822746277 | 0.9201741218566895 | 0.7708885941644562 | 0.6561256631299734 | -101.54302055702918\n",
      "> 2 | 0.0034630894660949707 | 0.5375381708145142 | 0.5271489024162292 | 0.9201741218566895 | 0.8313577586206896 | 0.6652022546419099 | -101.54302055702918\n",
      "> 3 | 0.0005947549943812191 | 0.5276633501052856 | 0.5258790850639343 | 0.9201741218566895 | 0.835460875331565 | 0.6658239389920424 | -101.54302055702918\n",
      "> 4 | -0.0013550519943237305 | 0.5212006568908691 | 0.5252658128738403 | 0.9201741218566895 | 0.8381133952254642 | 0.6658653846153846 | -101.54302055702918\n",
      "> 5 | -0.0014078418025746942 | 0.5207823514938354 | 0.5250058770179749 | 0.9201741218566895 | 0.8398541114058355 | 0.6663212864721485 | -101.54302055702918\n",
      "> 6 | -0.0012146433582529426 | 0.5213146805763245 | 0.524958610534668 | 0.9201741218566895 | 0.8407659151193634 | 0.6665285145888594 | -101.54302055702918\n",
      "> 7 | -0.001146336435340345 | 0.5215298533439636 | 0.5249688625335693 | 0.9201741218566895 | 0.8421750663129973 | 0.6665699602122016 | -101.54302055702918\n",
      "> 8 | -0.0009030501241795719 | 0.522364616394043 | 0.525073766708374 | 0.9201741218566895 | 0.8432112068965517 | 0.6665285145888594 | -101.54302055702918\n",
      "> 9 | -0.0006292462348937988 | 0.5233364105224609 | 0.5252241492271423 | 0.9201741218566895 | 0.8433769893899205 | 0.6659897214854111 | -101.54302055702918\n",
      "> 10 | -0.0005885561113245785 | 0.5236817002296448 | 0.5254473686218262 | 0.9201741218566895 | 0.8444960212201591 | 0.6654094827586207 | -101.54302055702918\n",
      "> Class Acc | Adv Acc\n",
      "> 0.8435837765957447 | 0.6743683510638299\n",
      "> DP | DEqOdds | DEqOpp\n",
      "> 0.8450763523578644 | 0.9624425824731588 | 0.9835191667079926\n",
      "> Confusion Matrix \n",
      "TN: 4189.0 | FP: 369.0 \n",
      "FN: 572.0 | TP: 886.0\n",
      "> Confusion Matrix for A = 0 \n",
      "TN: 1679.0 | FP: 79.0 \n",
      "FN: 76.0 | TP: 125.0\n",
      "> Confusion Matrix for A = 1 \n",
      "TN: 2510.0 | FP: 290.0 \n",
      "FN: 496.0 | TP: 761.0\n"
     ]
    }
   ],
   "source": [
    "#For EQOPP\n",
    "model = EqOddsUnweightedGan(xdim, ydim, adim, zdim, hidden_layer_specs, recon_coeff=RECON_COEFF, clas_coeff=CLAS_COEFF, fair_coeff=FAIR_COEFF)\n",
    "ret = train_loop(model, raw_data, train_data, epochs, opt)\n",
    "Y, A, Y_hat, A_hat = evaluation(model, valid_data)\n",
    "ret4eqopp = compute_metrics(Y, A, Y_hat, A_hat)"
   ]
  },
  {
   "cell_type": "code",
   "execution_count": 23,
   "metadata": {},
   "outputs": [
    {
     "data": {
      "text/plain": [
       "<matplotlib.axes._subplots.AxesSubplot at 0x7f0580ef8fd0>"
      ]
     },
     "execution_count": 23,
     "metadata": {},
     "output_type": "execute_result"
    },
    {
     "data": {
      "image/png": "[encoded data removed]",
      "text/plain": [
       "<Figure size 432x288 with 2 Axes>"
      ]
     },
     "metadata": {
      "needs_background": "light"
     },
     "output_type": "display_data"
    }
   ],
   "source": [
    "sns.heatmap(ret4eqopp[4], cmap=cmap, annot=True, fmt='g')"
   ]
  },
  {
   "cell_type": "code",
   "execution_count": 24,
   "metadata": {},
   "outputs": [],
   "source": [
    "sns.set_style('darkgrid')"
   ]
  },
  {
   "cell_type": "code",
   "execution_count": 25,
   "metadata": {},
   "outputs": [
    {
     "data": {
      "image/png": "[encoded data removed]",
      "text/plain": [
       "<Figure size 432x288 with 1 Axes>"
      ]
     },
     "metadata": {},
     "output_type": "display_data"
    }
   ],
   "source": [
    "'''plt.plot()\n",
    "plt.ylabel('Accuracy')\n",
    "\n",
    "# plotting the line 1 points \n",
    "# plt.plot(fair_coeff_list, laftr_accs, label = \"laftr\")\n",
    "# line 2 points\n",
    "\n",
    "# plotting the line 2 points \n",
    "plt.plot(fair_coeff_list, unfair_accs4dp, label = \"LAFTR DP\")\n",
    "plt.plot(fair_coeff_list, unfair_accs4di, '--', label = \"LAFTR EODD\")\n",
    "plt.plot(fair_coeff_list, unfair_accs4deopp, ':', label = \"LAFTR EOPP\")\n",
    "plt.xlabel('Fair coefficient')\n",
    "plt.legend()\n",
    "plt.show()'''\n",
    "\n",
    "y=[2,4,6]\n",
    "sns.set_style('darkgrid')\n",
    "plt.ylabel('Accuracy')\n",
    "\n",
    "plt.scatter(1, ret4dp[0], label = \"LAFTR DemPar\")\n",
    "\n",
    "plt.scatter(2, ret4eqodds[0], label = \"LAFTR EqOdds\")\n",
    "\n",
    "plt.scatter(3, ret4eqopp[0], label = \"LAFTR EqOpp\")\n",
    "\n",
    "#plt.xlabel('Fair coefficient')\n",
    "plt.legend()\n",
    "\n",
    "plt.show()"
   ]
  },
  {
   "cell_type": "code",
   "execution_count": 26,
   "metadata": {},
   "outputs": [
    {
     "data": {
      "text/plain": [
       "'plt.plot()\\nplt.ylabel(\\'ΔDP\\')\\n\\n# plotting the line 1 points \\n#plt.plot(fair_coeff_list, laftr_dps, label = \"laftr\")\\n# line 2 points\\n\\n# plotting the line 2 points \\nplt.plot(fair_coeff_list, unfair_dps4dp, label = \"LAFTR DP\")\\nplt.plot(fair_coeff_list, unfair_dps4di, \\'--\\', label = \"LAFTR EODD\")\\nplt.plot(fair_coeff_list, unfair_dps4deopp, \\':\\', label = \"LAFTR EOPP\")\\n\\nplt.xlabel(\\'Fair coefficient\\')\\nplt.legend()\\nplt.show()'"
      ]
     },
     "execution_count": 26,
     "metadata": {},
     "output_type": "execute_result"
    }
   ],
   "source": [
    "'''plt.plot()\n",
    "plt.ylabel('\\u0394DP')\n",
    "\n",
    "# plotting the line 1 points \n",
    "#plt.plot(fair_coeff_list, laftr_dps, label = \"laftr\")\n",
    "# line 2 points\n",
    "\n",
    "# plotting the line 2 points \n",
    "plt.plot(fair_coeff_list, unfair_dps4dp, label = \"LAFTR DP\")\n",
    "plt.plot(fair_coeff_list, unfair_dps4di, '--', label = \"LAFTR EODD\")\n",
    "plt.plot(fair_coeff_list, unfair_dps4deopp, ':', label = \"LAFTR EOPP\")\n",
    "\n",
    "plt.xlabel('Fair coefficient')\n",
    "plt.legend()\n",
    "plt.show()'''"
   ]
  },
  {
   "cell_type": "code",
   "execution_count": 27,
   "metadata": {},
   "outputs": [
    {
     "data": {
      "image/png": "[encoded data removed]",
      "text/plain": [
       "<Figure size 432x288 with 1 Axes>"
      ]
     },
     "metadata": {},
     "output_type": "display_data"
    }
   ],
   "source": [
    "'''plt.plot()\n",
    "plt.ylabel('Accuracy')\n",
    "\n",
    "# plotting the line 1 points \n",
    "# plt.plot(laftr_dps, laftr_accs, label = \"laftr\")\n",
    "# line 2 points\n",
    "\n",
    "# plotting the line 2 points \n",
    "plt.plot(sorted_unfair_dps4dp, sorted_unfair_accs_dps4dp, label = \"LAFTR DP\")\n",
    "plt.plot(sorted_unfair_dps4di, sorted_unfair_accs_dps4di, '--', label = \"LAFTR EODD\")\n",
    "plt.plot(sorted_unfair_dps4deopp, sorted_unfair_accs_dps4deopp, '--', label = \"LAFTR EOPP\")\n",
    "\n",
    "plt.xlabel('\\u0394DP')\n",
    "plt.legend()\n",
    "plt.show()'''\n",
    "\n",
    "plt.plot()\n",
    "plt.ylabel('Accuracy')\n",
    "\n",
    "plt.scatter(ret4dp[1], ret4dp[0], label = \"LAFTR DemPar\")\n",
    "\n",
    "plt.scatter(ret4eqodds[1], ret4eqodds[0], label = \"LAFTR EqOdds\")\n",
    "\n",
    "plt.scatter(ret4eqopp[1], ret4eqopp[0], label = \"LAFTR EqOpp\")\n",
    "\n",
    "plt.xlabel('\\u0394DP')\n",
    "plt.legend()\n",
    "plt.show()"
   ]
  },
  {
   "cell_type": "code",
   "execution_count": 28,
   "metadata": {},
   "outputs": [
    {
     "data": {
      "image/png": "[encoded data removed]",
      "text/plain": [
       "<Figure size 432x288 with 1 Axes>"
      ]
     },
     "metadata": {},
     "output_type": "display_data"
    }
   ],
   "source": [
    "'''plt.plot()\n",
    "plt.ylabel('Accuracy')\n",
    "\n",
    "# plotting the line 1 points \n",
    "# plt.plot(laftr_dps, laftr_accs, label = \"laftr\")\n",
    "# line 2 points\n",
    "\n",
    "# plotting the line 2 points \n",
    "plt.plot(sorted_unfair_dis4dp, sorted_unfair_accs_dis4dp, '--', label = \"LAFTR DP\")\n",
    "plt.plot(sorted_unfair_dis4di, sorted_unfair_accs_dis4di, label = \"LAFTR EODD\")\n",
    "plt.plot(sorted_unfair_dis4deopp, sorted_unfair_accs_dis4deopp, '--', label = \"LAFTR EOPP\")\n",
    "\n",
    "plt.xlabel('\\u0394EOdds')\n",
    "plt.legend()\n",
    "plt.show()'''\n",
    "\n",
    "plt.plot()\n",
    "plt.ylabel('Accuracy')\n",
    "\n",
    "plt.scatter(ret4dp[2], ret4dp[0], label = \"LAFTR DemPar\")\n",
    "\n",
    "plt.scatter(ret4eqodds[2], ret4eqodds[0], label = \"LAFTR EqOdds\")\n",
    "\n",
    "plt.scatter(ret4eqopp[2], ret4eqopp[0], label = \"LAFTR EqOpp\")\n",
    "\n",
    "plt.xlabel('\\u0394EqOdds')\n",
    "plt.legend()\n",
    "plt.show()"
   ]
  },
  {
   "cell_type": "code",
   "execution_count": 29,
   "metadata": {},
   "outputs": [
    {
     "data": {
      "image/png": "[encoded data removed]",
      "text/plain": [
       "<Figure size 432x288 with 1 Axes>"
      ]
     },
     "metadata": {},
     "output_type": "display_data"
    }
   ],
   "source": [
    "'''plt.plot()\n",
    "plt.ylabel('Accuracy')\n",
    "\n",
    "# plotting the line 1 points \n",
    "plt.plot(laftr_dps, laftr_accs, label = \"laftr\")\n",
    "# line 2 points#\n",
    "\n",
    "# plotting the line 2 points \n",
    "plt.plot(sorted_unfair_deopps4dp, sorted_unfair_accs_eopps4dp, '--', label = \"LAFTR DP\")\n",
    "plt.plot(sorted_unfair_deopps4di, sorted_unfair_accs_eopps4di, '--', label = \"LAFTR EODD\")\n",
    "plt.plot(sorted_unfair_deopps4deopp, sorted_unfair_accs_eopps4deopp, label = \"LAFTR EOPP\")\n",
    "\n",
    "plt.xlabel('\\u0394EOpp')\n",
    "plt.legend()\n",
    "plt.show()'''\n",
    "\n",
    "plt.plot()\n",
    "plt.ylabel('Accuracy')\n",
    "\n",
    "plt.scatter(ret4dp[3], ret4dp[0], label = \"LAFTR DemPar\")\n",
    "\n",
    "plt.scatter(ret4eqodds[3], ret4eqodds[0], label = \"LAFTR EqOdds\")\n",
    "\n",
    "plt.scatter(ret4eqopp[3], ret4eqopp[0], label = \"LAFTR EqOpp\")\n",
    "\n",
    "plt.xlabel('\\u0394EqOpp')\n",
    "plt.legend()\n",
    "plt.show()"
   ]
  }
 ],
 "metadata": {
  "interpreter": {
   "hash": "34ca74ed6235dfc7dda926bb3adb31e801e3d02679121d5b444ee035e270bd57"
  },
  "kernelspec": {
   "display_name": "Python 3.8.5 64-bit ('falsb': conda)",
   "name": "python3"
  },
  "language_info": {
   "codemirror_mode": {
    "name": "ipython",
    "version": 3
   },
   "file_extension": ".py",
   "mimetype": "text/x-python",
   "name": "python",
   "nbconvert_exporter": "python",
   "pygments_lexer": "ipython3",
   "version": "3.8.5"
  },
  "metadata": {
   "interpreter": {
    "hash": "34ca74ed6235dfc7dda926bb3adb31e801e3d02679121d5b444ee035e270bd57"
   }
  }
 },
 "nbformat": 4,
 "nbformat_minor": 4
}
