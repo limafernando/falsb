{
 "cells": [
  {
   "cell_type": "markdown",
   "metadata": {},
   "source": [
    "## Import libs"
   ]
  },
  {
   "cell_type": "code",
   "execution_count": 1,
   "metadata": {},
   "outputs": [],
   "source": [
    "import matplotlib.pyplot as plt\n",
    "import seaborn as sns\n",
    "from tensorflow.data import Dataset\n",
    "from tensorflow.keras.optimizers import Adam\n",
    "\n",
    "\n",
    "from benchmark.models.madras_laftr.models import *\n",
    "from benchmark.models.madras_laftr.learning import *\n",
    "from benchmark.util.load_data import load_data\n",
    "from benchmark.util.evaluation import *"
   ]
  },
  {
   "cell_type": "markdown",
   "metadata": {},
   "source": [
    "## Preliminaries"
   ]
  },
  {
   "cell_type": "code",
   "execution_count": 2,
   "metadata": {},
   "outputs": [],
   "source": [
    "batch_size = 64\n",
    "epochs = 10\n",
    "learning_rate = 0.001\n",
    "opt = Adam(learning_rate=learning_rate)\n",
    "CLAS_COEFF = 1.\n",
    "FAIR_COEFF = 1.\n",
    "RECON_COEFF = 0.\n",
    "hidden_layer_specs = {'clas':[8] , 'enc':[8] , 'dec':[8] , 'adv':[8]}"
   ]
  },
  {
   "cell_type": "markdown",
   "metadata": {},
   "source": [
    "## Load data"
   ]
  },
  {
   "cell_type": "code",
   "execution_count": 3,
   "metadata": {},
   "outputs": [],
   "source": [
    "data_name = 'adult-race'"
   ]
  },
  {
   "cell_type": "code",
   "execution_count": 4,
   "metadata": {
    "tags": []
   },
   "outputs": [],
   "source": [
    "x_train, y_train, a_train = load_data(data_name, 'train')\n",
    "raw_data = (x_train, y_train, a_train)"
   ]
  },
  {
   "cell_type": "code",
   "execution_count": 5,
   "metadata": {},
   "outputs": [],
   "source": [
    "xdim = x_train.shape[1]\n",
    "ydim = y_train.shape[1]\n",
    "adim = a_train.shape[1]\n",
    "zdim = 8"
   ]
  },
  {
   "cell_type": "code",
   "execution_count": 6,
   "metadata": {},
   "outputs": [
    {
     "data": {
      "text/plain": [
       "<BatchDataset shapes: ((64, 112), (64, 1), (64, 5)), types: (tf.float64, tf.float64, tf.float64)>"
      ]
     },
     "execution_count": 6,
     "metadata": {},
     "output_type": "execute_result"
    }
   ],
   "source": [
    "train_data = Dataset.from_tensor_slices((x_train, y_train, a_train))\n",
    "train_data = train_data.batch(batch_size, drop_remainder=True)\n",
    "train_data\n"
   ]
  },
  {
   "cell_type": "code",
   "execution_count": 7,
   "metadata": {},
   "outputs": [],
   "source": [
    "x_valid, y_valid, a_valid = load_data(data_name, 'valid')\n",
    "\n",
    "valid_data = Dataset.from_tensor_slices((x_valid, y_valid, a_valid))\n",
    "valid_data = valid_data.batch(batch_size, drop_remainder=True)"
   ]
  },
  {
   "cell_type": "code",
   "execution_count": 8,
   "metadata": {},
   "outputs": [],
   "source": [
    "x_test, y_test, a_test = load_data(data_name, 'test')\n",
    "\n",
    "test_data = Dataset.from_tensor_slices((x_test, y_test, a_test))\n",
    "test_data = test_data.batch(batch_size, drop_remainder=True)"
   ]
  },
  {
   "cell_type": "markdown",
   "metadata": {},
   "source": [
    "## Testing if models are being trained"
   ]
  },
  {
   "cell_type": "markdown",
   "metadata": {},
   "source": [
    "### For DP"
   ]
  },
  {
   "cell_type": "code",
   "execution_count": 9,
   "metadata": {},
   "outputs": [],
   "source": [
    "model = DemParGan(xdim, ydim, adim, zdim, hidden_layer_specs, recon_coeff=RECON_COEFF, clas_coeff=CLAS_COEFF, fair_coeff=FAIR_COEFF)"
   ]
  },
  {
   "cell_type": "code",
   "execution_count": 10,
   "metadata": {
    "tags": []
   },
   "outputs": [
    {
     "name": "stdout",
     "output_type": "stream",
     "text": [
      "> Epoch | Model Loss | Class Loss | Adv Loss | Dec Loss | Class Acc | Adv Acc | Dec Acc\n",
      "> 1 | -0.0017665326595306396 | 0.5028232932090759 | 0.5081229209899902 | 0.9201741218566895 | 0.6347811671087533 | 0.5554265136230213 | -101.54302055702918\n"
     ]
    }
   ],
   "source": [
    "ret = train_loop(model, raw_data, train_data, 1, opt)"
   ]
  },
  {
   "cell_type": "code",
   "execution_count": 11,
   "metadata": {},
   "outputs": [
    {
     "name": "stdout",
     "output_type": "stream",
     "text": [
      "> Class Acc | Adv Acc\n",
      "> 0.8228058510638298 | 0.7191397078493809\n",
      "> DP | DEqOdds | DEqOpp\n",
      "> 0.542546845972538 | 0.8242955364403315 | 0.6710115447640419\n",
      "> Confusion Matrix \n",
      "TN: 4239.0 | FP: 319.0 \n",
      "FN: 747.0 | TP: 711.0\n"
     ]
    }
   ],
   "source": [
    "Y, A, Y_hat, A_hat = fair_evaluation(model, valid_data)\n",
    "ret = compute_metrics(Y, A, Y_hat, A_hat, adim)"
   ]
  },
  {
   "cell_type": "markdown",
   "metadata": {},
   "source": [
    "### For EqOdds"
   ]
  },
  {
   "cell_type": "code",
   "execution_count": 12,
   "metadata": {},
   "outputs": [],
   "source": [
    "model = EqOddsUnweightedGan(xdim, ydim, adim, zdim, hidden_layer_specs, recon_coeff=RECON_COEFF, clas_coeff=CLAS_COEFF, fair_coeff=FAIR_COEFF)"
   ]
  },
  {
   "cell_type": "code",
   "execution_count": 13,
   "metadata": {},
   "outputs": [
    {
     "name": "stdout",
     "output_type": "stream",
     "text": [
      "> Epoch | Model Loss | Class Loss | Adv Loss | Dec Loss | Class Acc | Adv Acc | Dec Acc\n",
      "> 1 | 0.0054025352001190186 | 0.4891658425331116 | 0.4729582369327545 | 0.9201741218566895 | 0.7149370026525199 | 0.6596622554590278 | -101.54302055702918\n"
     ]
    }
   ],
   "source": [
    "ret = train_loop(model, raw_data, train_data, 1, opt)"
   ]
  },
  {
   "cell_type": "code",
   "execution_count": 14,
   "metadata": {},
   "outputs": [
    {
     "name": "stdout",
     "output_type": "stream",
     "text": [
      "> Class Acc | Adv Acc\n",
      "> 0.8356050531914894 | 0.7191397078493809\n",
      "> DP | DEqOdds | DEqOpp\n",
      "> 0.4168192371726036 | 0.8621016931720078 | 0.8281693235039711\n",
      "> Confusion Matrix \n",
      "TN: 4241.0 | FP: 317.0 \n",
      "FN: 672.0 | TP: 786.0\n"
     ]
    }
   ],
   "source": [
    "Y, A, Y_hat, A_hat = fair_evaluation(model, valid_data)\n",
    "ret = compute_metrics(Y, A, Y_hat, A_hat, adim)"
   ]
  },
  {
   "cell_type": "markdown",
   "metadata": {},
   "source": [
    "### For EqOpp"
   ]
  },
  {
   "cell_type": "code",
   "execution_count": 15,
   "metadata": {},
   "outputs": [],
   "source": [
    "model = EqOppUnweightedGan(xdim, ydim, adim, zdim, hidden_layer_specs, recon_coeff=RECON_COEFF, clas_coeff=CLAS_COEFF, fair_coeff=FAIR_COEFF)"
   ]
  },
  {
   "cell_type": "code",
   "execution_count": 16,
   "metadata": {},
   "outputs": [
    {
     "name": "stdout",
     "output_type": "stream",
     "text": [
      "> Epoch | Model Loss | Class Loss | Adv Loss | Dec Loss | Class Acc | Adv Acc | Dec Acc\n",
      "> 1 | 0.002235572785139084 | 0.4801531732082367 | 0.47465020418167114 | 0.9201741218566895 | 0.73532824933687 | 0.6643870568362408 | -101.54302055702918\n"
     ]
    }
   ],
   "source": [
    "ret = train_loop(model, raw_data, train_data, 1, opt)"
   ]
  },
  {
   "cell_type": "code",
   "execution_count": 17,
   "metadata": {},
   "outputs": [
    {
     "name": "stdout",
     "output_type": "stream",
     "text": [
      "> Class Acc | Adv Acc\n",
      "> 0.8375997340425532 | 0.7191397078493809\n",
      "> DP | DEqOdds | DEqOpp\n",
      "> 0.37143559753894806 | 0.8474010382778943 | 0.7953730709850788\n",
      "> Confusion Matrix \n",
      "TN: 4212.0 | FP: 346.0 \n",
      "FN: 631.0 | TP: 827.0\n"
     ]
    }
   ],
   "source": [
    "Y, A, Y_hat, A_hat = fair_evaluation(model, valid_data)\n",
    "ret = compute_metrics(Y, A, Y_hat, A_hat, adim)"
   ]
  },
  {
   "cell_type": "markdown",
   "metadata": {},
   "source": [
    "## Models"
   ]
  },
  {
   "cell_type": "code",
   "execution_count": 18,
   "metadata": {},
   "outputs": [],
   "source": [
    "cmap = sns.light_palette(\"seagreen\", as_cmap=True)"
   ]
  },
  {
   "cell_type": "code",
   "execution_count": 19,
   "metadata": {
    "tags": []
   },
   "outputs": [
    {
     "name": "stdout",
     "output_type": "stream",
     "text": [
      "> Epoch | Model Loss | Class Loss | Adv Loss | Dec Loss | Class Acc | Adv Acc | Dec Acc\n",
      "> 1 | 0.006861785892397165 | 0.49368488788604736 | 0.4730995297431946 | 0.9201741218566895 | 0.7424568965517241 | 0.6684072826166368 | -101.54302055702918\n",
      "> 2 | 0.008602410554885864 | 0.4952690899372101 | 0.4694618582725525 | 0.9201741218566895 | 0.8358338859416445 | 0.7178519111848004 | -101.54302055702918\n",
      "> 3 | 0.010768413543701172 | 0.5016729831695557 | 0.46936774253845215 | 0.9201741218566895 | 0.839481100795756 | 0.7178519111848004 | -101.54302055702918\n",
      "> 4 | 0.012761235237121582 | 0.5079113841056824 | 0.4696276783943176 | 0.9201741218566895 | 0.8406415782493368 | 0.7178519111848004 | -101.54302055702918\n",
      "> 5 | 0.013243247754871845 | 0.5096162557601929 | 0.46988651156425476 | 0.9201741218566895 | 0.8417606100795756 | 0.7178519111848004 | -101.54302055702918\n",
      "> 6 | 0.013512630946934223 | 0.5106725692749023 | 0.4701346755027771 | 0.9201741218566895 | 0.8431283156498673 | 0.7178519111848004 | -101.54302055702918\n",
      "> 7 | 0.013621409423649311 | 0.5112727284431458 | 0.47040849924087524 | 0.9201741218566895 | 0.8442059018567639 | 0.7178519111848004 | -101.54302055702918\n",
      "> 8 | 0.013359516859054565 | 0.5106860995292664 | 0.47060754895210266 | 0.9201741218566895 | 0.84470324933687 | 0.7178519111848004 | -101.54302055702918\n",
      "> 9 | 0.012675623409450054 | 0.5088324546813965 | 0.4708055853843689 | 0.9201741218566895 | 0.8458222811671088 | 0.7178519111848004 | -101.54302055702918\n",
      "> 10 | 0.012020021677017212 | 0.5070898532867432 | 0.47102978825569153 | 0.9201741218566895 | 0.8464025198938993 | 0.7178519111848004 | -101.54302055702918\n",
      "> Class Acc | Adv Acc\n",
      "> 0.8497340425531915 | 0.7191397078493809\n",
      "> DP | DEqOdds | DEqOpp\n",
      "> 0.13941121101379395 | 0.6739113430958241 | 0.40380633622407913\n",
      "> Confusion Matrix \n",
      "TN: 4219.0 | FP: 339.0 \n",
      "FN: 565.0 | TP: 893.0\n"
     ]
    }
   ],
   "source": [
    "#For DP\n",
    "model = DemParGan(xdim, ydim, adim, zdim, hidden_layer_specs, recon_coeff=RECON_COEFF, clas_coeff=CLAS_COEFF, fair_coeff=FAIR_COEFF)\n",
    "ret = train_loop(model, raw_data, train_data, epochs, opt)\n",
    "Y, A, Y_hat, A_hat = fair_evaluation(model, valid_data)\n",
    "ret4dp = compute_metrics(Y, A, Y_hat, A_hat, adim)"
   ]
  },
  {
   "cell_type": "code",
   "execution_count": 20,
   "metadata": {},
   "outputs": [
    {
     "data": {
      "text/plain": [
       "<matplotlib.axes._subplots.AxesSubplot at 0x7f2d9cf34460>"
      ]
     },
     "execution_count": 20,
     "metadata": {},
     "output_type": "execute_result"
    },
    {
     "data": {
      "image/png": "[encoded data removed]",
      "text/plain": [
       "<Figure size 432x288 with 2 Axes>"
      ]
     },
     "metadata": {
      "needs_background": "light"
     },
     "output_type": "display_data"
    }
   ],
   "source": [
    "sns.heatmap(ret4dp[4], cmap=cmap, annot=True, fmt='g')"
   ]
  },
  {
   "cell_type": "code",
   "execution_count": 21,
   "metadata": {},
   "outputs": [
    {
     "name": "stdout",
     "output_type": "stream",
     "text": [
      "> Epoch | Model Loss | Class Loss | Adv Loss | Dec Loss | Class Acc | Adv Acc | Dec Acc\n",
      "> 1 | 0.007155259605497122 | 0.4908435344696045 | 0.4693777561187744 | 0.9201741218566895 | 0.7508289124668435 | 0.6743754523383844 | -101.54302055702918\n",
      "> 2 | 0.009872376918792725 | 0.49795088171958923 | 0.46833375096321106 | 0.9201741218566895 | 0.8361240053050398 | 0.7178519111848004 | -101.54302055702918\n",
      "> 3 | 0.011024693958461285 | 0.5022695660591125 | 0.46919548511505127 | 0.9201741218566895 | 0.8397712201591512 | 0.7178519111848004 | -101.54302055702918\n",
      "> 4 | 0.011711816303431988 | 0.5047871470451355 | 0.4696516990661621 | 0.9201741218566895 | 0.8411803713527851 | 0.7178519111848004 | -101.54302055702918\n",
      "> 5 | 0.012893577106297016 | 0.5085545778274536 | 0.46987384557724 | 0.9201741218566895 | 0.8422579575596817 | 0.7178519111848004 | -101.54302055702918\n",
      "> 6 | 0.013506968505680561 | 0.5105048418045044 | 0.46998393535614014 | 0.9201741218566895 | 0.8435842175066313 | 0.7178519111848004 | -101.54302055702918\n",
      "> 7 | 0.01335828471928835 | 0.5100828409194946 | 0.4700080156326294 | 0.9201741218566895 | 0.84470324933687 | 0.7178519111848004 | -101.54302055702918\n",
      "> 8 | 0.012978334911167622 | 0.5089909434318542 | 0.4700559377670288 | 0.9201741218566895 | 0.8451591511936339 | 0.7178519111848004 | -101.54302055702918\n",
      "> 9 | 0.012218773365020752 | 0.5067496299743652 | 0.470093309879303 | 0.9201741218566895 | 0.8455736074270557 | 0.7178519111848004 | -101.54302055702918\n",
      "> 10 | 0.0110326511785388 | 0.5032669901847839 | 0.4701690375804901 | 0.9201741218566895 | 0.846112400530504 | 0.7178519111848004 | -101.54302055702918\n",
      "> Class Acc | Adv Acc\n",
      "> 0.8505651595744681 | 0.7191397078493809\n",
      "> DP | DEqOdds | DEqOpp\n",
      "> 0.14069382846355438 | 0.6766755261924118 | 0.409790076315403\n",
      "> Confusion Matrix \n",
      "TN: 4212.0 | FP: 346.0 \n",
      "FN: 553.0 | TP: 905.0\n"
     ]
    }
   ],
   "source": [
    "#For EQODDS\n",
    "model = EqOddsUnweightedGan(xdim, ydim, adim, zdim, hidden_layer_specs, recon_coeff=RECON_COEFF, clas_coeff=CLAS_COEFF, fair_coeff=FAIR_COEFF)\n",
    "ret = train_loop(model, raw_data, train_data, epochs, opt)\n",
    "Y, A, Y_hat, A_hat = fair_evaluation(model, valid_data)\n",
    "ret4eqodds = compute_metrics(Y, A, Y_hat, A_hat, adim)"
   ]
  },
  {
   "cell_type": "code",
   "execution_count": 22,
   "metadata": {},
   "outputs": [
    {
     "data": {
      "text/plain": [
       "<matplotlib.axes._subplots.AxesSubplot at 0x7f2d9b6f4610>"
      ]
     },
     "execution_count": 22,
     "metadata": {},
     "output_type": "execute_result"
    },
    {
     "data": {
      "image/png": "[encoded data removed]",
      "text/plain": [
       "<Figure size 432x288 with 2 Axes>"
      ]
     },
     "metadata": {
      "needs_background": "light"
     },
     "output_type": "display_data"
    }
   ],
   "source": [
    "sns.heatmap(ret4eqodds[4], cmap=cmap, annot=True, fmt='g')"
   ]
  },
  {
   "cell_type": "code",
   "execution_count": 23,
   "metadata": {},
   "outputs": [
    {
     "name": "stdout",
     "output_type": "stream",
     "text": [
      "> Epoch | Model Loss | Class Loss | Adv Loss | Dec Loss | Class Acc | Adv Acc | Dec Acc\n",
      "> 1 | 0.007153590675443411 | 0.49083685874938965 | 0.4693760871887207 | 0.9201741218566895 | 0.7508703580901857 | 0.6743754523383844 | -101.54302055702918\n",
      "> 2 | 0.009862571954727173 | 0.49791088700294495 | 0.4683231711387634 | 0.9201741218566895 | 0.8360411140583555 | 0.7178519111848004 | -101.54302055702918\n",
      "> 3 | 0.010871042497456074 | 0.501814603805542 | 0.4692014455795288 | 0.9201741218566895 | 0.8400613395225465 | 0.7178519111848004 | -101.54302055702918\n",
      "> 4 | 0.01133252214640379 | 0.5036506056785583 | 0.46965304017066956 | 0.9201741218566895 | 0.8410560344827587 | 0.7178519111848004 | -101.54302055702918\n",
      "> 5 | 0.012838025577366352 | 0.5083882808685303 | 0.46987420320510864 | 0.9201741218566895 | 0.842092175066313 | 0.7178519111848004 | -101.54302055702918\n",
      "> 6 | 0.013357222080230713 | 0.5100574493408203 | 0.4699857831001282 | 0.9201741218566895 | 0.8436256631299734 | 0.7178519111848004 | -101.54302055702918\n",
      "> 7 | 0.01330925989896059 | 0.5099523067474365 | 0.4700245261192322 | 0.9201741218566895 | 0.8444131299734748 | 0.7178519111848004 | -101.54302055702918\n",
      "> 8 | 0.012897591106593609 | 0.5087465643882751 | 0.4700537919998169 | 0.9201741218566895 | 0.8449933687002652 | 0.7178519111848004 | -101.54302055702918\n",
      "> 9 | 0.012260000221431255 | 0.5068774819374084 | 0.47009748220443726 | 0.9201741218566895 | 0.8457393899204244 | 0.7178519111848004 | -101.54302055702918\n",
      "> 10 | 0.011635621078312397 | 0.5050767064094543 | 0.4701698422431946 | 0.9201741218566895 | 0.8462781830238727 | 0.7178519111848004 | -101.54302055702918\n",
      "> Class Acc | Adv Acc\n",
      "> 0.8505651595744681 | 0.7191397078493809\n",
      "> DP | DEqOdds | DEqOpp\n",
      "> 0.13984650373458862 | 0.6766878952039406 | 0.40903592854738235\n",
      "> Confusion Matrix \n",
      "TN: 4217.0 | FP: 341.0 \n",
      "FN: 558.0 | TP: 900.0\n"
     ]
    }
   ],
   "source": [
    "#For EQOPP\n",
    "model = EqOddsUnweightedGan(xdim, ydim, adim, zdim, hidden_layer_specs, recon_coeff=RECON_COEFF, clas_coeff=CLAS_COEFF, fair_coeff=FAIR_COEFF)\n",
    "ret = train_loop(model, raw_data, train_data, epochs, opt)\n",
    "Y, A, Y_hat, A_hat = fair_evaluation(model, valid_data)\n",
    "ret4eqopp = compute_metrics(Y, A, Y_hat, A_hat, adim)"
   ]
  },
  {
   "cell_type": "code",
   "execution_count": 24,
   "metadata": {},
   "outputs": [
    {
     "data": {
      "text/plain": [
       "<matplotlib.axes._subplots.AxesSubplot at 0x7f2d9b855f40>"
      ]
     },
     "execution_count": 24,
     "metadata": {},
     "output_type": "execute_result"
    },
    {
     "data": {
      "image/png": "[encoded data removed]",
      "text/plain": [
       "<Figure size 432x288 with 2 Axes>"
      ]
     },
     "metadata": {
      "needs_background": "light"
     },
     "output_type": "display_data"
    }
   ],
   "source": [
    "sns.heatmap(ret4eqopp[4], cmap=cmap, annot=True, fmt='g')"
   ]
  },
  {
   "cell_type": "code",
   "execution_count": 25,
   "metadata": {},
   "outputs": [],
   "source": [
    "sns.set_style('darkgrid')"
   ]
  },
  {
   "cell_type": "code",
   "execution_count": 26,
   "metadata": {},
   "outputs": [
    {
     "data": {
      "image/png": "[encoded data removed]",
      "text/plain": [
       "<Figure size 432x288 with 1 Axes>"
      ]
     },
     "metadata": {},
     "output_type": "display_data"
    }
   ],
   "source": [
    "'''plt.plot()\n",
    "plt.ylabel('Accuracy')\n",
    "\n",
    "# plotting the line 1 points \n",
    "# plt.plot(fair_coeff_list, laftr_accs, label = \"laftr\")\n",
    "# line 2 points\n",
    "\n",
    "# plotting the line 2 points \n",
    "plt.plot(fair_coeff_list, unfair_accs4dp, label = \"LAFTR DP\")\n",
    "plt.plot(fair_coeff_list, unfair_accs4di, '--', label = \"LAFTR EODD\")\n",
    "plt.plot(fair_coeff_list, unfair_accs4deopp, ':', label = \"LAFTR EOPP\")\n",
    "plt.xlabel('Fair coefficient')\n",
    "plt.legend()\n",
    "plt.show()'''\n",
    "\n",
    "y=[2,4,6]\n",
    "sns.set_style('darkgrid')\n",
    "plt.ylabel('Accuracy')\n",
    "\n",
    "plt.scatter(1, ret4dp[0], label = \"LAFTR DemPar\")\n",
    "\n",
    "plt.scatter(2, ret4eqodds[0], label = \"LAFTR EqOdds\")\n",
    "\n",
    "plt.scatter(3, ret4eqopp[0], label = \"LAFTR EqOpp\")\n",
    "\n",
    "#plt.xlabel('Fair coefficient')\n",
    "plt.legend()\n",
    "\n",
    "plt.show()"
   ]
  },
  {
   "cell_type": "code",
   "execution_count": 27,
   "metadata": {},
   "outputs": [
    {
     "data": {
      "text/plain": [
       "'plt.plot()\\nplt.ylabel(\\'ΔDP\\')\\n\\n# plotting the line 1 points \\n#plt.plot(fair_coeff_list, laftr_dps, label = \"laftr\")\\n# line 2 points\\n\\n# plotting the line 2 points \\nplt.plot(fair_coeff_list, unfair_dps4dp, label = \"LAFTR DP\")\\nplt.plot(fair_coeff_list, unfair_dps4di, \\'--\\', label = \"LAFTR EODD\")\\nplt.plot(fair_coeff_list, unfair_dps4deopp, \\':\\', label = \"LAFTR EOPP\")\\n\\nplt.xlabel(\\'Fair coefficient\\')\\nplt.legend()\\nplt.show()'"
      ]
     },
     "execution_count": 27,
     "metadata": {},
     "output_type": "execute_result"
    }
   ],
   "source": [
    "'''plt.plot()\n",
    "plt.ylabel('\\u0394DP')\n",
    "\n",
    "# plotting the line 1 points \n",
    "#plt.plot(fair_coeff_list, laftr_dps, label = \"laftr\")\n",
    "# line 2 points\n",
    "\n",
    "# plotting the line 2 points \n",
    "plt.plot(fair_coeff_list, unfair_dps4dp, label = \"LAFTR DP\")\n",
    "plt.plot(fair_coeff_list, unfair_dps4di, '--', label = \"LAFTR EODD\")\n",
    "plt.plot(fair_coeff_list, unfair_dps4deopp, ':', label = \"LAFTR EOPP\")\n",
    "\n",
    "plt.xlabel('Fair coefficient')\n",
    "plt.legend()\n",
    "plt.show()'''"
   ]
  },
  {
   "cell_type": "code",
   "execution_count": 28,
   "metadata": {},
   "outputs": [
    {
     "data": {
      "image/png": "[encoded data removed]",
      "text/plain": [
       "<Figure size 432x288 with 1 Axes>"
      ]
     },
     "metadata": {},
     "output_type": "display_data"
    }
   ],
   "source": [
    "'''plt.plot()\n",
    "plt.ylabel('Accuracy')\n",
    "\n",
    "# plotting the line 1 points \n",
    "# plt.plot(laftr_dps, laftr_accs, label = \"laftr\")\n",
    "# line 2 points\n",
    "\n",
    "# plotting the line 2 points \n",
    "plt.plot(sorted_unfair_dps4dp, sorted_unfair_accs_dps4dp, label = \"LAFTR DP\")\n",
    "plt.plot(sorted_unfair_dps4di, sorted_unfair_accs_dps4di, '--', label = \"LAFTR EODD\")\n",
    "plt.plot(sorted_unfair_dps4deopp, sorted_unfair_accs_dps4deopp, '--', label = \"LAFTR EOPP\")\n",
    "\n",
    "plt.xlabel('\\u0394DP')\n",
    "plt.legend()\n",
    "plt.show()'''\n",
    "\n",
    "plt.plot()\n",
    "plt.ylabel('Accuracy')\n",
    "\n",
    "plt.scatter(ret4dp[1], ret4dp[0], label = \"LAFTR DemPar\")\n",
    "\n",
    "plt.scatter(ret4eqodds[1], ret4eqodds[0], label = \"LAFTR EqOdds\")\n",
    "\n",
    "plt.scatter(ret4eqopp[1], ret4eqopp[0], label = \"LAFTR EqOpp\")\n",
    "\n",
    "plt.xlabel('\\u0394DP')\n",
    "plt.legend()\n",
    "plt.show()"
   ]
  },
  {
   "cell_type": "code",
   "execution_count": 29,
   "metadata": {},
   "outputs": [
    {
     "data": {
      "image/png": "[encoded data removed]",
      "text/plain": [
       "<Figure size 432x288 with 1 Axes>"
      ]
     },
     "metadata": {},
     "output_type": "display_data"
    }
   ],
   "source": [
    "'''plt.plot()\n",
    "plt.ylabel('Accuracy')\n",
    "\n",
    "# plotting the line 1 points \n",
    "# plt.plot(laftr_dps, laftr_accs, label = \"laftr\")\n",
    "# line 2 points\n",
    "\n",
    "# plotting the line 2 points \n",
    "plt.plot(sorted_unfair_dis4dp, sorted_unfair_accs_dis4dp, '--', label = \"LAFTR DP\")\n",
    "plt.plot(sorted_unfair_dis4di, sorted_unfair_accs_dis4di, label = \"LAFTR EODD\")\n",
    "plt.plot(sorted_unfair_dis4deopp, sorted_unfair_accs_dis4deopp, '--', label = \"LAFTR EOPP\")\n",
    "\n",
    "plt.xlabel('\\u0394EOdds')\n",
    "plt.legend()\n",
    "plt.show()'''\n",
    "\n",
    "plt.plot()\n",
    "plt.ylabel('Accuracy')\n",
    "\n",
    "plt.scatter(ret4dp[2], ret4dp[0], label = \"LAFTR DemPar\")\n",
    "\n",
    "plt.scatter(ret4eqodds[2], ret4eqodds[0], label = \"LAFTR EqOdds\")\n",
    "\n",
    "plt.scatter(ret4eqopp[2], ret4eqopp[0], label = \"LAFTR EqOpp\")\n",
    "\n",
    "plt.xlabel('\\u0394EqOdds')\n",
    "plt.legend()\n",
    "plt.show()"
   ]
  },
  {
   "cell_type": "code",
   "execution_count": 30,
   "metadata": {},
   "outputs": [
    {
     "data": {
      "image/png": "[encoded data removed]",
      "text/plain": [
       "<Figure size 432x288 with 1 Axes>"
      ]
     },
     "metadata": {},
     "output_type": "display_data"
    }
   ],
   "source": [
    "'''plt.plot()\n",
    "plt.ylabel('Accuracy')\n",
    "\n",
    "# plotting the line 1 points \n",
    "plt.plot(laftr_dps, laftr_accs, label = \"laftr\")\n",
    "# line 2 points#\n",
    "\n",
    "# plotting the line 2 points \n",
    "plt.plot(sorted_unfair_deopps4dp, sorted_unfair_accs_eopps4dp, '--', label = \"LAFTR DP\")\n",
    "plt.plot(sorted_unfair_deopps4di, sorted_unfair_accs_eopps4di, '--', label = \"LAFTR EODD\")\n",
    "plt.plot(sorted_unfair_deopps4deopp, sorted_unfair_accs_eopps4deopp, label = \"LAFTR EOPP\")\n",
    "\n",
    "plt.xlabel('\\u0394EOpp')\n",
    "plt.legend()\n",
    "plt.show()'''\n",
    "\n",
    "plt.plot()\n",
    "plt.ylabel('Accuracy')\n",
    "\n",
    "plt.scatter(ret4dp[3], ret4dp[0], label = \"LAFTR DemPar\")\n",
    "\n",
    "plt.scatter(ret4eqodds[3], ret4eqodds[0], label = \"LAFTR EqOdds\")\n",
    "\n",
    "plt.scatter(ret4eqopp[3], ret4eqopp[0], label = \"LAFTR EqOpp\")\n",
    "\n",
    "plt.xlabel('\\u0394EqOpp')\n",
    "plt.legend()\n",
    "plt.show()"
   ]
  }
 ],
 "metadata": {
  "interpreter": {
   "hash": "34ca74ed6235dfc7dda926bb3adb31e801e3d02679121d5b444ee035e270bd57"
  },
  "kernelspec": {
   "display_name": "Python 3.8.5 64-bit ('falsb': conda)",
   "name": "python3"
  },
  "language_info": {
   "codemirror_mode": {
    "name": "ipython",
    "version": 3
   },
   "file_extension": ".py",
   "mimetype": "text/x-python",
   "name": "python",
   "nbconvert_exporter": "python",
   "pygments_lexer": "ipython3",
   "version": "3.8.5"
  },
  "metadata": {
   "interpreter": {
    "hash": "34ca74ed6235dfc7dda926bb3adb31e801e3d02679121d5b444ee035e270bd57"
   }
  }
 },
 "nbformat": 4,
 "nbformat_minor": 4
}
