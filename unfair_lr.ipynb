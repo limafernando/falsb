{
 "cells": [
  {
   "source": [
    "## Import libs"
   ],
   "cell_type": "markdown",
   "metadata": {}
  },
  {
   "cell_type": "code",
   "execution_count": 1,
   "metadata": {},
   "outputs": [],
   "source": [
    "from math import sqrt, isnan\n",
    "from pathlib import Path\n",
    "\n",
    "import tensorflow as tf\n",
    "from tensorflow.keras.optimizers import Adam, Adagrad\n",
    "from tensorflow.data import Dataset\n",
    "\n",
    "import numpy as np\n",
    "import matplotlib.pyplot as plt\n",
    "import seaborn as sns\n",
    "\n",
    "from util.dataset import Dataset as madras_Dataset\n",
    "from util import read_data as rd\n",
    "from util import metrics\n",
    "\n",
    "from zhang.models import FairLogisticRegression, UnfairLogisticRegression"
   ]
  },
  {
   "source": [
    "## Preliminaries"
   ],
   "cell_type": "markdown",
   "metadata": {}
  },
  {
   "cell_type": "code",
   "execution_count": 2,
   "metadata": {},
   "outputs": [],
   "source": [
    "batch_size = 64\n",
    "epochs = 10\n",
    "lr = 0.001\n",
    "opt = Adam(learning_rate=0.001)#, beta_1=0.95, beta_2=0.01)#learning_rate=learning_rate)#l\n",
    "#opt = Adagrad(learning_rate=learning_rate)"
   ]
  },
  {
   "source": [
    "## Load data"
   ],
   "cell_type": "markdown",
   "metadata": {}
  },
  {
   "cell_type": "code",
   "execution_count": 3,
   "metadata": {
    "tags": []
   },
   "outputs": [],
   "source": [
    "data_name = 'adult'\n",
    "\n",
    "data_info = rd.return_data_info(data_name)\n",
    "npzfile = rd.return_npz(data_name)\n",
    "\n",
    "data = madras_Dataset(npzfile=npzfile, name=data_name, a0_name=data_info['a0_name'], a1_name=data_info['a1_name'], \n",
    "                use_a=data_info['use_a'], seed=data_info['seed'], batch_size=batch_size)\n",
    "\n",
    "data_shapes = list(data.get_shapes())\n",
    "#print(data_shapes)\n",
    "\n",
    "xdim = data_shapes[0][1]\n",
    "ydim = data_shapes[1][1]\n",
    "adim = data_shapes[2][1]\n",
    "zdim = 8"
   ]
  },
  {
   "cell_type": "code",
   "execution_count": 4,
   "metadata": {},
   "outputs": [
    {
     "output_type": "execute_result",
     "data": {
      "text/plain": [
       "<BatchDataset shapes: ((None, 113), (None, 1), (None, 1)), types: (tf.float64, tf.float32, tf.float32)>"
      ]
     },
     "metadata": {},
     "execution_count": 4
    }
   ],
   "source": [
    "train_data = Dataset.from_tensor_slices((data.x_train, data.y_train, data.a_train))\n",
    "train_data = train_data.batch(batch_size)\n",
    "train_data"
   ]
  },
  {
   "cell_type": "code",
   "execution_count": 5,
   "metadata": {},
   "outputs": [
    {
     "output_type": "execute_result",
     "data": {
      "text/plain": [
       "array([[0.],\n",
       "       [1.],\n",
       "       [0.],\n",
       "       [0.],\n",
       "       [0.],\n",
       "       [0.],\n",
       "       [0.],\n",
       "       [0.],\n",
       "       [0.]], dtype=float32)"
      ]
     },
     "metadata": {},
     "execution_count": 5
    }
   ],
   "source": [
    "data.y_train[1:10]"
   ]
  },
  {
   "cell_type": "code",
   "execution_count": 6,
   "metadata": {},
   "outputs": [],
   "source": [
    "valid_data = Dataset.from_tensor_slices((data.x_valid, data.y_valid, data.a_valid))\n",
    "valid_data = valid_data.batch(batch_size)"
   ]
  },
  {
   "cell_type": "code",
   "execution_count": 7,
   "metadata": {},
   "outputs": [
    {
     "output_type": "execute_result",
     "data": {
      "text/plain": [
       "(6016, 1)"
      ]
     },
     "metadata": {},
     "execution_count": 7
    }
   ],
   "source": [
    "data.y_valid.shape"
   ]
  },
  {
   "cell_type": "code",
   "execution_count": 8,
   "metadata": {},
   "outputs": [],
   "source": [
    "test_data = Dataset.from_tensor_slices((data.x_test, data.y_test, data.a_test))\n",
    "test_data = test_data.batch(batch_size)"
   ]
  },
  {
   "source": [
    "## Train loop"
   ],
   "cell_type": "markdown",
   "metadata": {}
  },
  {
   "cell_type": "code",
   "execution_count": 9,
   "metadata": {},
   "outputs": [],
   "source": [
    "def train(model, X, Y, A, optimizer, alpha=1):\n",
    "    clas_vars = [model.clas.W, model.b]\n",
    "    #print(model.clas.W)\n",
    "    with tf.GradientTape() as clas_tape:\n",
    "        \n",
    "        model(X, Y, A) #to compute the foward\n",
    "        \n",
    "        clas_loss = model.clas_loss #current classifier loss\n",
    "\n",
    "    dWLp = clas_tape.gradient(clas_loss, clas_vars) #adv_grads\n",
    "    #print('dULa ', dULa)\n",
    "    optimizer.apply_gradients(zip(dWLp, clas_vars))"
   ]
  },
  {
   "cell_type": "code",
   "execution_count": 34,
   "metadata": {},
   "outputs": [],
   "source": [
    "def train_loop(model, train_dataset, epochs, optmizer):\n",
    "    \n",
    "    print(\"> Epoch | Class Loss | Class Acc\")\n",
    "    \n",
    "    for epoch in range(epochs):\n",
    "        Y_hat = None\n",
    "        batch_count = 1\n",
    "        lr = 0.001/(epoch+1)\n",
    "        opt = Adam(learning_rate=lr)\n",
    "        \n",
    "        for X, Y, A in train_dataset:\n",
    "            \n",
    "            r = train(model, X, Y, A, opt)\n",
    "            if r:\n",
    "                print('parou')\n",
    "                print(model.clas_loss)\n",
    "                break\n",
    "\n",
    "            if batch_count == 1:\n",
    "                Y_hat = model.Y_hat\n",
    "                batch_count += 1\n",
    "            else:\n",
    "                Y_hat = tf.concat([Y_hat, model.Y_hat], 0)\n",
    "\n",
    "        clas_loss = model.clas_loss\n",
    "        clas_acc = metrics.accuracy(data.y_train, tf.math.round(Y_hat))\n",
    "\n",
    "        \n",
    "    \n",
    "        print(\"> {} | {} | {}\".format(\n",
    "            epoch+1, \n",
    "            clas_loss, \n",
    "            clas_acc))\n",
    "        #print(model.clas.W)\n",
    "        #print(Y_hat)"
   ]
  },
  {
   "source": [
    "## Validation"
   ],
   "cell_type": "markdown",
   "metadata": {}
  },
  {
   "cell_type": "code",
   "execution_count": 11,
   "metadata": {},
   "outputs": [],
   "source": [
    "def validation(model, valid_data):\n",
    "    Y_hat = None\n",
    "    batch_count = 1\n",
    "    \n",
    "    for X, Y, A in valid_data:\n",
    "        \n",
    "        model(X, Y, A)\n",
    "        \n",
    "        if batch_count == 1:\n",
    "            Y_hat = model.Y_hat\n",
    "            batch_count += 1\n",
    "        else:\n",
    "            Y_hat = tf.concat([Y_hat, model.Y_hat], 0)\n",
    "    \n",
    "    return Y_hat"
   ]
  },
  {
   "cell_type": "code",
   "execution_count": 38,
   "metadata": {},
   "outputs": [],
   "source": [
    "def compute_metrics(Y, Y_hat, A):\n",
    "    Y_hat = tf.math.round(Y_hat)\n",
    "    \n",
    "    clas_acc = metrics.accuracy(Y, Y_hat)\n",
    "\n",
    "    print(\"> Class Acc\")\n",
    "    print(\"> {}\".format(clas_acc))\n",
    "\n",
    "    dp = metrics.DP(Y_hat.numpy(), A)\n",
    "    di = metrics.DI(Y, Y_hat.numpy(), A)\n",
    "    deopp = metrics.DI_soft(Y, Y_hat.numpy(), A)\n",
    "\n",
    "    print(\"> DP | DI | DEOPP\")\n",
    "    print(\"> {} | {} | {}\".format(dp, di, deopp))\n",
    "\n",
    "    tp = metrics.TP(Y, Y_hat.numpy())\n",
    "    tn = metrics.TN(Y, Y_hat.numpy())\n",
    "    fp = metrics.FP(Y, Y_hat.numpy())\n",
    "    fn = metrics.FN(Y, Y_hat.numpy())\n",
    "\n",
    "    print('> Confusion Matrix \\n' +\n",
    "                'TN: {} | FP: {} \\n'.format(tn, fp) +\n",
    "                'FN: {} | TP: {}'.format(fn, tp))\n",
    "\n",
    "    confusion_matrix = np.array([[tn, fp],\n",
    "                                [fn, tp]])\n",
    "\n",
    "    m = [metrics.TN, metrics.FP, metrics.FN, metrics.TP]\n",
    "    metrics_a0 = [0, 0, 0, 0]\n",
    "    metrics_a1 = [0, 0, 0, 0]\n",
    "    for i in range(len(metrics_a0)):\n",
    "        metrics_a0[i] = metrics.subgroup(m[i], A, Y, Y_hat.numpy())\n",
    "        metrics_a1[i] = metrics.subgroup(m[i], 1 - A, Y, Y_hat.numpy())\n",
    "\n",
    "    print('> Confusion Matrix for A = 0 \\n' +\n",
    "            'TN: {} | FP: {} \\n'.format(metrics_a0[0], metrics_a0[1]) +\n",
    "            'FN: {} | TP: {}'.format(metrics_a0[2], metrics_a0[3]))\n",
    "\n",
    "    print('> Confusion Matrix for A = 1 \\n' +\n",
    "            'TN: {} | FP: {} \\n'.format(metrics_a1[0], metrics_a1[1]) +\n",
    "            'FN: {} | TP: {}'.format(metrics_a1[2], metrics_a1[3]))\n",
    "\n",
    "    confusion_matrix = np.array([[tn, fp],\n",
    "                                [fn, tp]])\n",
    "\n",
    "    return clas_acc, confusion_matrix"
   ]
  },
  {
   "source": [
    "## Testing if models are being trained"
   ],
   "cell_type": "markdown",
   "metadata": {}
  },
  {
   "source": [
    "### For DP"
   ],
   "cell_type": "markdown",
   "metadata": {}
  },
  {
   "cell_type": "code",
   "execution_count": 35,
   "metadata": {
    "tags": []
   },
   "outputs": [
    {
     "output_type": "stream",
     "name": "stdout",
     "text": [
      "> Epoch | Class Loss | Class Acc\n",
      "> 1 | 0.5808563232421875 | 0.7526525198938991\n",
      "> 2 | 0.5149173140525818 | 0.8006051061007957\n",
      "> 3 | 0.45487380027770996 | 0.816520225464191\n",
      "> 4 | 0.4417272210121155 | 0.8286223474801061\n",
      "> 5 | 0.43262624740600586 | 0.8345905172413793\n",
      "> 6 | 0.4257793128490448 | 0.8373259283819628\n",
      "> 7 | 0.420637845993042 | 0.8396468832891246\n",
      "> 8 | 0.4162589907646179 | 0.8409731432360743\n",
      "> 9 | 0.41210657358169556 | 0.8425480769230769\n",
      "> 10 | 0.4092973470687866 | 0.8434184350132626\n",
      "> 11 | 0.40705162286758423 | 0.84375\n",
      "> 12 | 0.40481358766555786 | 0.8440815649867374\n",
      "> 13 | 0.4029082953929901 | 0.8449519230769231\n",
      "> 14 | 0.4012395143508911 | 0.8452005968169761\n",
      "> 15 | 0.39977315068244934 | 0.8457808355437666\n",
      "> 16 | 0.39844000339508057 | 0.8457808355437666\n",
      "> 17 | 0.3972230553627014 | 0.8459880636604775\n",
      "> 18 | 0.3960703909397125 | 0.8459880636604775\n",
      "> 19 | 0.3949980139732361 | 0.8459051724137931\n",
      "> 20 | 0.39399686455726624 | 0.8462367374005305\n",
      "> 21 | 0.3930594325065613 | 0.8464854111405835\n",
      "> 22 | 0.392185240983963 | 0.8468998673740054\n",
      "> 23 | 0.3913685083389282 | 0.8471485411140584\n",
      "> 24 | 0.39060521125793457 | 0.8475215517241379\n",
      "> 25 | 0.3898904323577881 | 0.8476458885941645\n",
      "> 26 | 0.389222115278244 | 0.8478531167108754\n",
      "> 27 | 0.3885992169380188 | 0.848018899204244\n",
      "> 28 | 0.38803011178970337 | 0.8481432360742706\n",
      "> 29 | 0.38749009370803833 | 0.8481846816976127\n",
      "> 30 | 0.3869796395301819 | 0.8483919098143236\n",
      "> 31 | 0.3864939212799072 | 0.8485162466843501\n",
      "> 32 | 0.3860328495502472 | 0.8485991379310345\n",
      "> 33 | 0.385591983795166 | 0.848723474801061\n",
      "> 34 | 0.3851717710494995 | 0.8488892572944298\n",
      "> 35 | 0.38476818799972534 | 0.8488892572944298\n",
      "> 36 | 0.3843817710876465 | 0.8490550397877984\n",
      "> 37 | 0.3840094208717346 | 0.8490550397877984\n",
      "> 38 | 0.3836515545845032 | 0.8490964854111406\n",
      "> 39 | 0.3833054304122925 | 0.8492208222811671\n",
      "> 40 | 0.3829716444015503 | 0.8493866047745358\n",
      "> 41 | 0.38264796137809753 | 0.8497596153846154\n",
      "> 42 | 0.38233476877212524 | 0.8496352785145889\n",
      "> 43 | 0.3820304870605469 | 0.8496352785145889\n",
      "> 44 | 0.38173535466194153 | 0.8497181697612732\n",
      "> 45 | 0.3814483880996704 | 0.8495523872679045\n",
      "> 46 | 0.3811687231063843 | 0.8497181697612732\n",
      "> 47 | 0.38089650869369507 | 0.8498010610079576\n",
      "> 48 | 0.38063114881515503 | 0.849925397877984\n",
      "> 49 | 0.3803708255290985 | 0.8498425066312998\n",
      "> 50 | 0.38011687994003296 | 0.8498425066312998\n",
      "> 51 | 0.37986886501312256 | 0.8500082891246684\n",
      "> 52 | 0.3796265423297882 | 0.8503398541114058\n",
      "> 53 | 0.3793894946575165 | 0.8502984084880636\n",
      "> 54 | 0.3791578412055969 | 0.850381299734748\n",
      "> 55 | 0.3789311349391937 | 0.8505885278514589\n",
      "> 56 | 0.3787093162536621 | 0.8507543103448276\n",
      "> 57 | 0.37849223613739014 | 0.8507957559681698\n",
      "> 58 | 0.3782796263694763 | 0.8505470822281167\n",
      "> 59 | 0.3780714273452759 | 0.8506714190981433\n",
      "> 60 | 0.37786734104156494 | 0.8506299734748011\n",
      "> 61 | 0.37766748666763306 | 0.8506299734748011\n",
      "> 62 | 0.3774715065956116 | 0.8506714190981433\n",
      "> 63 | 0.3772794008255005 | 0.8507128647214854\n",
      "> 64 | 0.37709107995033264 | 0.850837201591512\n",
      "> 65 | 0.3769063949584961 | 0.8508786472148542\n",
      "> 66 | 0.3767252564430237 | 0.8508786472148542\n",
      "> 67 | 0.37654754519462585 | 0.8509200928381963\n",
      "> 68 | 0.3763732314109802 | 0.851085875331565\n",
      "> 69 | 0.3762021064758301 | 0.8511273209549072\n",
      "> 70 | 0.376034140586853 | 0.8511273209549072\n",
      "> 71 | 0.3758693337440491 | 0.8512102122015915\n",
      "> 72 | 0.3757074475288391 | 0.8512931034482758\n",
      "> 73 | 0.3755486011505127 | 0.8512516578249337\n",
      "> 74 | 0.37539252638816833 | 0.8512516578249337\n",
      "> 75 | 0.3752392530441284 | 0.8512102122015915\n",
      "> 76 | 0.37508857250213623 | 0.8512516578249337\n",
      "> 77 | 0.3749406337738037 | 0.8513759946949602\n",
      "> 78 | 0.37479522824287415 | 0.8514588859416445\n",
      "> 79 | 0.3746524155139923 | 0.8515003315649867\n",
      "> 80 | 0.3745120167732239 | 0.8515832228116711\n",
      "> 81 | 0.37437400221824646 | 0.8516246684350133\n",
      "> 82 | 0.3742383122444153 | 0.8516661140583555\n",
      "> 83 | 0.37410491704940796 | 0.8517075596816976\n",
      "> 84 | 0.37397366762161255 | 0.8516661140583555\n",
      "> 85 | 0.37384462356567383 | 0.8516246684350133\n",
      "> 86 | 0.37371763586997986 | 0.8516246684350133\n",
      "> 87 | 0.3735927939414978 | 0.8516661140583555\n",
      "> 88 | 0.37347477674484253 | 0.851790450928382\n",
      "> 89 | 0.37335336208343506 | 0.8518318965517242\n",
      "> 90 | 0.37323397397994995 | 0.8518733421750663\n",
      "> 91 | 0.37311649322509766 | 0.8518733421750663\n",
      "> 92 | 0.3730008602142334 | 0.8517490053050398\n",
      "> 93 | 0.3728870749473572 | 0.8518318965517242\n",
      "> 94 | 0.37277495861053467 | 0.8518318965517242\n",
      "> 95 | 0.3726646304130554 | 0.851790450928382\n",
      "> 96 | 0.3725559413433075 | 0.8518733421750663\n",
      "> 97 | 0.3724488615989685 | 0.8519976790450928\n",
      "> 98 | 0.37234342098236084 | 0.8519562334217506\n",
      "> 99 | 0.37223953008651733 | 0.8518733421750663\n",
      "> 100 | 0.3721371591091156 | 0.851790450928382\n"
     ]
    }
   ],
   "source": [
    "model = UnfairLogisticRegression(xdim, batch_size)\n",
    "ret = train_loop(model, train_data, 100, opt)"
   ]
  },
  {
   "cell_type": "code",
   "execution_count": 39,
   "metadata": {},
   "outputs": [
    {
     "output_type": "stream",
     "name": "stdout",
     "text": [
      "> Class Acc\n> 0.844248670212766\n> DP | DI | DEOPP\n> 0.2039434313774109 | 0.1251106560230255 | 0.07995763421058655\n> Confusion Matrix \nTN: 4179.0 | FP: 314.0 \nFN: 623.0 | TP: 900.0\n> Confusion Matrix for A = 0 \nTN: 1689.0 | FP: 24.0 \nFN: 118.0 | TP: 98.0\n> Confusion Matrix for A = 1 \nTN: 2490.0 | FP: 290.0 \nFN: 505.0 | TP: 802.0\n"
     ]
    }
   ],
   "source": [
    "Y_hat = validation(model, valid_data)\n",
    "ret = compute_metrics(data.y_valid, Y_hat, data.a_valid)"
   ]
  },
  {
   "cell_type": "code",
   "execution_count": 37,
   "metadata": {},
   "outputs": [
    {
     "output_type": "execute_result",
     "data": {
      "text/plain": [
       "<matplotlib.axes._subplots.AxesSubplot at 0x7f693828cbe0>"
      ]
     },
     "metadata": {},
     "execution_count": 37
    },
    {
     "output_type": "display_data",
     "data": {
      "text/plain": "<Figure size 432x288 with 2 Axes>",
      "image/svg+xml": "<?xml version=\"1.0\" encoding=\"utf-8\" standalone=\"no\"?>\n<!DOCTYPE svg PUBLIC \"-//W3C//DTD SVG 1.1//EN\"\n  \"http://www.w3.org/Graphics/SVG/1.1/DTD/svg11.dtd\">\n<!-- Created with matplotlib (https://matplotlib.org/) -->\n<svg height=\"248.518125pt\" version=\"1.1\" viewBox=\"0 0 358.980125 248.518125\" width=\"358.980125pt\" xmlns=\"http://www.w3.org/2000/svg\" xmlns:xlink=\"http://www.w3.org/1999/xlink\">\n <defs>\n  <style type=\"text/css\">\n*{stroke-linecap:butt;stroke-linejoin:round;}\n  </style>\n </defs>\n <g id=\"figure_1\">\n  <g id=\"patch_1\">\n   <path d=\"M -0 248.518125 \nL 358.980125 248.518125 \nL 358.980125 0 \nL -0 0 \nz\n\" style=\"fill:none;\"/>\n  </g>\n  <g id=\"axes_1\">\n   <g id=\"patch_2\">\n    <path d=\"M 23.878125 224.64 \nL 291.718125 224.64 \nL 291.718125 7.2 \nL 23.878125 7.2 \nz\n\" style=\"fill:#ffffff;\"/>\n   </g>\n   <g id=\"QuadMesh_1\">\n    <path clip-path=\"url(#pc25e941270)\" d=\"M 23.878125 7.2 \nL 157.798125 7.2 \nL 157.798125 115.92 \nL 23.878125 115.92 \nL 23.878125 7.2 \n\" style=\"fill:#faebdd;\"/>\n    <path clip-path=\"url(#pc25e941270)\" d=\"M 157.798125 7.2 \nL 291.718125 7.2 \nL 291.718125 115.92 \nL 157.798125 115.92 \nL 157.798125 7.2 \n\" style=\"fill:#03051a;\"/>\n    <path clip-path=\"url(#pc25e941270)\" d=\"M 23.878125 115.92 \nL 157.798125 115.92 \nL 157.798125 224.64 \nL 23.878125 224.64 \nL 23.878125 115.92 \n\" style=\"fill:#1e122d;\"/>\n    <path clip-path=\"url(#pc25e941270)\" d=\"M 157.798125 115.92 \nL 291.718125 115.92 \nL 291.718125 224.64 \nL 157.798125 224.64 \nL 157.798125 115.92 \n\" style=\"fill:#381a40;\"/>\n   </g>\n   <g id=\"matplotlib.axis_1\">\n    <g id=\"xtick_1\">\n     <g id=\"line2d_1\">\n      <defs>\n       <path d=\"M 0 0 \nL 0 3.5 \n\" id=\"mff7a0fd370\" style=\"stroke:#000000;stroke-width:0.8;\"/>\n      </defs>\n      <g>\n       <use style=\"stroke:#000000;stroke-width:0.8;\" x=\"90.838125\" xlink:href=\"#mff7a0fd370\" y=\"224.64\"/>\n      </g>\n     </g>\n     <g id=\"text_1\">\n      <!-- 0 -->\n      <defs>\n       <path d=\"M 31.78125 66.40625 \nQ 24.171875 66.40625 20.328125 58.90625 \nQ 16.5 51.421875 16.5 36.375 \nQ 16.5 21.390625 20.328125 13.890625 \nQ 24.171875 6.390625 31.78125 6.390625 \nQ 39.453125 6.390625 43.28125 13.890625 \nQ 47.125 21.390625 47.125 36.375 \nQ 47.125 51.421875 43.28125 58.90625 \nQ 39.453125 66.40625 31.78125 66.40625 \nz\nM 31.78125 74.21875 \nQ 44.046875 74.21875 50.515625 64.515625 \nQ 56.984375 54.828125 56.984375 36.375 \nQ 56.984375 17.96875 50.515625 8.265625 \nQ 44.046875 -1.421875 31.78125 -1.421875 \nQ 19.53125 -1.421875 13.0625 8.265625 \nQ 6.59375 17.96875 6.59375 36.375 \nQ 6.59375 54.828125 13.0625 64.515625 \nQ 19.53125 74.21875 31.78125 74.21875 \nz\n\" id=\"DejaVuSans-48\"/>\n      </defs>\n      <g transform=\"translate(87.656875 239.238437)scale(0.1 -0.1)\">\n       <use xlink:href=\"#DejaVuSans-48\"/>\n      </g>\n     </g>\n    </g>\n    <g id=\"xtick_2\">\n     <g id=\"line2d_2\">\n      <g>\n       <use style=\"stroke:#000000;stroke-width:0.8;\" x=\"224.758125\" xlink:href=\"#mff7a0fd370\" y=\"224.64\"/>\n      </g>\n     </g>\n     <g id=\"text_2\">\n      <!-- 1 -->\n      <defs>\n       <path d=\"M 12.40625 8.296875 \nL 28.515625 8.296875 \nL 28.515625 63.921875 \nL 10.984375 60.40625 \nL 10.984375 69.390625 \nL 28.421875 72.90625 \nL 38.28125 72.90625 \nL 38.28125 8.296875 \nL 54.390625 8.296875 \nL 54.390625 0 \nL 12.40625 0 \nz\n\" id=\"DejaVuSans-49\"/>\n      </defs>\n      <g transform=\"translate(221.576875 239.238437)scale(0.1 -0.1)\">\n       <use xlink:href=\"#DejaVuSans-49\"/>\n      </g>\n     </g>\n    </g>\n   </g>\n   <g id=\"matplotlib.axis_2\">\n    <g id=\"ytick_1\">\n     <g id=\"line2d_3\">\n      <defs>\n       <path d=\"M 0 0 \nL -3.5 0 \n\" id=\"md3a66607fb\" style=\"stroke:#000000;stroke-width:0.8;\"/>\n      </defs>\n      <g>\n       <use style=\"stroke:#000000;stroke-width:0.8;\" x=\"23.878125\" xlink:href=\"#md3a66607fb\" y=\"61.56\"/>\n      </g>\n     </g>\n     <g id=\"text_3\">\n      <!-- 0 -->\n      <g transform=\"translate(14.798438 64.123281)rotate(-90)scale(0.1 -0.1)\">\n       <use xlink:href=\"#DejaVuSans-48\"/>\n      </g>\n     </g>\n    </g>\n    <g id=\"ytick_2\">\n     <g id=\"line2d_4\">\n      <g>\n       <use style=\"stroke:#000000;stroke-width:0.8;\" x=\"23.878125\" xlink:href=\"#md3a66607fb\" y=\"170.28\"/>\n      </g>\n     </g>\n     <g id=\"text_4\">\n      <!-- 1 -->\n      <g transform=\"translate(14.798438 172.843281)rotate(-90)scale(0.1 -0.1)\">\n       <use xlink:href=\"#DejaVuSans-49\"/>\n      </g>\n     </g>\n    </g>\n   </g>\n   <g id=\"text_5\">\n    <!-- 4179 -->\n    <defs>\n     <path d=\"M 37.796875 64.3125 \nL 12.890625 25.390625 \nL 37.796875 25.390625 \nz\nM 35.203125 72.90625 \nL 47.609375 72.90625 \nL 47.609375 25.390625 \nL 58.015625 25.390625 \nL 58.015625 17.1875 \nL 47.609375 17.1875 \nL 47.609375 0 \nL 37.796875 0 \nL 37.796875 17.1875 \nL 4.890625 17.1875 \nL 4.890625 26.703125 \nz\n\" id=\"DejaVuSans-52\"/>\n     <path d=\"M 8.203125 72.90625 \nL 55.078125 72.90625 \nL 55.078125 68.703125 \nL 28.609375 0 \nL 18.3125 0 \nL 43.21875 64.59375 \nL 8.203125 64.59375 \nz\n\" id=\"DejaVuSans-55\"/>\n     <path d=\"M 10.984375 1.515625 \nL 10.984375 10.5 \nQ 14.703125 8.734375 18.5 7.8125 \nQ 22.3125 6.890625 25.984375 6.890625 \nQ 35.75 6.890625 40.890625 13.453125 \nQ 46.046875 20.015625 46.78125 33.40625 \nQ 43.953125 29.203125 39.59375 26.953125 \nQ 35.25 24.703125 29.984375 24.703125 \nQ 19.046875 24.703125 12.671875 31.3125 \nQ 6.296875 37.9375 6.296875 49.421875 \nQ 6.296875 60.640625 12.9375 67.421875 \nQ 19.578125 74.21875 30.609375 74.21875 \nQ 43.265625 74.21875 49.921875 64.515625 \nQ 56.59375 54.828125 56.59375 36.375 \nQ 56.59375 19.140625 48.40625 8.859375 \nQ 40.234375 -1.421875 26.421875 -1.421875 \nQ 22.703125 -1.421875 18.890625 -0.6875 \nQ 15.09375 0.046875 10.984375 1.515625 \nz\nM 30.609375 32.421875 \nQ 37.25 32.421875 41.125 36.953125 \nQ 45.015625 41.5 45.015625 49.421875 \nQ 45.015625 57.28125 41.125 61.84375 \nQ 37.25 66.40625 30.609375 66.40625 \nQ 23.96875 66.40625 20.09375 61.84375 \nQ 16.21875 57.28125 16.21875 49.421875 \nQ 16.21875 41.5 20.09375 36.953125 \nQ 23.96875 32.421875 30.609375 32.421875 \nz\n\" id=\"DejaVuSans-57\"/>\n    </defs>\n    <g style=\"fill:#262626;\" transform=\"translate(78.113125 64.319375)scale(0.1 -0.1)\">\n     <use xlink:href=\"#DejaVuSans-52\"/>\n     <use x=\"63.623047\" xlink:href=\"#DejaVuSans-49\"/>\n     <use x=\"127.246094\" xlink:href=\"#DejaVuSans-55\"/>\n     <use x=\"190.869141\" xlink:href=\"#DejaVuSans-57\"/>\n    </g>\n   </g>\n   <g id=\"text_6\">\n    <!-- 314 -->\n    <defs>\n     <path d=\"M 40.578125 39.3125 \nQ 47.65625 37.796875 51.625 33 \nQ 55.609375 28.21875 55.609375 21.1875 \nQ 55.609375 10.40625 48.1875 4.484375 \nQ 40.765625 -1.421875 27.09375 -1.421875 \nQ 22.515625 -1.421875 17.65625 -0.515625 \nQ 12.796875 0.390625 7.625 2.203125 \nL 7.625 11.71875 \nQ 11.71875 9.328125 16.59375 8.109375 \nQ 21.484375 6.890625 26.8125 6.890625 \nQ 36.078125 6.890625 40.9375 10.546875 \nQ 45.796875 14.203125 45.796875 21.1875 \nQ 45.796875 27.640625 41.28125 31.265625 \nQ 36.765625 34.90625 28.71875 34.90625 \nL 20.21875 34.90625 \nL 20.21875 43.015625 \nL 29.109375 43.015625 \nQ 36.375 43.015625 40.234375 45.921875 \nQ 44.09375 48.828125 44.09375 54.296875 \nQ 44.09375 59.90625 40.109375 62.90625 \nQ 36.140625 65.921875 28.71875 65.921875 \nQ 24.65625 65.921875 20.015625 65.03125 \nQ 15.375 64.15625 9.8125 62.3125 \nL 9.8125 71.09375 \nQ 15.4375 72.65625 20.34375 73.4375 \nQ 25.25 74.21875 29.59375 74.21875 \nQ 40.828125 74.21875 47.359375 69.109375 \nQ 53.90625 64.015625 53.90625 55.328125 \nQ 53.90625 49.265625 50.4375 45.09375 \nQ 46.96875 40.921875 40.578125 39.3125 \nz\n\" id=\"DejaVuSans-51\"/>\n    </defs>\n    <g style=\"fill:#ffffff;\" transform=\"translate(215.214375 64.319375)scale(0.1 -0.1)\">\n     <use xlink:href=\"#DejaVuSans-51\"/>\n     <use x=\"63.623047\" xlink:href=\"#DejaVuSans-49\"/>\n     <use x=\"127.246094\" xlink:href=\"#DejaVuSans-52\"/>\n    </g>\n   </g>\n   <g id=\"text_7\">\n    <!-- 623 -->\n    <defs>\n     <path d=\"M 33.015625 40.375 \nQ 26.375 40.375 22.484375 35.828125 \nQ 18.609375 31.296875 18.609375 23.390625 \nQ 18.609375 15.53125 22.484375 10.953125 \nQ 26.375 6.390625 33.015625 6.390625 \nQ 39.65625 6.390625 43.53125 10.953125 \nQ 47.40625 15.53125 47.40625 23.390625 \nQ 47.40625 31.296875 43.53125 35.828125 \nQ 39.65625 40.375 33.015625 40.375 \nz\nM 52.59375 71.296875 \nL 52.59375 62.3125 \nQ 48.875 64.0625 45.09375 64.984375 \nQ 41.3125 65.921875 37.59375 65.921875 \nQ 27.828125 65.921875 22.671875 59.328125 \nQ 17.53125 52.734375 16.796875 39.40625 \nQ 19.671875 43.65625 24.015625 45.921875 \nQ 28.375 48.1875 33.59375 48.1875 \nQ 44.578125 48.1875 50.953125 41.515625 \nQ 57.328125 34.859375 57.328125 23.390625 \nQ 57.328125 12.15625 50.6875 5.359375 \nQ 44.046875 -1.421875 33.015625 -1.421875 \nQ 20.359375 -1.421875 13.671875 8.265625 \nQ 6.984375 17.96875 6.984375 36.375 \nQ 6.984375 53.65625 15.1875 63.9375 \nQ 23.390625 74.21875 37.203125 74.21875 \nQ 40.921875 74.21875 44.703125 73.484375 \nQ 48.484375 72.75 52.59375 71.296875 \nz\n\" id=\"DejaVuSans-54\"/>\n     <path d=\"M 19.1875 8.296875 \nL 53.609375 8.296875 \nL 53.609375 0 \nL 7.328125 0 \nL 7.328125 8.296875 \nQ 12.9375 14.109375 22.625 23.890625 \nQ 32.328125 33.6875 34.8125 36.53125 \nQ 39.546875 41.84375 41.421875 45.53125 \nQ 43.3125 49.21875 43.3125 52.78125 \nQ 43.3125 58.59375 39.234375 62.25 \nQ 35.15625 65.921875 28.609375 65.921875 \nQ 23.96875 65.921875 18.8125 64.3125 \nQ 13.671875 62.703125 7.8125 59.421875 \nL 7.8125 69.390625 \nQ 13.765625 71.78125 18.9375 73 \nQ 24.125 74.21875 28.421875 74.21875 \nQ 39.75 74.21875 46.484375 68.546875 \nQ 53.21875 62.890625 53.21875 53.421875 \nQ 53.21875 48.921875 51.53125 44.890625 \nQ 49.859375 40.875 45.40625 35.40625 \nQ 44.1875 33.984375 37.640625 27.21875 \nQ 31.109375 20.453125 19.1875 8.296875 \nz\n\" id=\"DejaVuSans-50\"/>\n    </defs>\n    <g style=\"fill:#ffffff;\" transform=\"translate(81.294375 173.039375)scale(0.1 -0.1)\">\n     <use xlink:href=\"#DejaVuSans-54\"/>\n     <use x=\"63.623047\" xlink:href=\"#DejaVuSans-50\"/>\n     <use x=\"127.246094\" xlink:href=\"#DejaVuSans-51\"/>\n    </g>\n   </g>\n   <g id=\"text_8\">\n    <!-- 900 -->\n    <g style=\"fill:#ffffff;\" transform=\"translate(215.214375 173.039375)scale(0.1 -0.1)\">\n     <use xlink:href=\"#DejaVuSans-57\"/>\n     <use x=\"63.623047\" xlink:href=\"#DejaVuSans-48\"/>\n     <use x=\"127.246094\" xlink:href=\"#DejaVuSans-48\"/>\n    </g>\n   </g>\n  </g>\n  <g id=\"axes_2\">\n   <g id=\"patch_3\">\n    <path clip-path=\"url(#pb191594583)\" d=\"M 308.458125 224.64 \nL 308.458125 223.790625 \nL 308.458125 8.049375 \nL 308.458125 7.2 \nL 319.330125 7.2 \nL 319.330125 8.049375 \nL 319.330125 223.790625 \nL 319.330125 224.64 \nz\n\" style=\"fill:#ffffff;stroke:#ffffff;stroke-linejoin:miter;stroke-width:0.01;\"/>\n   </g>\n   <image height=\"217\" id=\"imageeee7425050\" transform=\"scale(1 -1)translate(0 -217)\" width=\"11\" x=\"308\" xlink:href=\"data:image/png;base64,\niVBORw0KGgoAAAANSUhEUgAAAAsAAADZCAYAAAD2WsoCAAAABHNCSVQICAgIfAhkiAAAAV9JREFUaIHVmtsNAzEIwHjdEt1/zl5XwB+WaL4RMoakuag5z+eN5ZrM3MbS4ADBXSVlLq3AIhgoM7LhYRzx3OnZODF1qECxKTcym+3WbGgYE2g29sucDa3dEGO/zJOfBI82SMyG125vW61D6fB76qANgCGq05iRjSPMCIPtbpKZFbj+PPhbGySY2PAw5gYGazdhHoRxxIaGMe8+tbgH6wYGspFhMcMCAUYzZhIMRIvqEpwF0yS4SDDCgJnXsTFdXymzWCA47BhzNbABmQEGUifaGG02ELOmrsBVhmGENxteMLj3kMceqo5lBjdzlhncCyYIhsfMMMDPJsxMnixQZhhM3us0G0GeDT0bSWxEt4SBmuJ5ztEKFNtNMqM9CD55VRukgx4GssHOOtRBSx3c3RqGVyDK3Gj4bzCzdqN51jZs3pg60QYp8MbwZz9SZnP4iWfSbvQviysFsnZrZ51V4A9keCojHT7iJgAAAABJRU5ErkJggg==\" y=\"-7\"/>\n   <g id=\"matplotlib.axis_3\"/>\n   <g id=\"matplotlib.axis_4\">\n    <g id=\"ytick_3\">\n     <g id=\"line2d_5\">\n      <defs>\n       <path d=\"M 0 0 \nL 3.5 0 \n\" id=\"mc5b31dc1ed\" style=\"stroke:#000000;stroke-width:0.8;\"/>\n      </defs>\n      <g>\n       <use style=\"stroke:#000000;stroke-width:0.8;\" x=\"319.330125\" xlink:href=\"#mc5b31dc1ed\" y=\"214.175876\"/>\n      </g>\n     </g>\n     <g id=\"text_9\">\n      <!-- 500 -->\n      <defs>\n       <path d=\"M 10.796875 72.90625 \nL 49.515625 72.90625 \nL 49.515625 64.59375 \nL 19.828125 64.59375 \nL 19.828125 46.734375 \nQ 21.96875 47.46875 24.109375 47.828125 \nQ 26.265625 48.1875 28.421875 48.1875 \nQ 40.625 48.1875 47.75 41.5 \nQ 54.890625 34.8125 54.890625 23.390625 \nQ 54.890625 11.625 47.5625 5.09375 \nQ 40.234375 -1.421875 26.90625 -1.421875 \nQ 22.3125 -1.421875 17.546875 -0.640625 \nQ 12.796875 0.140625 7.71875 1.703125 \nL 7.71875 11.625 \nQ 12.109375 9.234375 16.796875 8.0625 \nQ 21.484375 6.890625 26.703125 6.890625 \nQ 35.15625 6.890625 40.078125 11.328125 \nQ 45.015625 15.765625 45.015625 23.390625 \nQ 45.015625 31 40.078125 35.4375 \nQ 35.15625 39.890625 26.703125 39.890625 \nQ 22.75 39.890625 18.8125 39.015625 \nQ 14.890625 38.140625 10.796875 36.28125 \nz\n\" id=\"DejaVuSans-53\"/>\n      </defs>\n      <g transform=\"translate(326.330125 217.975095)scale(0.1 -0.1)\">\n       <use xlink:href=\"#DejaVuSans-53\"/>\n       <use x=\"63.623047\" xlink:href=\"#DejaVuSans-48\"/>\n       <use x=\"127.246094\" xlink:href=\"#DejaVuSans-48\"/>\n      </g>\n     </g>\n    </g>\n    <g id=\"ytick_4\">\n     <g id=\"line2d_6\">\n      <g>\n       <use style=\"stroke:#000000;stroke-width:0.8;\" x=\"319.330125\" xlink:href=\"#mc5b31dc1ed\" y=\"186.04651\"/>\n      </g>\n     </g>\n     <g id=\"text_10\">\n      <!-- 1000 -->\n      <g transform=\"translate(326.330125 189.845728)scale(0.1 -0.1)\">\n       <use xlink:href=\"#DejaVuSans-49\"/>\n       <use x=\"63.623047\" xlink:href=\"#DejaVuSans-48\"/>\n       <use x=\"127.246094\" xlink:href=\"#DejaVuSans-48\"/>\n       <use x=\"190.869141\" xlink:href=\"#DejaVuSans-48\"/>\n      </g>\n     </g>\n    </g>\n    <g id=\"ytick_5\">\n     <g id=\"line2d_7\">\n      <g>\n       <use style=\"stroke:#000000;stroke-width:0.8;\" x=\"319.330125\" xlink:href=\"#mc5b31dc1ed\" y=\"157.917144\"/>\n      </g>\n     </g>\n     <g id=\"text_11\">\n      <!-- 1500 -->\n      <g transform=\"translate(326.330125 161.716362)scale(0.1 -0.1)\">\n       <use xlink:href=\"#DejaVuSans-49\"/>\n       <use x=\"63.623047\" xlink:href=\"#DejaVuSans-53\"/>\n       <use x=\"127.246094\" xlink:href=\"#DejaVuSans-48\"/>\n       <use x=\"190.869141\" xlink:href=\"#DejaVuSans-48\"/>\n      </g>\n     </g>\n    </g>\n    <g id=\"ytick_6\">\n     <g id=\"line2d_8\">\n      <g>\n       <use style=\"stroke:#000000;stroke-width:0.8;\" x=\"319.330125\" xlink:href=\"#mc5b31dc1ed\" y=\"129.787777\"/>\n      </g>\n     </g>\n     <g id=\"text_12\">\n      <!-- 2000 -->\n      <g transform=\"translate(326.330125 133.586996)scale(0.1 -0.1)\">\n       <use xlink:href=\"#DejaVuSans-50\"/>\n       <use x=\"63.623047\" xlink:href=\"#DejaVuSans-48\"/>\n       <use x=\"127.246094\" xlink:href=\"#DejaVuSans-48\"/>\n       <use x=\"190.869141\" xlink:href=\"#DejaVuSans-48\"/>\n      </g>\n     </g>\n    </g>\n    <g id=\"ytick_7\">\n     <g id=\"line2d_9\">\n      <g>\n       <use style=\"stroke:#000000;stroke-width:0.8;\" x=\"319.330125\" xlink:href=\"#mc5b31dc1ed\" y=\"101.658411\"/>\n      </g>\n     </g>\n     <g id=\"text_13\">\n      <!-- 2500 -->\n      <g transform=\"translate(326.330125 105.45763)scale(0.1 -0.1)\">\n       <use xlink:href=\"#DejaVuSans-50\"/>\n       <use x=\"63.623047\" xlink:href=\"#DejaVuSans-53\"/>\n       <use x=\"127.246094\" xlink:href=\"#DejaVuSans-48\"/>\n       <use x=\"190.869141\" xlink:href=\"#DejaVuSans-48\"/>\n      </g>\n     </g>\n    </g>\n    <g id=\"ytick_8\">\n     <g id=\"line2d_10\">\n      <g>\n       <use style=\"stroke:#000000;stroke-width:0.8;\" x=\"319.330125\" xlink:href=\"#mc5b31dc1ed\" y=\"73.529045\"/>\n      </g>\n     </g>\n     <g id=\"text_14\">\n      <!-- 3000 -->\n      <g transform=\"translate(326.330125 77.328264)scale(0.1 -0.1)\">\n       <use xlink:href=\"#DejaVuSans-51\"/>\n       <use x=\"63.623047\" xlink:href=\"#DejaVuSans-48\"/>\n       <use x=\"127.246094\" xlink:href=\"#DejaVuSans-48\"/>\n       <use x=\"190.869141\" xlink:href=\"#DejaVuSans-48\"/>\n      </g>\n     </g>\n    </g>\n    <g id=\"ytick_9\">\n     <g id=\"line2d_11\">\n      <g>\n       <use style=\"stroke:#000000;stroke-width:0.8;\" x=\"319.330125\" xlink:href=\"#mc5b31dc1ed\" y=\"45.399679\"/>\n      </g>\n     </g>\n     <g id=\"text_15\">\n      <!-- 3500 -->\n      <g transform=\"translate(326.330125 49.198898)scale(0.1 -0.1)\">\n       <use xlink:href=\"#DejaVuSans-51\"/>\n       <use x=\"63.623047\" xlink:href=\"#DejaVuSans-53\"/>\n       <use x=\"127.246094\" xlink:href=\"#DejaVuSans-48\"/>\n       <use x=\"190.869141\" xlink:href=\"#DejaVuSans-48\"/>\n      </g>\n     </g>\n    </g>\n    <g id=\"ytick_10\">\n     <g id=\"line2d_12\">\n      <g>\n       <use style=\"stroke:#000000;stroke-width:0.8;\" x=\"319.330125\" xlink:href=\"#mc5b31dc1ed\" y=\"17.270313\"/>\n      </g>\n     </g>\n     <g id=\"text_16\">\n      <!-- 4000 -->\n      <g transform=\"translate(326.330125 21.069532)scale(0.1 -0.1)\">\n       <use xlink:href=\"#DejaVuSans-52\"/>\n       <use x=\"63.623047\" xlink:href=\"#DejaVuSans-48\"/>\n       <use x=\"127.246094\" xlink:href=\"#DejaVuSans-48\"/>\n       <use x=\"190.869141\" xlink:href=\"#DejaVuSans-48\"/>\n      </g>\n     </g>\n    </g>\n   </g>\n   <g id=\"patch_4\">\n    <path d=\"M 308.458125 224.64 \nL 308.458125 223.790625 \nL 308.458125 8.049375 \nL 308.458125 7.2 \nL 319.330125 7.2 \nL 319.330125 8.049375 \nL 319.330125 223.790625 \nL 319.330125 224.64 \nz\n\" style=\"fill:none;\"/>\n   </g>\n  </g>\n </g>\n <defs>\n  <clipPath id=\"pc25e941270\">\n   <rect height=\"217.44\" width=\"267.84\" x=\"23.878125\" y=\"7.2\"/>\n  </clipPath>\n  <clipPath id=\"pb191594583\">\n   <rect height=\"217.44\" width=\"10.872\" x=\"308.458125\" y=\"7.2\"/>\n  </clipPath>\n </defs>\n</svg>\n",
      "image/png": "[encoded data removed]"
     },
     "metadata": {
      "needs_background": "light"
     }
    }
   ],
   "source": [
    "sns.heatmap(ret[1], annot=True, fmt='g')"
   ]
  }
 ],
 "metadata": {
  "kernelspec": {
   "name": "python385jvsc74a57bd034ca74ed6235dfc7dda926bb3adb31e801e3d02679121d5b444ee035e270bd57",
   "display_name": "Python 3.8.5 64-bit ('falsb': conda)"
  },
  "language_info": {
   "codemirror_mode": {
    "name": "ipython",
    "version": 3
   },
   "file_extension": ".py",
   "mimetype": "text/x-python",
   "name": "python",
   "nbconvert_exporter": "python",
   "pygments_lexer": "ipython3",
   "version": "3.8.5"
  },
  "metadata": {
   "interpreter": {
    "hash": "34ca74ed6235dfc7dda926bb3adb31e801e3d02679121d5b444ee035e270bd57"
   }
  }
 },
 "nbformat": 4,
 "nbformat_minor": 4
}