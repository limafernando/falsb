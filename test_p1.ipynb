{
 "metadata": {
  "language_info": {
   "codemirror_mode": {
    "name": "ipython",
    "version": 3
   },
   "file_extension": ".py",
   "mimetype": "text/x-python",
   "name": "python",
   "nbconvert_exporter": "python",
   "pygments_lexer": "ipython3",
   "version": "3.8.5"
  },
  "orig_nbformat": 4,
  "kernelspec": {
   "name": "python3",
   "display_name": "Python 3.8.5 64-bit ('falsb': conda)"
  },
  "interpreter": {
   "hash": "34ca74ed6235dfc7dda926bb3adb31e801e3d02679121d5b444ee035e270bd57"
  }
 },
 "nbformat": 4,
 "nbformat_minor": 2,
 "cells": [
  {
   "source": [
    "# Testing file \n",
    "### where we evaluate LAFTR and Zhang's models using the test set"
   ],
   "cell_type": "markdown",
   "metadata": {}
  },
  {
   "source": [
    "## Preliminaries"
   ],
   "cell_type": "markdown",
   "metadata": {}
  },
  {
   "cell_type": "code",
   "execution_count": 1,
   "metadata": {},
   "outputs": [],
   "source": [
    "from math import sqrt, isnan\n",
    "from pathlib import Path\n",
    "\n",
    "import tensorflow as tf\n",
    "from tensorflow.keras.optimizers import Adam, Adagrad\n",
    "from tensorflow.data import Dataset\n",
    "\n",
    "import numpy as np\n",
    "import pandas as pd\n",
    "import matplotlib.pyplot as plt\n",
    "import seaborn as sns\n",
    "import csv\n",
    "\n",
    "from util import metrics\n",
    "from util.load_data import load_data\n",
    "from util.evaluation import *\n",
    "\n",
    "from zhang.models import FairLogisticRegression\n",
    "from zhang.learning import train_loop as zhang_train\n",
    "\n",
    "from madras_laftr.models import *\n",
    "from madras_laftr.learning import train_loop as laftr_train"
   ]
  },
  {
   "cell_type": "code",
   "execution_count": 2,
   "metadata": {},
   "outputs": [],
   "source": [
    "batch_size = 64\n",
    "epochs = 1\n",
    "learning_rate = 0.001\n",
    "opt = Adam(learning_rate=learning_rate)"
   ]
  },
  {
   "cell_type": "code",
   "execution_count": 3,
   "metadata": {},
   "outputs": [],
   "source": [
    "CLAS_COEFF = 1.\n",
    "FAIR_COEFF = 1.\n",
    "RECON_COEFF = 0.\n",
    "hidden_layer_specs = {'clas':[8] , 'enc':[8] , 'dec':[8] , 'adv':[8]}"
   ]
  },
  {
   "cell_type": "code",
   "execution_count": 4,
   "metadata": {},
   "outputs": [],
   "source": [
    "test_loop = 1"
   ]
  },
  {
   "source": [
    "## Load data"
   ],
   "cell_type": "markdown",
   "metadata": {}
  },
  {
   "cell_type": "code",
   "execution_count": 5,
   "metadata": {},
   "outputs": [],
   "source": [
    "x_train, y_train, a_train = load_data('adult', 'train')\n",
    "raw_data = (x_train, y_train, a_train)"
   ]
  },
  {
   "cell_type": "code",
   "execution_count": 6,
   "metadata": {},
   "outputs": [],
   "source": [
    "xdim = x_train.shape[1]\n",
    "ydim = y_train.shape[1]\n",
    "adim = a_train.shape[1]\n",
    "zdim = 8"
   ]
  },
  {
   "cell_type": "code",
   "execution_count": 7,
   "metadata": {},
   "outputs": [
    {
     "output_type": "execute_result",
     "data": {
      "text/plain": [
       "<BatchDataset shapes: ((64, 113), (64, 1), (64, 1)), types: (tf.float64, tf.float64, tf.float64)>"
      ]
     },
     "metadata": {},
     "execution_count": 7
    }
   ],
   "source": [
    "train_data = Dataset.from_tensor_slices((x_train, y_train, a_train))\n",
    "train_data = train_data.batch(batch_size, drop_remainder=True)\n",
    "train_data"
   ]
  },
  {
   "cell_type": "code",
   "execution_count": 8,
   "metadata": {},
   "outputs": [],
   "source": [
    "x_valid, y_valid, a_valid = load_data('adult', 'valid')\n",
    "\n",
    "valid_data = Dataset.from_tensor_slices((x_valid, y_valid, a_valid))\n",
    "valid_data = valid_data.batch(batch_size, drop_remainder=True)"
   ]
  },
  {
   "cell_type": "code",
   "execution_count": 9,
   "metadata": {},
   "outputs": [],
   "source": [
    "x_test, y_test, a_test = load_data('adult', 'test')\n",
    "\n",
    "test_data = Dataset.from_tensor_slices((x_test, y_test, a_test))\n",
    "test_data = test_data.batch(batch_size, drop_remainder=True)"
   ]
  },
  {
   "source": [
    "## Result file"
   ],
   "cell_type": "markdown",
   "metadata": {}
  },
  {
   "cell_type": "code",
   "execution_count": 10,
   "metadata": {},
   "outputs": [],
   "source": [
    "header = \"model_name\", \"clas_acc\", \"dp\", \"deqodds\", \"deqopp\", \"trade_dp\", \"trade_deqodds\", \"trade_deqopp\"\n",
    "results = []"
   ]
  },
  {
   "source": [
    "## Testing loop\n",
    "#### Each model is evalueted 5 times\n",
    "#### In the end of each iteration we save the result"
   ],
   "cell_type": "markdown",
   "metadata": {}
  },
  {
   "source": [
    "### LAFTR for DP"
   ],
   "cell_type": "markdown",
   "metadata": {}
  },
  {
   "cell_type": "code",
   "execution_count": 11,
   "metadata": {},
   "outputs": [
    {
     "output_type": "stream",
     "name": "stdout",
     "text": [
      "> Epoch | Model Loss | Class Loss | Adv Loss | Dec Loss | Class Acc | Adv Acc | Dec Acc\n",
      "> 1 | 0.13617490231990814 | 1.0443549156188965 | 0.6358301639556885 | 58318.01171875 | 0.7176724137931034 | 0.4946949602122016 | 7.46626326259947\n",
      "> Class Acc | Adv Acc\n",
      "> 0.7406914893617021 | 0.6717087765957447\n",
      "> DP | DEqOdds | DEqOpp\n",
      "> 0.9431509114801884 | 0.9386943206191063 | 0.9634782448410988\n",
      "> Confusion Matrix \n",
      "TN: 4355.0 | FP: 163.0 \n",
      "FN: 1397.0 | TP: 101.0\n",
      "> Confusion Matrix for A = 0 \n",
      "TN: 1659.0 | FP: 8.0 \n",
      "FN: 211.0 | TP: 1.0\n",
      "> Confusion Matrix for A = 1 \n",
      "TN: 2696.0 | FP: 155.0 \n",
      "FN: 1186.0 | TP: 100.0\n"
     ]
    }
   ],
   "source": [
    "for i in range(test_loop):\n",
    "    model = DemParGan(xdim, ydim, adim, zdim, hidden_layer_specs, recon_coeff=RECON_COEFF, clas_coeff=CLAS_COEFF, fair_coeff=FAIR_COEFF)\n",
    "    ret = laftr_train(model, raw_data, train_data, epochs, opt)\n",
    "\n",
    "    Y_hat, A_hat = evaluation(model, valid_data)\n",
    "    clas_acc, dp, deqodds, deqopp, confusion_matrix = compute_metrics(y_valid, Y_hat, a_valid, A_hat)\n",
    "\n",
    "    fair_metrics = (dp, deqodds, deqopp)\n",
    "    tradeoff = []\n",
    "    for fair_metric in fair_metrics:\n",
    "        tradeoff.append(compute_tradeoff(clas_acc, fair_metric))\n",
    "    \n",
    "    results.append(['LAFTR4DP', clas_acc, dp, deqodds, deqopp, tradeoff[0], tradeoff[1], tradeoff[2]])"
   ]
  },
  {
   "source": [
    "### LAFTR for Eq Odds"
   ],
   "cell_type": "markdown",
   "metadata": {}
  },
  {
   "cell_type": "code",
   "execution_count": 12,
   "metadata": {},
   "outputs": [
    {
     "output_type": "stream",
     "name": "stdout",
     "text": [
      "> Epoch | Model Loss | Class Loss | Adv Loss | Dec Loss | Class Acc | Adv Acc | Dec Acc\n",
      "> 1 | -0.049510080367326736 | 1.1509439945220947 | 1.2994742393493652 | 57436.18359375 | 0.7634698275862069 | 0.637309350132626 | 261.84379144562337\n",
      "> Class Acc | Adv Acc\n",
      "> 0.7844082446808511 | 0.7599734042553191\n",
      "> DP | DEqOdds | DEqOpp\n",
      "> 0.7798723876476288 | 0.8177158534526825 | 0.8795555830001831\n",
      "> Confusion Matrix \n",
      "TN: 3851.0 | FP: 667.0 \n",
      "FN: 630.0 | TP: 868.0\n",
      "> Confusion Matrix for A = 0 \n",
      "TN: 1551.0 | FP: 116.0 \n",
      "FN: 133.0 | TP: 79.0\n",
      "> Confusion Matrix for A = 1 \n",
      "TN: 2300.0 | FP: 551.0 \n",
      "FN: 497.0 | TP: 789.0\n"
     ]
    }
   ],
   "source": [
    "for i in range(test_loop):\n",
    "    model = EqOddsUnweightedGan(xdim, ydim, adim, zdim, hidden_layer_specs, recon_coeff=RECON_COEFF, clas_coeff=CLAS_COEFF, fair_coeff=FAIR_COEFF)\n",
    "    ret = laftr_train(model, raw_data, train_data, epochs, opt)\n",
    "\n",
    "    Y_hat, A_hat = evaluation(model, valid_data)\n",
    "    clas_acc, dp, deqodds, deqopp, confusion_matrix = compute_metrics(y_valid, Y_hat, a_valid, A_hat)\n",
    "\n",
    "    fair_metrics = (dp, deqodds, deqopp)\n",
    "    tradeoff = []\n",
    "    for fair_metric in fair_metrics:\n",
    "        tradeoff.append(compute_tradeoff(clas_acc, fair_metric))\n",
    "\n",
    "    results.append(['LAFTR4EqOdds', clas_acc, dp, deqodds, deqopp, tradeoff[0], tradeoff[1], tradeoff[2]])"
   ]
  },
  {
   "source": [
    "### LAFTR for Eq Opp"
   ],
   "cell_type": "markdown",
   "metadata": {}
  },
  {
   "cell_type": "code",
   "execution_count": 13,
   "metadata": {},
   "outputs": [
    {
     "output_type": "stream",
     "name": "stdout",
     "text": [
      "> Epoch | Model Loss | Class Loss | Adv Loss | Dec Loss | Class Acc | Adv Acc | Dec Acc\n",
      "> 1 | 0.2636153995990753 | 1.3502320051193237 | 0.5593857765197754 | 64874.7109375 | 0.7742042440318302 | 0.8128730106100795 | 45.182567970822284\n",
      "> Class Acc | Adv Acc\n",
      "> 0.8098404255319149 | 0.9271941489361702\n",
      "> DP | DEqOdds | DEqOpp\n",
      "> 0.8614690154790878 | 0.966437853872776 | 0.9896784126758575\n",
      "> Confusion Matrix \n",
      "TN: 3941.0 | FP: 577.0 \n",
      "FN: 567.0 | TP: 931.0\n",
      "> Confusion Matrix for A = 0 \n",
      "TN: 1503.0 | FP: 164.0 \n",
      "FN: 84.0 | TP: 128.0\n",
      "> Confusion Matrix for A = 1 \n",
      "TN: 2438.0 | FP: 413.0 \n",
      "FN: 483.0 | TP: 803.0\n"
     ]
    }
   ],
   "source": [
    "for i in range(test_loop):\n",
    "    model = EqOddsUnweightedGan(xdim, ydim, adim, zdim, hidden_layer_specs, recon_coeff=RECON_COEFF, clas_coeff=CLAS_COEFF, fair_coeff=FAIR_COEFF)\n",
    "    ret = laftr_train(model, raw_data, train_data, epochs, opt)\n",
    "\n",
    "    Y_hat, A_hat = evaluation(model, valid_data)\n",
    "    clas_acc, dp, deqodds, deqopp, confusion_matrix = compute_metrics(y_valid, Y_hat, a_valid, A_hat)\n",
    "\n",
    "    fair_metrics = (dp, deqodds, deqopp)\n",
    "    tradeoff = []\n",
    "    for fair_metric in fair_metrics:\n",
    "        tradeoff.append(compute_tradeoff(clas_acc, fair_metric))\n",
    "\n",
    "    results.append(['LAFTR4EqOpp', clas_acc, dp, deqodds, deqopp, tradeoff[0], tradeoff[1], tradeoff[2]])"
   ]
  },
  {
   "source": [
    "### Zhang for DP"
   ],
   "cell_type": "markdown",
   "metadata": {}
  },
  {
   "cell_type": "code",
   "execution_count": 14,
   "metadata": {},
   "outputs": [
    {
     "output_type": "stream",
     "name": "stdout",
     "text": [
      "> Epoch | Class Loss | Adv Loss | Class Acc | Adv Acc\n",
      "> 1 | 0.4763365685939789 | 0.5228971242904663 | 0.7144811007957559 | 0.6152602785145889\n",
      "> Class Acc | Adv Acc\n",
      "> 0.7347074468085106 | 0.7292220744680851\n",
      "> DP | DEqOdds | DEqOpp\n",
      "> 0.4515211582183838 | 0.4934789538383484 | 0.7179714739322662\n",
      "> Confusion Matrix \n",
      "TN: 3200.0 | FP: 1318.0 \n",
      "FN: 278.0 | TP: 1220.0\n",
      "> Confusion Matrix for A = 0 \n",
      "TN: 1653.0 | FP: 14.0 \n",
      "FN: 142.0 | TP: 70.0\n",
      "> Confusion Matrix for A = 1 \n",
      "TN: 1547.0 | FP: 1304.0 \n",
      "FN: 136.0 | TP: 1150.0\n"
     ]
    }
   ],
   "source": [
    "fairdef = 'DemPar'\n",
    "\n",
    "for i in range(test_loop):\n",
    "    model = FairLogisticRegression(xdim, batch_size, fairdef)\n",
    "    zhang_train(model, raw_data, train_data, epochs)\n",
    "\n",
    "    Y_hat, A_hat = evaluation(model, valid_data)\n",
    "    clas_acc, dp, deqodds, deqopp, confusion_matrix = compute_metrics(y_valid, Y_hat, a_valid, A_hat)\n",
    "\n",
    "    fair_metrics = (dp, deqodds, deqopp)\n",
    "    tradeoff = []\n",
    "    for fair_metric in fair_metrics:\n",
    "        tradeoff.append(compute_tradeoff(clas_acc, fair_metric))\n",
    "\n",
    "    results.append(['Zhang4DP', clas_acc, dp, deqodds, deqopp, tradeoff[0], tradeoff[1], tradeoff[2]])"
   ]
  },
  {
   "source": [
    "### Zhang for Eq Odds"
   ],
   "cell_type": "markdown",
   "metadata": {}
  },
  {
   "cell_type": "code",
   "execution_count": 15,
   "metadata": {},
   "outputs": [
    {
     "output_type": "stream",
     "name": "stdout",
     "text": [
      "> Epoch | Class Loss | Adv Loss | Class Acc | Adv Acc\n",
      "> 1 | 0.8880362510681152 | 0.7379366159439087 | 0.7536057692307692 | 0.3326840185676393\n",
      "> Class Acc | Adv Acc\n",
      "> 0.8070146276595744 | 0.3700132978723404\n",
      "> DP | DEqOdds | DEqOpp\n",
      "> 0.8402800112962723 | 0.8858708739280701 | 0.9221954941749573\n",
      "> Confusion Matrix \n",
      "TN: 4132.0 | FP: 386.0 \n",
      "FN: 775.0 | TP: 723.0\n",
      "> Confusion Matrix for A = 0 \n",
      "TN: 1601.0 | FP: 66.0 \n",
      "FN: 138.0 | TP: 74.0\n",
      "> Confusion Matrix for A = 1 \n",
      "TN: 2531.0 | FP: 320.0 \n",
      "FN: 637.0 | TP: 649.0\n"
     ]
    }
   ],
   "source": [
    "fairdef = 'EqOdds'\n",
    "\n",
    "for i in range(test_loop):\n",
    "    model = FairLogisticRegression(xdim, batch_size, fairdef)\n",
    "    zhang_train(model, raw_data, train_data, epochs)\n",
    "\n",
    "    Y_hat, A_hat = evaluation(model, valid_data)\n",
    "    clas_acc, dp, deqodds, deqopp, confusion_matrix = compute_metrics(y_valid, Y_hat, a_valid, A_hat)\n",
    "\n",
    "    fair_metrics = (dp, deqodds, deqopp)\n",
    "    tradeoff = []\n",
    "    for fair_metric in fair_metrics:\n",
    "        tradeoff.append(compute_tradeoff(clas_acc, fair_metric))\n",
    "\n",
    "    results.append(['Zhang4EqOdds', clas_acc, dp, deqodds, deqopp, tradeoff[0], tradeoff[1], tradeoff[2]])"
   ]
  },
  {
   "source": [
    "### Zhang for Eq Opp"
   ],
   "cell_type": "markdown",
   "metadata": {}
  },
  {
   "cell_type": "code",
   "execution_count": 16,
   "metadata": {},
   "outputs": [
    {
     "output_type": "stream",
     "name": "stdout",
     "text": [
      "> Epoch | Class Loss | Adv Loss | Class Acc | Adv Acc\n",
      "> 1 | 0.4192975163459778 | 0.2229214310646057 | 0.7571286472148542 | 0.32949270557029176\n",
      "> Class Acc | Adv Acc\n",
      "> 0.8134973404255319 | 0.3407579787234043\n",
      "> DP | DEqOdds | DEqOpp\n",
      "> 0.8658372312784195 | 0.9245323911309242 | 0.9551923424005508\n",
      "> Confusion Matrix \n",
      "TN: 4270.0 | FP: 248.0 \n",
      "FN: 874.0 | TP: 624.0\n",
      "> Confusion Matrix for A = 0 \n",
      "TN: 1640.0 | FP: 27.0 \n",
      "FN: 140.0 | TP: 72.0\n",
      "> Confusion Matrix for A = 1 \n",
      "TN: 2630.0 | FP: 221.0 \n",
      "FN: 734.0 | TP: 552.0\n"
     ]
    }
   ],
   "source": [
    "fairdef = 'EqOpp'\n",
    "\n",
    "for i in range(test_loop):\n",
    "    model = FairLogisticRegression(xdim, batch_size, fairdef)\n",
    "    zhang_train(model, raw_data, train_data, epochs)\n",
    "\n",
    "    Y_hat, A_hat = evaluation(model, valid_data)\n",
    "    clas_acc, dp, deqodds, deqopp, confusion_matrix = compute_metrics(y_valid, Y_hat, a_valid, A_hat)\n",
    "\n",
    "    fair_metrics = (dp, deqodds, deqopp)\n",
    "    tradeoff = []\n",
    "    for fair_metric in fair_metrics:\n",
    "        tradeoff.append(compute_tradeoff(clas_acc, fair_metric))\n",
    "\n",
    "    results.append(['Zhang4EqOpp', clas_acc, dp, deqodds, deqopp, tradeoff[0], tradeoff[1], tradeoff[2]])"
   ]
  },
  {
   "source": [
    "## Saving into DF then CSV"
   ],
   "cell_type": "markdown",
   "metadata": {}
  },
  {
   "cell_type": "code",
   "execution_count": 17,
   "metadata": {},
   "outputs": [
    {
     "output_type": "execute_result",
     "data": {
      "text/plain": [
       "     model_name  clas_acc        dp   deqodds    deqopp  trade_dp  \\\n",
       "0      LAFTR4DP  0.740691  0.943151  0.938694  0.963478  0.829750   \n",
       "1  LAFTR4EqOdds  0.784408  0.779872  0.817716  0.879556  0.782134   \n",
       "2   LAFTR4EqOpp  0.809840  0.861469  0.966438  0.989678  0.834857   \n",
       "3      Zhang4DP  0.734707  0.451521  0.493479  0.717971  0.559312   \n",
       "4  Zhang4EqOdds  0.807015  0.840280  0.885871  0.922195  0.823311   \n",
       "5   Zhang4EqOpp  0.813497  0.865837  0.924532  0.955192  0.838852   \n",
       "\n",
       "   trade_deqodds  trade_deqopp  \n",
       "0       0.828020      0.837522  \n",
       "1       0.800716      0.829262  \n",
       "2       0.881236      0.890773  \n",
       "3       0.590403      0.726243  \n",
       "4       0.844606      0.860769  \n",
       "5       0.865468      0.878669  "
      ],
      "text/html": "<div>\n<style scoped>\n    .dataframe tbody tr th:only-of-type {\n        vertical-align: middle;\n    }\n\n    .dataframe tbody tr th {\n        vertical-align: top;\n    }\n\n    .dataframe thead th {\n        text-align: right;\n    }\n</style>\n<table border=\"1\" class=\"dataframe\">\n  <thead>\n    <tr style=\"text-align: right;\">\n      <th></th>\n      <th>model_name</th>\n      <th>clas_acc</th>\n      <th>dp</th>\n      <th>deqodds</th>\n      <th>deqopp</th>\n      <th>trade_dp</th>\n      <th>trade_deqodds</th>\n      <th>trade_deqopp</th>\n    </tr>\n  </thead>\n  <tbody>\n    <tr>\n      <th>0</th>\n      <td>LAFTR4DP</td>\n      <td>0.740691</td>\n      <td>0.943151</td>\n      <td>0.938694</td>\n      <td>0.963478</td>\n      <td>0.829750</td>\n      <td>0.828020</td>\n      <td>0.837522</td>\n    </tr>\n    <tr>\n      <th>1</th>\n      <td>LAFTR4EqOdds</td>\n      <td>0.784408</td>\n      <td>0.779872</td>\n      <td>0.817716</td>\n      <td>0.879556</td>\n      <td>0.782134</td>\n      <td>0.800716</td>\n      <td>0.829262</td>\n    </tr>\n    <tr>\n      <th>2</th>\n      <td>LAFTR4EqOpp</td>\n      <td>0.809840</td>\n      <td>0.861469</td>\n      <td>0.966438</td>\n      <td>0.989678</td>\n      <td>0.834857</td>\n      <td>0.881236</td>\n      <td>0.890773</td>\n    </tr>\n    <tr>\n      <th>3</th>\n      <td>Zhang4DP</td>\n      <td>0.734707</td>\n      <td>0.451521</td>\n      <td>0.493479</td>\n      <td>0.717971</td>\n      <td>0.559312</td>\n      <td>0.590403</td>\n      <td>0.726243</td>\n    </tr>\n    <tr>\n      <th>4</th>\n      <td>Zhang4EqOdds</td>\n      <td>0.807015</td>\n      <td>0.840280</td>\n      <td>0.885871</td>\n      <td>0.922195</td>\n      <td>0.823311</td>\n      <td>0.844606</td>\n      <td>0.860769</td>\n    </tr>\n    <tr>\n      <th>5</th>\n      <td>Zhang4EqOpp</td>\n      <td>0.813497</td>\n      <td>0.865837</td>\n      <td>0.924532</td>\n      <td>0.955192</td>\n      <td>0.838852</td>\n      <td>0.865468</td>\n      <td>0.878669</td>\n    </tr>\n  </tbody>\n</table>\n</div>"
     },
     "metadata": {},
     "execution_count": 17
    }
   ],
   "source": [
    "result_df = pd.DataFrame(results, columns=header)\n",
    "result_df"
   ]
  },
  {
   "cell_type": "code",
   "execution_count": 18,
   "metadata": {},
   "outputs": [],
   "source": [
    "result_df.to_csv('test_result_p1.csv')"
   ]
  }
 ]
}