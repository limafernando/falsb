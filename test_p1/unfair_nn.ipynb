{
 "metadata": {
  "language_info": {
   "codemirror_mode": {
    "name": "ipython",
    "version": 3
   },
   "file_extension": ".py",
   "mimetype": "text/x-python",
   "name": "python",
   "nbconvert_exporter": "python",
   "pygments_lexer": "ipython3",
   "version": "3.8.5"
  },
  "orig_nbformat": 2,
  "kernelspec": {
   "name": "python3",
   "display_name": "Python 3.8.5 64-bit ('falsb': conda)"
  },
  "interpreter": {
   "hash": "34ca74ed6235dfc7dda926bb3adb31e801e3d02679121d5b444ee035e270bd57"
  }
 },
 "nbformat": 4,
 "nbformat_minor": 2,
 "cells": [
  {
   "cell_type": "code",
   "execution_count": 2,
   "source": [
    "from math import sqrt, isnan\n",
    "from pathlib import Path\n",
    "\n",
    "import tensorflow as tf\n",
    "from tensorflow.keras.optimizers import Adam, Adagrad\n",
    "from tensorflow.data import Dataset\n",
    "\n",
    "import numpy as np\n",
    "import pandas as pd\n",
    "import matplotlib.pyplot as plt\n",
    "import seaborn as sns\n",
    "import csv\n",
    "\n",
    "from util import metrics\n",
    "from util.load_data import load_data\n",
    "from util.evaluation import compute_tradeoff\n",
    "\n",
    "from madras_laftr.models import UnfairMLP"
   ],
   "outputs": [],
   "metadata": {}
  },
  {
   "cell_type": "code",
   "execution_count": 3,
   "source": [
    "batch_size = 64\n",
    "epochs = 100\n",
    "lr = 0.001\n",
    "opt = Adam(learning_rate=lr)"
   ],
   "outputs": [],
   "metadata": {}
  },
  {
   "cell_type": "code",
   "execution_count": 4,
   "source": [
    "header = \"model_name\", \"clas_acc\", \"dp\", \"deqodds\", \"deqopp\", \"trade_dp\", \"trade_deqodds\", \"trade_deqopp\", \"TN_a0\", \"FP_a0\", \"FN_a0\", \"TP_a0\", \"TN_a1\", \"FP_a1\", \"FN_a1\", \"TP_a1\"\n",
    "results = []\n",
    "\n",
    "test_loop = 1"
   ],
   "outputs": [],
   "metadata": {}
  },
  {
   "cell_type": "markdown",
   "source": [
    "## Load Data"
   ],
   "metadata": {}
  },
  {
   "cell_type": "code",
   "execution_count": 5,
   "source": [
    "x_train, y_train, a_train = load_data('adult', 'train')\n",
    "raw_data = (x_train, y_train, a_train)"
   ],
   "outputs": [],
   "metadata": {}
  },
  {
   "cell_type": "code",
   "execution_count": 6,
   "source": [
    "xdim = x_train.shape[1]\n",
    "ydim = y_train.shape[1]\n",
    "adim = a_train.shape[1]\n",
    "zdim = 8"
   ],
   "outputs": [],
   "metadata": {}
  },
  {
   "cell_type": "code",
   "execution_count": 7,
   "source": [
    "train_data = Dataset.from_tensor_slices((x_train, y_train, a_train))\n",
    "train_data = train_data.batch(batch_size, drop_remainder=True)\n",
    "train_data"
   ],
   "outputs": [
    {
     "output_type": "execute_result",
     "data": {
      "text/plain": [
       "<BatchDataset shapes: ((64, 113), (64, 1), (64, 1)), types: (tf.float64, tf.float64, tf.float64)>"
      ]
     },
     "metadata": {},
     "execution_count": 7
    }
   ],
   "metadata": {}
  },
  {
   "cell_type": "code",
   "execution_count": 8,
   "source": [
    "x_valid, y_valid, a_valid = load_data('adult', 'valid')\n",
    "\n",
    "valid_data = Dataset.from_tensor_slices((x_valid, y_valid, a_valid))\n",
    "valid_data = valid_data.batch(batch_size, drop_remainder=True)"
   ],
   "outputs": [],
   "metadata": {}
  },
  {
   "cell_type": "code",
   "execution_count": 9,
   "source": [
    "x_test, y_test, a_test = load_data('adult', 'test')\n",
    "\n",
    "test_data = Dataset.from_tensor_slices((x_test, y_test, a_test))\n",
    "test_data = test_data.batch(batch_size, drop_remainder=True)"
   ],
   "outputs": [],
   "metadata": {}
  },
  {
   "cell_type": "markdown",
   "source": [
    "## Train Lopp"
   ],
   "metadata": {}
  },
  {
   "cell_type": "code",
   "execution_count": 10,
   "source": [
    "def train(unfair_clas, X, Y, optimizer):\n",
    "    \n",
    "    with tf.GradientTape() as tape0:\n",
    "        \n",
    "        unfair_clas(X, Y, training=True) #to compute the foward\n",
    "        current_loss = unfair_clas.loss #current loss\n",
    "    \n",
    "    grads = tape0.gradient(current_loss, unfair_clas.variables)\n",
    "    \n",
    "    optimizer.apply_gradients(zip(grads, unfair_clas.variables))"
   ],
   "outputs": [],
   "metadata": {}
  },
  {
   "cell_type": "code",
   "execution_count": 11,
   "source": [
    "def train_loop(unfair_clas, train_dataset, epochs, optmizer):\n",
    "    \n",
    "    print(\"> Epoch | Class Loss | Class Acc\")\n",
    "\n",
    "    x_train, y_train, a_train = raw_data\n",
    "    l = y_train.shape[0]\n",
    "    l = (l//batch_size) * batch_size\n",
    "\n",
    "    for epoch in range(epochs):\n",
    "        Y_hat = None\n",
    "        X_hat = None\n",
    "        batch_count = 1\n",
    "        \n",
    "        for X, Y, A in train_dataset:\n",
    "            \n",
    "            train(model, X, Y, optmizer)\n",
    "\n",
    "            if batch_count == 1:\n",
    "                Y_hat = model.Y_hat\n",
    "                batch_count += 1\n",
    "                \n",
    "            else:\n",
    "                Y_hat = tf.concat([Y_hat, model.Y_hat], 0)\n",
    "\n",
    "        clas_loss = tf.reduce_mean(model.loss)\n",
    "        clas_acc = metrics.accuracy(y_train[:l], tf.math.round(Y_hat))\n",
    "\n",
    "        print(\"> {} | {} | {}\".format(\n",
    "            epoch+1,\n",
    "            clas_loss,\n",
    "            clas_acc))"
   ],
   "outputs": [],
   "metadata": {}
  },
  {
   "cell_type": "markdown",
   "source": [
    "## Evaluation"
   ],
   "metadata": {}
  },
  {
   "cell_type": "code",
   "execution_count": 12,
   "source": [
    "\n",
    "def evaluation(model, valid_data):\n",
    "    Y_hat = None\n",
    "    batch_count = 1\n",
    "    \n",
    "    for X, Y, A in valid_data:\n",
    "        \n",
    "        model(X, Y, A)\n",
    "        \n",
    "        if batch_count == 1:\n",
    "            Y_hat = model.Y_hat\n",
    "            batch_count += 1\n",
    "        else:\n",
    "            Y_hat = tf.concat([Y_hat, model.Y_hat], 0)\n",
    "    \n",
    "    return Y_hat"
   ],
   "outputs": [],
   "metadata": {}
  },
  {
   "cell_type": "code",
   "execution_count": 13,
   "source": [
    "def compute_metrics(Y, Y_hat, A):\n",
    "    Y_hat = tf.math.round(Y_hat)\n",
    "    \n",
    "    clas_acc = metrics.accuracy(Y, Y_hat)\n",
    "\n",
    "    print(\"> Class Acc\")\n",
    "    print(\"> {}\".format(clas_acc))\n",
    "\n",
    "    dp = metrics.DP(Y_hat.numpy(), A)\n",
    "    deqodds = metrics.DEqOdds(Y, Y_hat.numpy(), A)\n",
    "    deqopp = metrics.DEqOpp(Y, Y_hat.numpy(), A)\n",
    "\n",
    "    print(\"> DP | DI | DEOPP\")\n",
    "    print(\"> {} | {} | {}\".format(dp, deqodds, deqopp))\n",
    "\n",
    "    tp = metrics.TP(Y, Y_hat.numpy())\n",
    "    tn = metrics.TN(Y, Y_hat.numpy())\n",
    "    fp = metrics.FP(Y, Y_hat.numpy())\n",
    "    fn = metrics.FN(Y, Y_hat.numpy())\n",
    "\n",
    "    print('> Confusion Matrix \\n' +\n",
    "                'TN: {} | FP: {} \\n'.format(tn, fp) +\n",
    "                'FN: {} | TP: {}'.format(fn, tp))\n",
    "\n",
    "    confusion_matrix = np.array([[tn, fp],\n",
    "                                [fn, tp]])\n",
    "\n",
    "    m = [metrics.TN, metrics.FP, metrics.FN, metrics.TP]\n",
    "    metrics_a0 = [0, 0, 0, 0]\n",
    "    metrics_a1 = [0, 0, 0, 0]\n",
    "    for i in range(len(m)):\n",
    "        metrics_a0[i] = metrics.subgroup(m[i], A, Y, Y_hat.numpy())\n",
    "        metrics_a1[i] = metrics.subgroup(m[i], 1 - A, Y, Y_hat.numpy())\n",
    "\n",
    "    print('> Confusion Matrix for A = 0 \\n' +\n",
    "            'TN: {} | FP: {} \\n'.format(metrics_a0[0], metrics_a0[1]) +\n",
    "            'FN: {} | TP: {}'.format(metrics_a0[2], metrics_a0[3]))\n",
    "\n",
    "    print('> Confusion Matrix for A = 1 \\n' +\n",
    "            'TN: {} | FP: {} \\n'.format(metrics_a1[0], metrics_a1[1]) +\n",
    "            'FN: {} | TP: {}'.format(metrics_a1[2], metrics_a1[3]))\n",
    "\n",
    "    confusion_matrix = np.array([[tn, fp],\n",
    "                                [fn, tp]])\n",
    "\n",
    "    return clas_acc, confusion_matrix, dp, deqodds, deqopp, metrics_a0, metrics_a1"
   ],
   "outputs": [],
   "metadata": {}
  },
  {
   "cell_type": "markdown",
   "source": [
    "## Testing"
   ],
   "metadata": {}
  },
  {
   "cell_type": "code",
   "execution_count": 14,
   "source": [
    "for i in range(test_loop):\n",
    "    opt = Adam(learning_rate=lr)\n",
    "\n",
    "    model = UnfairMLP(xdim, zdim, ydim)\n",
    "    ret = train_loop(model, train_data, epochs, opt)\n",
    "    Y_hat = evaluation(model, valid_data)\n",
    "    \n",
    "    clas_acc, confusion_matrix, dp, deqodds, deqopp, metrics_a0, metrics_a1  = compute_metrics(y_valid, Y_hat, a_valid)\n",
    "    \n",
    "    fair_metrics = (dp, deqodds, deqopp)\n",
    "    \n",
    "    tradeoff = []\n",
    "    \n",
    "    for fair_metric in fair_metrics:\n",
    "        tradeoff.append(compute_tradeoff(clas_acc, fair_metric))\n",
    "    \n",
    "    result = ['UnfairNN', clas_acc, dp, deqodds, deqopp, tradeoff[0], tradeoff[1], tradeoff[2]] + metrics_a0 + metrics_a1\n",
    "\n",
    "    results.append(result)"
   ],
   "outputs": [
    {
     "output_type": "stream",
     "name": "stdout",
     "text": [
      "> Epoch | Class Loss | Class Acc\n",
      "> 1 | 0.3769717216491699 | 0.7152271220159151\n",
      "> 2 | 0.4737511873245239 | 0.8059515915119364\n",
      "> 3 | 0.39866459369659424 | 0.8124171087533156\n",
      "> 4 | 0.3726392984390259 | 0.8185510610079576\n",
      "> 5 | 0.31772178411483765 | 0.8277934350132626\n",
      "> 6 | 0.3403315246105194 | 0.8387350795755968\n",
      "> 7 | 0.3272055387496948 | 0.8358338859416445\n",
      "> 8 | 0.34666118025779724 | 0.831191976127321\n",
      "> 9 | 0.34127357602119446 | 0.8358338859416445\n",
      "> 10 | 0.3081939220428467 | 0.8373259283819628\n",
      "> 11 | 0.29426077008247375 | 0.8398126657824934\n",
      "> 12 | 0.36504411697387695 | 0.8297413793103449\n",
      "> 13 | 0.3192847967147827 | 0.8294098143236074\n",
      "> 14 | 0.3301752209663391 | 0.8342175066312998\n",
      "> 15 | 0.29625654220581055 | 0.8391909814323607\n",
      "> 16 | 0.2960474193096161 | 0.8402685676392573\n",
      "> 17 | 0.3200136423110962 | 0.8341346153846154\n",
      "> 18 | 0.2954990863800049 | 0.8359996684350133\n",
      "> 19 | 0.30666470527648926 | 0.837616047745358\n",
      "> 20 | 0.30616408586502075 | 0.837823275862069\n",
      "> 21 | 0.306904137134552 | 0.8400198938992043\n",
      "> 22 | 0.3572205901145935 | 0.8357509946949602\n",
      "> 23 | 0.299522340297699 | 0.8328498010610079\n",
      "> 24 | 0.3271539509296417 | 0.8355023209549072\n",
      "> 25 | 0.32007676362991333 | 0.8404757957559682\n",
      "> 26 | 0.32890844345092773 | 0.834507625994695\n",
      "> 27 | 0.29725849628448486 | 0.8395225464190982\n",
      "> 28 | 0.3592079281806946 | 0.8322281167108754\n",
      "> 29 | 0.3318764567375183 | 0.8312334217506632\n",
      "> 30 | 0.2973075807094574 | 0.8358338859416445\n",
      "> 31 | 0.29179954528808594 | 0.8423822944297082\n",
      "> 32 | 0.3473442792892456 | 0.8320208885941645\n",
      "> 33 | 0.32298412919044495 | 0.8328083554376657\n",
      "> 34 | 0.2977287769317627 | 0.8378647214854111\n",
      "> 35 | 0.3055909276008606 | 0.8410560344827587\n",
      "> 36 | 0.29890504479408264 | 0.8440401193633953\n",
      "> 37 | 0.31042104959487915 | 0.8405586870026525\n",
      "> 38 | 0.32199540734291077 | 0.8437085543766578\n",
      "> 39 | 0.2985636591911316 | 0.8387350795755968\n",
      "> 40 | 0.2942061424255371 | 0.8441230106100795\n",
      "> 41 | 0.3195488452911377 | 0.8326425729442971\n",
      "> 42 | 0.3193560838699341 | 0.8386521883289124\n",
      "> 43 | 0.29341453313827515 | 0.8391495358090186\n",
      "> 44 | 0.32753241062164307 | 0.8350878647214854\n",
      "> 45 | 0.29742076992988586 | 0.8372015915119364\n",
      "> 46 | 0.2976406514644623 | 0.8391080901856764\n",
      "> 47 | 0.32010650634765625 | 0.8425480769230769\n",
      "> 48 | 0.29037460684776306 | 0.8391495358090186\n",
      "> 49 | 0.2975766360759735 | 0.8428796419098143\n",
      "> 50 | 0.3023064136505127 | 0.836414124668435\n",
      "> 51 | 0.2949773073196411 | 0.8403514588859416\n",
      "> 52 | 0.32078853249549866 | 0.8346734084880636\n",
      "> 53 | 0.2940705418586731 | 0.8411803713527851\n",
      "> 54 | 0.3070942163467407 | 0.8432940981432361\n",
      "> 55 | 0.2992496192455292 | 0.8384449602122016\n",
      "> 56 | 0.3017854690551758 | 0.8398955570291777\n",
      "> 57 | 0.305996298789978 | 0.8408902519893899\n",
      "> 58 | 0.3064000606536865 | 0.8388179708222812\n",
      "> 59 | 0.35366785526275635 | 0.8386936339522546\n",
      "> 60 | 0.33215636014938354 | 0.832145225464191\n",
      "> 61 | 0.31407254934310913 | 0.835212201591512\n",
      "> 62 | 0.30717647075653076 | 0.8426724137931034\n",
      "> 63 | 0.29666927456855774 | 0.8451591511936339\n",
      "> 64 | 0.31164178252220154 | 0.8408073607427056\n",
      "> 65 | 0.28973573446273804 | 0.8465683023872679\n",
      "> 66 | 0.3355000615119934 | 0.8323524535809018\n",
      "> 67 | 0.31893691420555115 | 0.8344661803713528\n",
      "> 68 | 0.30976560711860657 | 0.8382377320954907\n",
      "> 69 | 0.2960832118988037 | 0.8463196286472149\n",
      "> 70 | 0.30895721912384033 | 0.8442473474801061\n",
      "> 71 | 0.3107565939426422 | 0.8403929045092838\n",
      "> 72 | 0.29570919275283813 | 0.8418020557029178\n",
      "> 73 | 0.30422884225845337 | 0.8418849469496021\n",
      "> 74 | 0.28966793417930603 | 0.8441230106100795\n",
      "> 75 | 0.29432180523872375 | 0.8416777188328912\n",
      "> 76 | 0.31572991609573364 | 0.8344247347480106\n",
      "> 77 | 0.29736998677253723 | 0.8449104774535809\n",
      "> 78 | 0.29463517665863037 | 0.8474801061007957\n",
      "> 79 | 0.2944163680076599 | 0.8436671087533156\n",
      "> 80 | 0.29207563400268555 | 0.8424651856763926\n",
      "> 81 | 0.29550400376319885 | 0.8399784482758621\n",
      "> 82 | 0.2926778793334961 | 0.8425480769230769\n",
      "> 83 | 0.2961312234401703 | 0.8447446949602122\n",
      "> 84 | 0.29750290513038635 | 0.837118700265252\n",
      "> 85 | 0.2945322096347809 | 0.8441230106100795\n",
      "> 86 | 0.2948605716228485 | 0.8436256631299734\n",
      "> 87 | 0.3371875286102295 | 0.8403929045092838\n",
      "> 88 | 0.3149261474609375 | 0.8341760610079576\n",
      "> 89 | 0.29478615522384644 | 0.8408902519893899\n",
      "> 90 | 0.3092995285987854 | 0.8416777188328912\n",
      "> 91 | 0.2893415689468384 | 0.8412632625994695\n",
      "> 92 | 0.3303168714046478 | 0.8328912466843501\n",
      "> 93 | 0.3157748579978943 | 0.8349220822281167\n",
      "> 94 | 0.2894028425216675 | 0.8414290450928382\n",
      "> 95 | 0.30452263355255127 | 0.8461538461538461\n",
      "> 96 | 0.2881507873535156 | 0.8479774535809018\n",
      "> 97 | 0.2901291251182556 | 0.8472314323607427\n",
      "> 98 | 0.29227763414382935 | 0.8427138594164456\n",
      "> 99 | 0.3140332102775574 | 0.8456979442970822\n",
      "> 100 | 0.29074418544769287 | 0.8441644562334217\n",
      "> Class Acc\n",
      "> 0.8375997340425532\n",
      "> DP | DI | DEOPP\n",
      "> 0.7827874422073364 | 0.9105854481458664 | 0.9309838712215424\n",
      "> Confusion Matrix \n",
      "TN: 3961.0 | FP: 557.0 \n",
      "FN: 420.0 | TP: 1078.0\n",
      "> Confusion Matrix for A = 0 \n",
      "TN: 1577.0 | FP: 90.0 \n",
      "FN: 72.0 | TP: 140.0\n",
      "> Confusion Matrix for A = 1 \n",
      "TN: 2384.0 | FP: 467.0 \n",
      "FN: 348.0 | TP: 938.0\n"
     ]
    }
   ],
   "metadata": {
    "tags": []
   }
  },
  {
   "cell_type": "markdown",
   "source": [
    "## Saving into DF then CSV"
   ],
   "metadata": {}
  },
  {
   "cell_type": "code",
   "execution_count": 15,
   "source": [
    "result_df = pd.DataFrame(results, columns=header)\n",
    "result_df"
   ],
   "outputs": [
    {
     "output_type": "execute_result",
     "data": {
      "text/plain": [
       "  model_name  clas_acc        dp   deqodds    deqopp  trade_dp  trade_deqodds  \\\n",
       "0   UnfairNN    0.8376  0.782787  0.910585  0.930984  0.809267       0.872569   \n",
       "\n",
       "   trade_deqopp   TN_a0  FP_a0  FN_a0  TP_a0   TN_a1  FP_a1  FN_a1  TP_a1  \n",
       "0      0.881826  1577.0   90.0   72.0  140.0  2384.0  467.0  348.0  938.0  "
      ],
      "text/html": [
       "<div>\n",
       "<style scoped>\n",
       "    .dataframe tbody tr th:only-of-type {\n",
       "        vertical-align: middle;\n",
       "    }\n",
       "\n",
       "    .dataframe tbody tr th {\n",
       "        vertical-align: top;\n",
       "    }\n",
       "\n",
       "    .dataframe thead th {\n",
       "        text-align: right;\n",
       "    }\n",
       "</style>\n",
       "<table border=\"1\" class=\"dataframe\">\n",
       "  <thead>\n",
       "    <tr style=\"text-align: right;\">\n",
       "      <th></th>\n",
       "      <th>model_name</th>\n",
       "      <th>clas_acc</th>\n",
       "      <th>dp</th>\n",
       "      <th>deqodds</th>\n",
       "      <th>deqopp</th>\n",
       "      <th>trade_dp</th>\n",
       "      <th>trade_deqodds</th>\n",
       "      <th>trade_deqopp</th>\n",
       "      <th>TN_a0</th>\n",
       "      <th>FP_a0</th>\n",
       "      <th>FN_a0</th>\n",
       "      <th>TP_a0</th>\n",
       "      <th>TN_a1</th>\n",
       "      <th>FP_a1</th>\n",
       "      <th>FN_a1</th>\n",
       "      <th>TP_a1</th>\n",
       "    </tr>\n",
       "  </thead>\n",
       "  <tbody>\n",
       "    <tr>\n",
       "      <th>0</th>\n",
       "      <td>UnfairNN</td>\n",
       "      <td>0.8376</td>\n",
       "      <td>0.782787</td>\n",
       "      <td>0.910585</td>\n",
       "      <td>0.930984</td>\n",
       "      <td>0.809267</td>\n",
       "      <td>0.872569</td>\n",
       "      <td>0.881826</td>\n",
       "      <td>1577.0</td>\n",
       "      <td>90.0</td>\n",
       "      <td>72.0</td>\n",
       "      <td>140.0</td>\n",
       "      <td>2384.0</td>\n",
       "      <td>467.0</td>\n",
       "      <td>348.0</td>\n",
       "      <td>938.0</td>\n",
       "    </tr>\n",
       "  </tbody>\n",
       "</table>\n",
       "</div>"
      ]
     },
     "metadata": {},
     "execution_count": 15
    }
   ],
   "metadata": {}
  },
  {
   "cell_type": "code",
   "execution_count": 16,
   "source": [
    "#result_df.to_csv('results/teste_unfair_nn-100.csv')"
   ],
   "outputs": [],
   "metadata": {}
  }
 ]
}