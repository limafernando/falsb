{
 "cells": [
  {
   "cell_type": "markdown",
   "source": [
    "## Import libs"
   ],
   "metadata": {}
  },
  {
   "cell_type": "code",
   "execution_count": 1,
   "source": [
    "from math import sqrt, isnan\n",
    "from pathlib import Path\n",
    "\n",
    "import tensorflow as tf\n",
    "from tensorflow.keras.optimizers import Adam, Adagrad\n",
    "from tensorflow.data import Dataset\n",
    "\n",
    "import numpy as np\n",
    "import pandas as pd\n",
    "import matplotlib.pyplot as plt\n",
    "import seaborn as sns\n",
    "import csv\n",
    "\n",
    "from util import metrics\n",
    "from util.load_data import load_data\n",
    "from util.evaluation import compute_tradeoff\n",
    "\n",
    "from zhang.models import UnfairLogisticRegression"
   ],
   "outputs": [],
   "metadata": {}
  },
  {
   "cell_type": "markdown",
   "source": [
    "## Preliminaries"
   ],
   "metadata": {}
  },
  {
   "cell_type": "code",
   "execution_count": 2,
   "source": [
    "batch_size = 64\n",
    "epochs = 100\n",
    "lr = 0.001\n",
    "opt = Adam(learning_rate=lr)"
   ],
   "outputs": [],
   "metadata": {}
  },
  {
   "cell_type": "code",
   "execution_count": 3,
   "source": [
    "header = \"model_name\", \"clas_acc\", \"dp\", \"deqodds\", \"deqopp\", \"trade_dp\", \"trade_deqodds\", \"trade_deqopp\", \"TN_a0\", \"FP_a0\", \"FN_a0\", \"TP_a0\", \"TN_a1\", \"FP_a1\", \"FN_a1\", \"TP_a1\"\n",
    "results = []\n",
    "\n",
    "test_loop = 1"
   ],
   "outputs": [],
   "metadata": {}
  },
  {
   "cell_type": "markdown",
   "source": [
    "## Load data"
   ],
   "metadata": {}
  },
  {
   "cell_type": "code",
   "execution_count": 4,
   "source": [
    "x_train, y_train, a_train = load_data('adult', 'train')\n",
    "raw_data = (x_train, y_train, a_train)"
   ],
   "outputs": [],
   "metadata": {
    "tags": []
   }
  },
  {
   "cell_type": "code",
   "execution_count": 5,
   "source": [
    "xdim = x_train.shape[1]\n",
    "ydim = y_train.shape[1]\n",
    "adim = a_train.shape[1]\n",
    "zdim = 8"
   ],
   "outputs": [],
   "metadata": {}
  },
  {
   "cell_type": "code",
   "execution_count": 6,
   "source": [
    "train_data = Dataset.from_tensor_slices((x_train, y_train, a_train))\n",
    "train_data = train_data.batch(batch_size, drop_remainder=True)\n",
    "train_data"
   ],
   "outputs": [
    {
     "output_type": "execute_result",
     "data": {
      "text/plain": [
       "<BatchDataset shapes: ((64, 113), (64, 1), (64, 1)), types: (tf.float64, tf.float64, tf.float64)>"
      ]
     },
     "metadata": {},
     "execution_count": 6
    }
   ],
   "metadata": {}
  },
  {
   "cell_type": "code",
   "execution_count": 7,
   "source": [
    "x_valid, y_valid, a_valid = load_data('adult', 'valid')\n",
    "\n",
    "valid_data = Dataset.from_tensor_slices((x_valid, y_valid, a_valid))\n",
    "valid_data = valid_data.batch(batch_size, drop_remainder=True)"
   ],
   "outputs": [],
   "metadata": {}
  },
  {
   "cell_type": "code",
   "execution_count": 8,
   "source": [
    "x_test, y_test, a_test = load_data('adult', 'test')\n",
    "\n",
    "test_data = Dataset.from_tensor_slices((x_test, y_test, a_test))\n",
    "test_data = test_data.batch(batch_size, drop_remainder=True)"
   ],
   "outputs": [],
   "metadata": {}
  },
  {
   "cell_type": "code",
   "execution_count": 9,
   "source": [
    "num_batchs = y_test.shape[0]//batch_size\n",
    "num_batchs *= batch_size"
   ],
   "outputs": [],
   "metadata": {}
  },
  {
   "cell_type": "code",
   "execution_count": 10,
   "source": [
    "y_test = y_test[:num_batchs]\n",
    "a_test = a_test[:num_batchs]"
   ],
   "outputs": [],
   "metadata": {}
  },
  {
   "cell_type": "markdown",
   "source": [
    "## Train loop"
   ],
   "metadata": {}
  },
  {
   "cell_type": "code",
   "execution_count": 11,
   "source": [
    "def train(model, X, Y, A, optimizer):\n",
    "    clas_vars = [model.clas.W, model.b]\n",
    "    \n",
    "    with tf.GradientTape() as clas_tape:\n",
    "        \n",
    "        model(X, Y, A)        \n",
    "        clas_loss = model.clas_loss\n",
    "\n",
    "    dWLp = clas_tape.gradient(clas_loss, clas_vars)\n",
    "    optimizer.apply_gradients(zip(dWLp, clas_vars))"
   ],
   "outputs": [],
   "metadata": {}
  },
  {
   "cell_type": "code",
   "execution_count": 12,
   "source": [
    "def train_loop(model, train_dataset, epochs, opt=None):\n",
    "    \n",
    "    print(\"> Epoch | Class Loss | Class Acc\")\n",
    "\n",
    "    if opt is not None:\n",
    "        optimizer = opt\n",
    "        decay4epoch = False\n",
    "    else:\n",
    "        decay4epoch = True\n",
    "    \n",
    "    for epoch in range(epochs):\n",
    "        Y_hat = None\n",
    "        batch_count = 1\n",
    "\n",
    "        if decay4epoch:\n",
    "            lr = 0.001/(epoch+1)\n",
    "            optimizer = Adam(learning_rate=lr)\n",
    "        \n",
    "        for X, Y, A in train_dataset:\n",
    "            \n",
    "            r = train(model, X, Y, A, optimizer)\n",
    "            if r:\n",
    "                print('parou')\n",
    "                print(model.clas_loss)\n",
    "                break\n",
    "\n",
    "            if batch_count == 1:\n",
    "                Y_hat = model.Y_hat\n",
    "                batch_count += 1\n",
    "            else:\n",
    "                Y_hat = tf.concat([Y_hat, model.Y_hat], 0)\n",
    "\n",
    "        clas_loss = model.clas_loss\n",
    "        clas_acc = metrics.accuracy(raw_data[1], tf.math.round(Y_hat))\n",
    "\n",
    "        \n",
    "    \n",
    "        print(\"> {} | {} | {}\".format(\n",
    "            epoch+1, \n",
    "            clas_loss, \n",
    "            clas_acc))"
   ],
   "outputs": [],
   "metadata": {}
  },
  {
   "cell_type": "markdown",
   "source": [
    "## Evaluation"
   ],
   "metadata": {}
  },
  {
   "cell_type": "code",
   "execution_count": 13,
   "source": [
    "\n",
    "def evaluation(model, valid_data):\n",
    "    Y_hat = None\n",
    "    batch_count = 1\n",
    "    \n",
    "    for X, Y, A in valid_data:\n",
    "        \n",
    "        model(X, Y, A)\n",
    "        \n",
    "        if batch_count == 1:\n",
    "            Y_hat = model.Y_hat\n",
    "            batch_count += 1\n",
    "        else:\n",
    "            Y_hat = tf.concat([Y_hat, model.Y_hat], 0)\n",
    "    \n",
    "    return Y_hat"
   ],
   "outputs": [],
   "metadata": {}
  },
  {
   "cell_type": "code",
   "execution_count": 14,
   "source": [
    "def compute_metrics(Y, Y_hat, A):\n",
    "    Y_hat = tf.math.round(Y_hat)\n",
    "    \n",
    "    clas_acc = metrics.accuracy(Y, Y_hat)\n",
    "\n",
    "    print(\"> Class Acc\")\n",
    "    print(\"> {}\".format(clas_acc))\n",
    "\n",
    "    dp = metrics.DP(Y_hat.numpy(), A)\n",
    "    deqodds = metrics.DEqOdds(Y, Y_hat.numpy(), A)\n",
    "    deqopp = metrics.DEqOpp(Y, Y_hat.numpy(), A)\n",
    "\n",
    "    print(\"> DP | DI | DEOPP\")\n",
    "    print(\"> {} | {} | {}\".format(dp, deqodds, deqopp))\n",
    "\n",
    "    tp = metrics.TP(Y, Y_hat.numpy())\n",
    "    tn = metrics.TN(Y, Y_hat.numpy())\n",
    "    fp = metrics.FP(Y, Y_hat.numpy())\n",
    "    fn = metrics.FN(Y, Y_hat.numpy())\n",
    "\n",
    "    print('> Confusion Matrix \\n' +\n",
    "                'TN: {} | FP: {} \\n'.format(tn, fp) +\n",
    "                'FN: {} | TP: {}'.format(fn, tp))\n",
    "\n",
    "    confusion_matrix = np.array([[tn, fp],\n",
    "                                [fn, tp]])\n",
    "\n",
    "    m = [metrics.TN, metrics.FP, metrics.FN, metrics.TP]\n",
    "    metrics_a0 = [0, 0, 0, 0]\n",
    "    metrics_a1 = [0, 0, 0, 0]\n",
    "    for i in range(len(m)):\n",
    "        metrics_a0[i] = metrics.subgroup(m[i], A, Y, Y_hat.numpy())\n",
    "        metrics_a1[i] = metrics.subgroup(m[i], 1 - A, Y, Y_hat.numpy())\n",
    "\n",
    "    print('> Confusion Matrix for A = 0 \\n' +\n",
    "            'TN: {} | FP: {} \\n'.format(metrics_a0[0], metrics_a0[1]) +\n",
    "            'FN: {} | TP: {}'.format(metrics_a0[2], metrics_a0[3]))\n",
    "\n",
    "    print('> Confusion Matrix for A = 1 \\n' +\n",
    "            'TN: {} | FP: {} \\n'.format(metrics_a1[0], metrics_a1[1]) +\n",
    "            'FN: {} | TP: {}'.format(metrics_a1[2], metrics_a1[3]))\n",
    "\n",
    "    confusion_matrix = np.array([[tn, fp],\n",
    "                                [fn, tp]])\n",
    "\n",
    "    return clas_acc, confusion_matrix, dp, deqodds, deqopp, metrics_a0, metrics_a1"
   ],
   "outputs": [],
   "metadata": {}
  },
  {
   "cell_type": "markdown",
   "source": [
    "## Testing"
   ],
   "metadata": {}
  },
  {
   "cell_type": "code",
   "execution_count": 15,
   "source": [
    "for i in range(test_loop):\n",
    "\n",
    "    model = UnfairLogisticRegression(xdim, batch_size)\n",
    "    ret = train_loop(model, train_data, epochs)\n",
    "    Y_hat = evaluation(model, test_data)\n",
    "    \n",
    "    clas_acc, confusion_matrix, dp, deqodds, deqopp, metrics_a0, metrics_a1  = compute_metrics(y_test, Y_hat, a_test)\n",
    "    \n",
    "    fair_metrics = (dp, deqodds, deqopp)\n",
    "    \n",
    "    tradeoff = []\n",
    "    \n",
    "    for fair_metric in fair_metrics:\n",
    "        tradeoff.append(compute_tradeoff(clas_acc, fair_metric))\n",
    "    \n",
    "    result = ['UnfairLR-decay', clas_acc, dp, deqodds, deqopp, tradeoff[0], tradeoff[1], tradeoff[2]] + metrics_a0 + metrics_a1\n",
    "\n",
    "    results.append(result)"
   ],
   "outputs": [
    {
     "output_type": "stream",
     "name": "stdout",
     "text": [
      "> Epoch | Class Loss | Class Acc\n",
      "> 1 | 0.5004817843437195 | 0.7487566312997347\n",
      "> 2 | 0.4250468909740448 | 0.7940981432360743\n",
      "> 3 | 0.38422220945358276 | 0.8143236074270557\n",
      "> 4 | 0.36236947774887085 | 0.8235245358090186\n",
      "> 5 | 0.35435330867767334 | 0.8309433023872679\n",
      "> 6 | 0.3480228781700134 | 0.8362068965517242\n",
      "> 7 | 0.3438219428062439 | 0.8391495358090186\n",
      "> 8 | 0.34053272008895874 | 0.8399370026525199\n",
      "> 9 | 0.33758699893951416 | 0.8413461538461539\n",
      "> 10 | 0.3348346948623657 | 0.8418849469496021\n",
      "> 11 | 0.33249279856681824 | 0.8425895225464191\n",
      "> 12 | 0.3304925858974457 | 0.8430039787798409\n",
      "> 13 | 0.3288639783859253 | 0.8434184350132626\n",
      "> 14 | 0.3274797797203064 | 0.8440401193633953\n",
      "> 15 | 0.32632455229759216 | 0.8445789124668435\n",
      "> 16 | 0.3253505527973175 | 0.8450348143236074\n",
      "> 17 | 0.32451677322387695 | 0.8451591511936339\n",
      "> 18 | 0.3237929940223694 | 0.8454078249336869\n",
      "> 19 | 0.323161780834198 | 0.8455736074270557\n",
      "> 20 | 0.32261425256729126 | 0.8460709549071618\n",
      "> 21 | 0.3222368061542511 | 0.8459880636604775\n",
      "> 22 | 0.3218652009963989 | 0.8459466180371353\n",
      "> 23 | 0.32156968116760254 | 0.8460295092838196\n",
      "> 24 | 0.32134681940078735 | 0.8460709549071618\n",
      "> 25 | 0.3213326334953308 | 0.8464439655172413\n",
      "> 26 | 0.32126009464263916 | 0.8466511936339522\n",
      "> 27 | 0.3213502764701843 | 0.8467755305039788\n",
      "> 28 | 0.3213960528373718 | 0.846816976127321\n",
      "> 29 | 0.32156500220298767 | 0.8468584217506632\n",
      "> 30 | 0.3217525780200958 | 0.8467755305039788\n",
      "> 31 | 0.32191404700279236 | 0.8468998673740054\n",
      "> 32 | 0.3221426010131836 | 0.8468584217506632\n",
      "> 33 | 0.3223761320114136 | 0.8469827586206897\n",
      "> 34 | 0.3226112723350525 | 0.8471070954907162\n",
      "> 35 | 0.3228435218334198 | 0.8472728779840849\n",
      "> 36 | 0.32306960225105286 | 0.8472314323607427\n",
      "> 37 | 0.3232862055301666 | 0.8475629973474801\n",
      "> 38 | 0.3235009014606476 | 0.8476458885941645\n",
      "> 39 | 0.32368916273117065 | 0.847770225464191\n",
      "> 40 | 0.32386183738708496 | 0.8478116710875332\n",
      "> 41 | 0.3240176737308502 | 0.8481432360742706\n",
      "> 42 | 0.3241559863090515 | 0.8481846816976127\n",
      "> 43 | 0.32427653670310974 | 0.8481017904509284\n",
      "> 44 | 0.32437941431999207 | 0.8480603448275862\n",
      "> 45 | 0.32446491718292236 | 0.8482261273209549\n",
      "> 46 | 0.32453370094299316 | 0.8485162466843501\n",
      "> 47 | 0.32458627223968506 | 0.8486820291777188\n",
      "> 48 | 0.3246217370033264 | 0.8486405835543767\n",
      "> 49 | 0.32464492321014404 | 0.8490135941644562\n",
      "> 50 | 0.3246545195579529 | 0.848930702917772\n",
      "> 51 | 0.3246504068374634 | 0.8490964854111406\n",
      "> 52 | 0.32463592290878296 | 0.849179376657825\n",
      "> 53 | 0.3246098756790161 | 0.8492622679045093\n",
      "> 54 | 0.32457491755485535 | 0.849179376657825\n",
      "> 55 | 0.32453036308288574 | 0.8493451591511936\n",
      "> 56 | 0.32447782158851624 | 0.8494280503978779\n",
      "> 57 | 0.32441800832748413 | 0.8495109416445623\n",
      "> 58 | 0.32435208559036255 | 0.8494694960212201\n",
      "> 59 | 0.32427978515625 | 0.8495523872679045\n",
      "> 60 | 0.3242023289203644 | 0.8495523872679045\n",
      "> 61 | 0.3241201341152191 | 0.8495938328912467\n",
      "> 62 | 0.3240337669849396 | 0.849676724137931\n",
      "> 63 | 0.32394373416900635 | 0.8498010610079576\n",
      "> 64 | 0.32385045289993286 | 0.8497181697612732\n",
      "> 65 | 0.32375437021255493 | 0.8498425066312998\n",
      "> 66 | 0.32365599274635315 | 0.8498425066312998\n",
      "> 67 | 0.3235553503036499 | 0.8499668435013262\n",
      "> 68 | 0.32345306873321533 | 0.8500082891246684\n",
      "> 69 | 0.3233492970466614 | 0.8500082891246684\n",
      "> 70 | 0.32324427366256714 | 0.849925397877984\n",
      "> 71 | 0.3231383264064789 | 0.8499668435013262\n",
      "> 72 | 0.32303160429000854 | 0.8499668435013262\n",
      "> 73 | 0.32292431592941284 | 0.8499668435013262\n",
      "> 74 | 0.3228166401386261 | 0.8500497347480106\n",
      "> 75 | 0.3227088153362274 | 0.8500911803713528\n",
      "> 76 | 0.3226008713245392 | 0.8501740716180372\n",
      "> 77 | 0.3224930167198181 | 0.850132625994695\n",
      "> 78 | 0.322385311126709 | 0.8501740716180372\n",
      "> 79 | 0.32227787375450134 | 0.8500082891246684\n",
      "> 80 | 0.32217085361480713 | 0.8500911803713528\n",
      "> 81 | 0.32206428050994873 | 0.850132625994695\n",
      "> 82 | 0.32195866107940674 | 0.8501740716180372\n",
      "> 83 | 0.3218532204627991 | 0.8502569628647215\n",
      "> 84 | 0.3217484951019287 | 0.850381299734748\n",
      "> 85 | 0.3216444253921509 | 0.850381299734748\n",
      "> 86 | 0.3215411305427551 | 0.8504227453580901\n",
      "> 87 | 0.3214385509490967 | 0.8504227453580901\n",
      "> 88 | 0.32133686542510986 | 0.850381299734748\n",
      "> 89 | 0.3212360143661499 | 0.850381299734748\n",
      "> 90 | 0.32113611698150635 | 0.8503398541114058\n",
      "> 91 | 0.3210369944572449 | 0.8502984084880636\n",
      "> 92 | 0.3209388256072998 | 0.8502984084880636\n",
      "> 93 | 0.32084164023399353 | 0.8502984084880636\n",
      "> 94 | 0.32074588537216187 | 0.8502984084880636\n",
      "> 95 | 0.3206506371498108 | 0.8503398541114058\n",
      "> 96 | 0.3205562233924866 | 0.8504641909814323\n",
      "> 97 | 0.32046279311180115 | 0.8505056366047745\n",
      "> 98 | 0.32037031650543213 | 0.8505885278514589\n",
      "> 99 | 0.3202787935733795 | 0.8506299734748011\n",
      "> 100 | 0.3201882839202881 | 0.8505470822281167\n",
      "> Class Acc\n",
      "> 0.8488696808510638\n",
      "> DP | DI | DEOPP\n",
      "> 0.8031977713108063 | 0.8768594339489937 | 0.840693861246109\n",
      "> Confusion Matrix \n",
      "TN: 10567.0 | FP: 775.0 \n",
      "FN: 1498.0 | TP: 2200.0\n",
      "> Confusion Matrix for A = 0 \n",
      "TN: 4286.0 | FP: 64.0 \n",
      "FN: 301.0 | TP: 256.0\n",
      "> Confusion Matrix for A = 1 \n",
      "TN: 6281.0 | FP: 711.0 \n",
      "FN: 1197.0 | TP: 1944.0\n"
     ]
    }
   ],
   "metadata": {
    "tags": []
   }
  },
  {
   "cell_type": "code",
   "execution_count": 16,
   "source": [
    "sns.heatmap(confusion_matrix, annot=True, fmt='g')"
   ],
   "outputs": [
    {
     "output_type": "execute_result",
     "data": {
      "text/plain": [
       "<matplotlib.axes._subplots.AxesSubplot at 0x7f5614d62c70>"
      ]
     },
     "metadata": {},
     "execution_count": 16
    },
    {
     "output_type": "display_data",
     "data": {
      "text/plain": [
       "<Figure size 432x288 with 2 Axes>"
      ],
      "image/png": "[encoded data removed]"
     },
     "metadata": {
      "needs_background": "light"
     }
    }
   ],
   "metadata": {}
  },
  {
   "cell_type": "code",
   "execution_count": 17,
   "source": [
    "for i in range(test_loop):\n",
    "    opt = Adam(learning_rate=lr)\n",
    "\n",
    "    model = UnfairLogisticRegression(xdim, batch_size)\n",
    "    ret = train_loop(model, train_data, epochs, opt)\n",
    "    Y_hat = evaluation(model, test_data)\n",
    "    \n",
    "    clas_acc, confusion_matrix, dp, deqodds, deqopp, metrics_a0, metrics_a1  = compute_metrics(y_test, Y_hat, a_test)\n",
    "    \n",
    "    fair_metrics = (dp, deqodds, deqopp)\n",
    "    \n",
    "    tradeoff = []\n",
    "    \n",
    "    for fair_metric in fair_metrics:\n",
    "        tradeoff.append(compute_tradeoff(clas_acc, fair_metric))\n",
    "    \n",
    "    result = ['UnfairLR', clas_acc, dp, deqodds, deqopp, tradeoff[0], tradeoff[1], tradeoff[2]] + metrics_a0 + metrics_a1\n",
    "\n",
    "    results.append(result)"
   ],
   "outputs": [
    {
     "output_type": "stream",
     "name": "stdout",
     "text": [
      "> Epoch | Class Loss | Class Acc\n",
      "> 1 | 0.5004817843437195 | 0.7487566312997347\n",
      "> 2 | 0.43046826124191284 | 0.7967092175066313\n",
      "> 3 | 0.4265057444572449 | 0.8164787798408488\n",
      "> 4 | 0.3977872431278229 | 0.828125\n",
      "> 5 | 0.3788052797317505 | 0.8338030503978779\n",
      "> 6 | 0.3722444176673889 | 0.8389837533156499\n",
      "> 7 | 0.35932254791259766 | 0.8396468832891246\n",
      "> 8 | 0.365489661693573 | 0.8395639920424403\n",
      "> 9 | 0.35043689608573914 | 0.841387599469496\n",
      "> 10 | 0.35543712973594666 | 0.8425480769230769\n",
      "> 11 | 0.34435534477233887 | 0.8445374668435013\n",
      "> 12 | 0.9974395036697388 | 0.8433355437665783\n",
      "> 13 | 0.33965668082237244 | 0.839729774535809\n",
      "> 14 | 0.531301736831665 | 0.8430868700265252\n",
      "> 15 | 0.3296221196651459 | 0.8480603448275862\n",
      "> 16 | 0.9852874875068665 | 0.8441644562334217\n",
      "> 17 | 0.9825006127357483 | 0.8331399204244032\n",
      "> 18 | 0.33471840620040894 | 0.8358338859416445\n",
      "> 19 | 0.32079070806503296 | 0.8455321618037135\n",
      "> 20 | 0.31524109840393066 | 0.8468998673740054\n",
      "> 21 | 0.3298489451408386 | 0.8467755305039788\n",
      "> 22 | 0.33171743154525757 | 0.847065649867374\n",
      "> 23 | 0.3064884841442108 | 0.8462781830238727\n",
      "> 24 | 0.30767932534217834 | 0.846816976127321\n",
      "> 25 | 0.3207545280456543 | 0.8449519230769231\n",
      "> 26 | 0.3529583513736725 | 0.8448690318302388\n",
      "> 27 | 0.3010445237159729 | 0.8455736074270557\n",
      "> 28 | 0.30363672971725464 | 0.8446618037135278\n",
      "> 29 | 0.37016624212265015 | 0.8454078249336869\n",
      "> 30 | 0.36420905590057373 | 0.8449519230769231\n",
      "> 31 | 0.3649325966835022 | 0.8450762599469496\n",
      "> 32 | 0.3665430247783661 | 0.8449104774535809\n",
      "> 33 | 0.36618772149086 | 0.8447861405835544\n",
      "> 34 | 0.3656221032142639 | 0.8447446949602122\n",
      "> 35 | 0.36475372314453125 | 0.84470324933687\n",
      "> 36 | 0.36340659856796265 | 0.8447861405835544\n",
      "> 37 | 0.3622782528400421 | 0.8448690318302388\n",
      "> 38 | 0.35984015464782715 | 0.8450348143236074\n",
      "> 39 | 0.3587883412837982 | 0.8452834880636605\n",
      "> 40 | 0.6900540590286255 | 0.8452005968169761\n",
      "> 41 | 0.6427038311958313 | 0.8457393899204244\n",
      "> 42 | 0.55645751953125 | 0.8443302387267905\n",
      "> 43 | 0.5696516036987305 | 0.8460709549071618\n",
      "> 44 | 0.5468385815620422 | 0.8456979442970822\n",
      "> 45 | 0.570908784866333 | 0.845863726790451\n",
      "> 46 | 0.5315980315208435 | 0.84565649867374\n",
      "> 47 | 0.5473337173461914 | 0.8454907161803713\n",
      "> 48 | 0.29311901330947876 | 0.8459466180371353\n",
      "> 49 | 0.3044631779193878 | 0.8473972148541113\n",
      "> 50 | 0.9594934582710266 | 0.8436671087533156\n",
      "> 51 | 0.9587709307670593 | 0.8329741379310345\n",
      "> 52 | 0.3100737929344177 | 0.8356681034482758\n",
      "> 53 | 0.29901498556137085 | 0.8406001326259946\n",
      "> 54 | 0.674165666103363 | 0.8455321618037135\n",
      "> 55 | 0.3126305341720581 | 0.8440815649867374\n",
      "> 56 | 0.3004017174243927 | 0.8454078249336869\n",
      "> 57 | 0.6395255923271179 | 0.8445374668435013\n",
      "> 58 | 0.5965968370437622 | 0.8466097480106101\n",
      "> 59 | 0.49927520751953125 | 0.8448275862068966\n",
      "> 60 | 0.6232485771179199 | 0.8457808355437666\n",
      "> 61 | 0.5064589381217957 | 0.84565649867374\n",
      "> 62 | 0.37210291624069214 | 0.8454492705570291\n",
      "> 63 | 0.9264265298843384 | 0.8430454244031831\n",
      "> 64 | 0.48951971530914307 | 0.8437085543766578\n",
      "> 65 | 0.3000060021877289 | 0.8465268567639257\n",
      "> 66 | 0.37913942337036133 | 0.8452005968169761\n",
      "> 67 | 0.2903483211994171 | 0.8459051724137931\n",
      "> 68 | 0.32009345293045044 | 0.8475629973474801\n",
      "> 69 | 0.29699257016181946 | 0.8486820291777188\n",
      "> 70 | 0.30239009857177734 | 0.8484333554376657\n",
      "> 71 | 0.3119325041770935 | 0.8468584217506632\n",
      "> 72 | 0.4825785160064697 | 0.8435427718832891\n",
      "> 73 | 0.956406831741333 | 0.8455321618037135\n",
      "> 74 | 0.28500881791114807 | 0.8362897877984085\n",
      "> 75 | 0.9548406600952148 | 0.8449933687002653\n",
      "> 76 | 0.9552003145217896 | 0.8331813660477454\n",
      "> 77 | 0.883773684501648 | 0.8338030503978779\n",
      "> 78 | 0.9543685913085938 | 0.8435842175066313\n",
      "> 79 | 0.95545494556427 | 0.8335129310344828\n",
      "> 80 | 0.9557806849479675 | 0.8337616047745358\n",
      "> 81 | 0.9543759822845459 | 0.8343418435013262\n",
      "> 82 | 0.9553747773170471 | 0.8340931697612732\n",
      "> 83 | 0.3003416657447815 | 0.8363312334217506\n",
      "> 84 | 0.9537608623504639 | 0.8410145888594165\n",
      "> 85 | 0.9548515677452087 | 0.8338444960212201\n",
      "> 86 | 0.9124616980552673 | 0.8343418435013262\n",
      "> 87 | 0.28961095213890076 | 0.8441230106100795\n",
      "> 88 | 0.49384069442749023 | 0.8449933687002653\n",
      "> 89 | 0.2957754135131836 | 0.8432940981432361\n",
      "> 90 | 0.9442521333694458 | 0.8367456896551724\n",
      "> 91 | 0.43822309374809265 | 0.8422165119363395\n",
      "> 92 | 0.28934764862060547 | 0.8462367374005305\n",
      "> 93 | 0.351669579744339 | 0.8474801061007957\n",
      "> 94 | 0.32269006967544556 | 0.8481846816976127\n",
      "> 95 | 0.35705673694610596 | 0.8453249336870027\n",
      "> 96 | 0.46844547986984253 | 0.8455736074270557\n",
      "> 97 | 0.40311330556869507 | 0.8462781830238727\n",
      "> 98 | 0.2937549650669098 | 0.8443716843501327\n",
      "> 99 | 0.3626859784126282 | 0.8472314323607427\n",
      "> 100 | 0.3477860987186432 | 0.8452005968169761\n",
      "> Class Acc\n",
      "> 0.8287898936170213\n",
      "> DP | DI | DEOPP\n",
      "> 0.8179635107517242 | 0.9148323759436607 | 0.9185824692249298\n",
      "> Confusion Matrix \n",
      "TN: 10264.0 | FP: 1078.0 \n",
      "FN: 1497.0 | TP: 2201.0\n",
      "> Confusion Matrix for A = 0 \n",
      "TN: 4175.0 | FP: 175.0 \n",
      "FN: 264.0 | TP: 293.0\n",
      "> Confusion Matrix for A = 1 \n",
      "TN: 6089.0 | FP: 903.0 \n",
      "FN: 1233.0 | TP: 1908.0\n"
     ]
    }
   ],
   "metadata": {
    "tags": []
   }
  },
  {
   "cell_type": "code",
   "execution_count": 18,
   "source": [
    "sns.heatmap(confusion_matrix, annot=True, fmt='g')"
   ],
   "outputs": [
    {
     "output_type": "execute_result",
     "data": {
      "text/plain": [
       "<matplotlib.axes._subplots.AxesSubplot at 0x7f5526da1550>"
      ]
     },
     "metadata": {},
     "execution_count": 18
    },
    {
     "output_type": "display_data",
     "data": {
      "text/plain": [
       "<Figure size 432x288 with 2 Axes>"
      ],
      "image/png": "[encoded data removed]"
     },
     "metadata": {
      "needs_background": "light"
     }
    }
   ],
   "metadata": {}
  },
  {
   "cell_type": "markdown",
   "source": [
    "## Saving into DF then CSV"
   ],
   "metadata": {}
  },
  {
   "cell_type": "code",
   "execution_count": 19,
   "source": [
    "result_df = pd.DataFrame(results, columns=header)\n",
    "result_df"
   ],
   "outputs": [
    {
     "output_type": "execute_result",
     "data": {
      "text/plain": [
       "       model_name  clas_acc        dp   deqodds    deqopp  trade_dp  \\\n",
       "0  UnfairLR-decay   0.84887  0.803198  0.876859  0.840694  0.825402   \n",
       "1        UnfairLR   0.82879  0.817964  0.914832  0.918582  0.823341   \n",
       "\n",
       "   trade_deqodds  trade_deqopp   TN_a0  FP_a0  FN_a0  TP_a0   TN_a1  FP_a1  \\\n",
       "0       0.862638      0.844762  4286.0   64.0  301.0  256.0  6281.0  711.0   \n",
       "1       0.869688      0.871379  4175.0  175.0  264.0  293.0  6089.0  903.0   \n",
       "\n",
       "    FN_a1   TP_a1  \n",
       "0  1197.0  1944.0  \n",
       "1  1233.0  1908.0  "
      ],
      "text/html": [
       "<div>\n",
       "<style scoped>\n",
       "    .dataframe tbody tr th:only-of-type {\n",
       "        vertical-align: middle;\n",
       "    }\n",
       "\n",
       "    .dataframe tbody tr th {\n",
       "        vertical-align: top;\n",
       "    }\n",
       "\n",
       "    .dataframe thead th {\n",
       "        text-align: right;\n",
       "    }\n",
       "</style>\n",
       "<table border=\"1\" class=\"dataframe\">\n",
       "  <thead>\n",
       "    <tr style=\"text-align: right;\">\n",
       "      <th></th>\n",
       "      <th>model_name</th>\n",
       "      <th>clas_acc</th>\n",
       "      <th>dp</th>\n",
       "      <th>deqodds</th>\n",
       "      <th>deqopp</th>\n",
       "      <th>trade_dp</th>\n",
       "      <th>trade_deqodds</th>\n",
       "      <th>trade_deqopp</th>\n",
       "      <th>TN_a0</th>\n",
       "      <th>FP_a0</th>\n",
       "      <th>FN_a0</th>\n",
       "      <th>TP_a0</th>\n",
       "      <th>TN_a1</th>\n",
       "      <th>FP_a1</th>\n",
       "      <th>FN_a1</th>\n",
       "      <th>TP_a1</th>\n",
       "    </tr>\n",
       "  </thead>\n",
       "  <tbody>\n",
       "    <tr>\n",
       "      <th>0</th>\n",
       "      <td>UnfairLR-decay</td>\n",
       "      <td>0.84887</td>\n",
       "      <td>0.803198</td>\n",
       "      <td>0.876859</td>\n",
       "      <td>0.840694</td>\n",
       "      <td>0.825402</td>\n",
       "      <td>0.862638</td>\n",
       "      <td>0.844762</td>\n",
       "      <td>4286.0</td>\n",
       "      <td>64.0</td>\n",
       "      <td>301.0</td>\n",
       "      <td>256.0</td>\n",
       "      <td>6281.0</td>\n",
       "      <td>711.0</td>\n",
       "      <td>1197.0</td>\n",
       "      <td>1944.0</td>\n",
       "    </tr>\n",
       "    <tr>\n",
       "      <th>1</th>\n",
       "      <td>UnfairLR</td>\n",
       "      <td>0.82879</td>\n",
       "      <td>0.817964</td>\n",
       "      <td>0.914832</td>\n",
       "      <td>0.918582</td>\n",
       "      <td>0.823341</td>\n",
       "      <td>0.869688</td>\n",
       "      <td>0.871379</td>\n",
       "      <td>4175.0</td>\n",
       "      <td>175.0</td>\n",
       "      <td>264.0</td>\n",
       "      <td>293.0</td>\n",
       "      <td>6089.0</td>\n",
       "      <td>903.0</td>\n",
       "      <td>1233.0</td>\n",
       "      <td>1908.0</td>\n",
       "    </tr>\n",
       "  </tbody>\n",
       "</table>\n",
       "</div>"
      ]
     },
     "metadata": {},
     "execution_count": 19
    }
   ],
   "metadata": {}
  },
  {
   "cell_type": "code",
   "execution_count": 20,
   "source": [
    "result_df.to_csv('results/test_unfair_lr-100.csv')"
   ],
   "outputs": [],
   "metadata": {}
  }
 ],
 "metadata": {
  "kernelspec": {
   "name": "python3",
   "display_name": "Python 3.8.5 64-bit ('falsb': conda)"
  },
  "language_info": {
   "codemirror_mode": {
    "name": "ipython",
    "version": 3
   },
   "file_extension": ".py",
   "mimetype": "text/x-python",
   "name": "python",
   "nbconvert_exporter": "python",
   "pygments_lexer": "ipython3",
   "version": "3.8.5"
  },
  "metadata": {
   "interpreter": {
    "hash": "34ca74ed6235dfc7dda926bb3adb31e801e3d02679121d5b444ee035e270bd57"
   }
  },
  "interpreter": {
   "hash": "34ca74ed6235dfc7dda926bb3adb31e801e3d02679121d5b444ee035e270bd57"
  }
 },
 "nbformat": 4,
 "nbformat_minor": 4
}